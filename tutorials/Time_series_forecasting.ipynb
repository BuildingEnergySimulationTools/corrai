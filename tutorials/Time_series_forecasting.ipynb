{
 "cells": [
  {
   "cell_type": "code",
   "execution_count": null,
   "id": "50880702abcbdcdc",
   "metadata": {
    "ExecuteTime": {
     "end_time": "2023-12-21T14:07:53.233114600Z",
     "start_time": "2023-12-21T14:07:52.668141100Z"
    }
   },
   "outputs": [],
   "source": [
    "%load_ext autoreload\n",
    "%autoreload 2"
   ]
  },
  {
   "cell_type": "code",
   "execution_count": null,
   "id": "initial_id",
   "metadata": {
    "ExecuteTime": {
     "end_time": "2023-12-21T14:07:58.498747Z",
     "start_time": "2023-12-21T14:07:53.220026500Z"
    }
   },
   "outputs": [],
   "source": [
    "import numpy as np\n",
    "import pandas as pd\n",
    "from pathlib import Path\n",
    "import os\n",
    "from corrai.measure import MeasuredDats\n",
    "from copy import deepcopy\n",
    "import plotly.io as pio\n",
    "\n",
    "pio.renderers.default = \"browser\""
   ]
  },
  {
   "cell_type": "markdown",
   "id": "5926bd05022e47ca",
   "metadata": {
    "collapsed": false
   },
   "source": [
    "# Time series forecasting"
   ]
  },
  {
   "cell_type": "markdown",
   "id": "a968da07551c7346",
   "metadata": {
    "collapsed": false
   },
   "source": [
    "This tutorial guides you through the process of training a Machine Learning (ML) model in order to predict at short term ~6h the electricity consumption of a tertiary building office equipments. \n",
    "\n",
    "The tutorial will follow these big steps:\n",
    "- Load the raw data provided by the Building Energy Monitoring System (BEMS)\n",
    "- Use the Corrai object <code>MeasureDats</code> to pre-process, clean, and visualize the data\n",
    "- Train several ML model, select the most appropriate and tune its hyper parameters\n",
    "- Assess and discuss the model performance\n",
    "- Wrap the model and the processing pipes for production"
   ]
  },
  {
   "cell_type": "markdown",
   "id": "29ccf80139e72cef",
   "metadata": {
    "collapsed": false
   },
   "source": [
    "# Visualise the data"
   ]
  },
  {
   "cell_type": "markdown",
   "id": "a5124961fd4cd0d0",
   "metadata": {
    "collapsed": false
   },
   "source": [
    "The data are coming from an electrical energy meter that returns an increasing index in kWh. The timestep is variable between 11 min and 22min. The electric equipments are office equipment, and probably some lab equipments\n",
    "\n",
    "First lets load the csv file containing a single column of data using Pandas"
   ]
  },
  {
   "cell_type": "code",
   "execution_count": null,
   "id": "d8ccfee681486f5d",
   "metadata": {
    "ExecuteTime": {
     "end_time": "2023-12-21T14:07:58.701603800Z",
     "start_time": "2023-12-21T14:07:58.499745300Z"
    }
   },
   "outputs": [],
   "source": [
    "data_df = pd.read_csv(Path(os.getcwd()) / \"resources/compteur_elec.csv\", index_col=0, sep=';')\n",
    "data_df.index = pd.to_datetime(data_df.index, format='mixed', utc=True)\n",
    "data_df = data_df.loc[\"2023-01-01 00:00:00\":, :]"
   ]
  },
  {
   "cell_type": "markdown",
   "id": "41de1bf4c94a359e",
   "metadata": {
    "collapsed": false
   },
   "source": [
    "Lets use the <code>DataFrame</code> <code>info()</code> method to get some insights "
   ]
  },
  {
   "cell_type": "code",
   "execution_count": null,
   "id": "e37043a29ba9a80d",
   "metadata": {
    "ExecuteTime": {
     "end_time": "2023-12-21T14:07:58.775483100Z",
     "start_time": "2023-12-21T14:07:58.703596200Z"
    }
   },
   "outputs": [],
   "source": [
    "data_df.info()"
   ]
  },
  {
   "cell_type": "markdown",
   "id": "e561683e4aee6756",
   "metadata": {
    "collapsed": false
   },
   "source": [
    "It looks that data are available from the 2022-12-09 to the 2023-11-22 (in order to get full days).\n",
    "It also looks that among the 22992 entries, none are Nan. This is good news\n",
    "\n",
    "We will use the <code>MeasureDats</code> object to get a visual representation and try to identify the gaps that will be annoying (greater than 3h, where a linear the interpolation may become \"dangerous\").\n",
    "\n",
    "_Note : this is a bit of a misuse of MeasureDats. For a proper introduction to the class, see the corresponding tutorial_    "
   ]
  },
  {
   "cell_type": "code",
   "execution_count": null,
   "id": "acdb6cb5bb38eb03",
   "metadata": {
    "ExecuteTime": {
     "end_time": "2023-12-21T14:07:58.843736500Z",
     "start_time": "2023-12-21T14:07:58.774784900Z"
    }
   },
   "outputs": [],
   "source": [
    "my_data = MeasuredDats(data_df)"
   ]
  },
  {
   "cell_type": "code",
   "execution_count": null,
   "id": "cccbcb174ebb2620",
   "metadata": {
    "ExecuteTime": {
     "end_time": "2023-12-21T14:07:59.529148100Z",
     "start_time": "2023-12-21T14:07:58.845062300Z"
    }
   },
   "outputs": [],
   "source": [
    "my_data.plot_gaps(gaps_timestep=\"3H\")"
   ]
  },
  {
   "cell_type": "code",
   "execution_count": null,
   "id": "7420fd6d76fe2e9c",
   "metadata": {
    "ExecuteTime": {
     "end_time": "2023-12-21T14:07:59.644432100Z",
     "start_time": "2023-12-21T14:07:59.531676200Z"
    }
   },
   "outputs": [],
   "source": [
    "my_data.get_gaps_description(gaps_timedelta='3H')"
   ]
  },
  {
   "cell_type": "markdown",
   "id": "7f8c806ef98e043c",
   "metadata": {
    "collapsed": false
   },
   "source": [
    "- A total of 5 gaps greater than 3h minutes were found.\n",
    "- The greater gap is 4 days long\n",
    "\n",
    "This is not bad for nearly a full year of data\n",
    "\n",
    "We can go a bit further and get the date of the gaps"
   ]
  },
  {
   "cell_type": "code",
   "execution_count": null,
   "id": "2c10cdeb67d6eda3",
   "metadata": {
    "ExecuteTime": {
     "end_time": "2023-12-21T14:07:59.789303500Z",
     "start_time": "2023-12-21T14:07:59.639677900Z"
    }
   },
   "outputs": [],
   "source": [
    "from corrai.measure import find_gaps"
   ]
  },
  {
   "cell_type": "code",
   "execution_count": null,
   "id": "6ad604027bb2ff0c",
   "metadata": {
    "ExecuteTime": {
     "end_time": "2023-12-21T14:07:59.863853900Z",
     "start_time": "2023-12-21T14:07:59.741060600Z"
    }
   },
   "outputs": [],
   "source": [
    "find_gaps(data_df, timestep='3h')"
   ]
  },
  {
   "cell_type": "markdown",
   "id": "1fc0c25b4d69215",
   "metadata": {
    "collapsed": false
   },
   "source": [
    "Given this results, we will probably trash the following periods:\n",
    "- __2023-04-07__ : 16h is to long for interpolation\n",
    "- __2023-05-19 to 2023-05-29__ : we choose to trash a full period. As we will see later, we are going to build sequences to train the ML models. Gaps will introduce errors, so we want to limit there number. It is better to throw away some good days\n",
    "- __2023-10-28 to 2023-10-30__ : the gap span over these two days\n",
    "\n",
    "Moreover, the previous figure showed an anomaly with the energy meter returning a negative value. This shall be removed*"
   ]
  },
  {
   "cell_type": "markdown",
   "id": "8026ee238fde92c4",
   "metadata": {
    "collapsed": false
   },
   "source": [
    "⚠️ __WARNING__ ⚠️\n",
    "Before going any further, we propose to split the dataset in 3 parts : __training, validation, testing__.\n",
    "We will not even look at the testing sample during the ML training process.\n",
    "This will avoid to introduce bias that could artificially improve our models performance.\n",
    "For example, when fitting transformers on the full Dataset, we involuntary introduce knowledge on the data we later try to predict.\n",
    "The test sample will only be used to evaluate the model performance\n",
    "\n",
    "We proppose the following repartition : __80% training, 10% validation, 10% testing__\n",
    "\n",
    "Moreover we will not shuffle the dataset before splitting it. We are working with time series so the data are coherent chronologically. The training dataset will corespond to the beginning of the year, while the testing will correspond to the end.\n",
    "Although doing so, there might be a seasonal effect that it is not taken into account, it is better to have a coherent sequence and not random fragments of time series\n",
    "This could lead a major issue if the data had seasonal trend. But we will see later that it is not the case.\n",
    " "
   ]
  },
  {
   "cell_type": "code",
   "execution_count": null,
   "id": "bc037dee74ef1496",
   "metadata": {
    "ExecuteTime": {
     "end_time": "2023-12-21T14:07:59.970167Z",
     "start_time": "2023-12-21T14:07:59.852624500Z"
    }
   },
   "outputs": [],
   "source": [
    "data_size = data_df.shape[0]\n",
    "train_raw_df = data_df.iloc[:int(data_size*0.8), :].copy()\n",
    "train_raw_df = train_raw_df.loc[:\"2023-05-01\", :]\n",
    "valid_raw_df = data_df.iloc[int(data_size*0.8):int(data_size*0.9), :].copy()\n",
    "tests_raw_df = data_df.iloc[int(data_size*0.9):, :].copy()"
   ]
  },
  {
   "cell_type": "markdown",
   "id": "44bae2d36639264f",
   "metadata": {
    "collapsed": false
   },
   "source": [
    "# Clean the data"
   ]
  },
  {
   "cell_type": "markdown",
   "id": "ca6f82ffcaa66079",
   "metadata": {
    "collapsed": false
   },
   "source": [
    "The energy meter data returns a monotonously increasing time series.\n",
    "However we would like to have the electric energy rate [W] absorbed by the equipments.\n",
    "We propose the following transformations to process the time series :\n",
    "- remove negative values\n",
    "- convert the kWh to Joules\n",
    "- apply time gradient\n",
    "- Fill in the small gaps (<=3h) using linear interpolation\n",
    "- Apply Back filling and Front filling operation to make sure no Nan value are present at the beginning and at the and of the time series\n",
    "- Resample the timeseries to get a constant 15 min timestep\n",
    "- The resampling introduced new gaps, when the timestep was greater than 15min. Fill them using linear interpolation again.\n",
    "\n",
    "To easily generate the pipeline and visualise its effect, we use the <code>common_transformations</code> of the <code>MeasureDats</code>. We define a single transformation process called ... <code>process</code>"
   ]
  },
  {
   "cell_type": "code",
   "execution_count": null,
   "id": "b3652aac0490c61",
   "metadata": {
    "ExecuteTime": {
     "end_time": "2023-12-21T14:08:00.269139200Z",
     "start_time": "2023-12-21T14:07:59.948669300Z"
    }
   },
   "outputs": [],
   "source": [
    "from corrai.measure import Transformer, AGG_METHOD_MAP, AggMethod"
   ]
  },
  {
   "cell_type": "code",
   "execution_count": null,
   "id": "2c8b0b2a835f111d",
   "metadata": {
    "ExecuteTime": {
     "end_time": "2023-12-21T14:08:00.289253300Z",
     "start_time": "2023-12-21T14:08:00.079231600Z"
    }
   },
   "outputs": [],
   "source": [
    "train_md = MeasuredDats(train_raw_df)"
   ]
  },
  {
   "cell_type": "code",
   "execution_count": null,
   "id": "4e8b0224710490e9",
   "metadata": {
    "ExecuteTime": {
     "end_time": "2023-12-21T14:08:00.310159600Z",
     "start_time": "2023-12-21T14:08:00.172221300Z"
    }
   },
   "outputs": [],
   "source": [
    "train_md.common_trans = {\n",
    "    \"Process\": [\n",
    "        [Transformer.DROP_THRESHOLD, {'lower': 0}],\n",
    "        [Transformer.APPLY_EXPRESSION, {\"expression\": \"X * 1000 * 3600\"}],\n",
    "        [Transformer.TIME_GRADIENT, {}],\n",
    "        [Transformer.INTERPOLATE, {\"method\": \"linear\"}],\n",
    "        [Transformer.BFILL, {}],\n",
    "        [Transformer.FFILL, {}],\n",
    "        [Transformer.RESAMPLE, {\"rule\": \"15T\", \"method\": AGG_METHOD_MAP[AggMethod.MEAN]}],\n",
    "        [Transformer.INTERPOLATE, {\"method\": \"linear\"}],\n",
    "        [Transformer.GAUSSIAN_FILTER, {\"sigma\":2}]        \n",
    "    ]\n",
    "}\n",
    "\n",
    "train_md.transformers_list = [\"Process\"]"
   ]
  },
  {
   "cell_type": "markdown",
   "id": "ecf06afe4199216d",
   "metadata": {
    "collapsed": false
   },
   "source": [
    "Lets see the effect of the pipe !"
   ]
  },
  {
   "cell_type": "code",
   "execution_count": null,
   "id": "ce8ec2c04137fea5",
   "metadata": {
    "ExecuteTime": {
     "end_time": "2023-12-21T14:08:00.460878800Z",
     "start_time": "2023-12-21T14:08:00.273845500Z"
    }
   },
   "outputs": [],
   "source": [
    "dummy = MeasuredDats(train_md.get_corrected_data().copy())"
   ]
  },
  {
   "cell_type": "code",
   "execution_count": null,
   "id": "946956e5963d8989",
   "metadata": {
    "ExecuteTime": {
     "end_time": "2023-12-21T14:08:00.828508100Z",
     "start_time": "2023-12-21T14:08:00.465685800Z"
    }
   },
   "outputs": [],
   "source": [
    "dummy.common_trans = {\n",
    "    \"Process\": [\n",
    "        [Transformer.GAUSSIAN_FILTER, {}]\n",
    "    ]\n",
    "}\n",
    "dummy.transformers_list = [\"Process\"]"
   ]
  },
  {
   "cell_type": "code",
   "execution_count": null,
   "id": "3c377300bbc2dd60",
   "metadata": {
    "ExecuteTime": {
     "end_time": "2023-12-21T14:08:01.372379300Z",
     "start_time": "2023-12-21T14:08:00.593621700Z"
    }
   },
   "outputs": [],
   "source": [
    "dummy.plot(plot_raw=True)"
   ]
  },
  {
   "cell_type": "code",
   "execution_count": null,
   "id": "2a61686d231e0c59",
   "metadata": {
    "ExecuteTime": {
     "end_time": "2023-12-21T14:08:01.906164500Z",
     "start_time": "2023-12-21T14:08:01.362590500Z"
    }
   },
   "outputs": [],
   "source": [
    "train_md.plot()"
   ]
  },
  {
   "cell_type": "markdown",
   "id": "29a527e903a2389b",
   "metadata": {
    "collapsed": false
   },
   "source": [
    "It really looks good ! We can make the following observation :\n",
    "- There is a weekly pattern with fewer consumption during the weekends\n",
    "- There is a daily pattern, the energy rate starts to increase around 6 o clock and drops around 17h\n",
    "- For an unknown reason, there seem to be a pattern of period ~2h. It could be chiller, for a server local for exemple\n",
    "- It's not very clear, but the energy rate demand seem to increase slightly during the cold months\n",
    "- There seem to be a holiday period from the 25 December to the 2nd of january\n",
    "\n",
    "We can also see the gaps in the data. For example, if you try to zoom in on the second half of the month of May, you should see straight lines corresponding the linear interpolation. Lets remove them."
   ]
  },
  {
   "cell_type": "code",
   "execution_count": null,
   "id": "e4cca49bfa1cc117",
   "metadata": {
    "ExecuteTime": {
     "end_time": "2023-12-21T14:08:01.990489300Z",
     "start_time": "2023-12-21T14:08:01.862058800Z"
    }
   },
   "outputs": [],
   "source": [
    "def drop_list_of_day(df, list_of_day):\n",
    "    \"\"\"\n",
    "    Drops rows from a pandas DataFrame based on a list of specific days.\n",
    "    Parameters:\n",
    "    - df (pd.DataFrame): The input DataFrame from which rows will be dropped.\n",
    "    - list_of_day (list): A list of dates in string format ('YYYY-MM-DD') representing the days to be dropped.\n",
    "    \"\"\"\n",
    "    days_to_drop_dt = pd.to_datetime(list_of_day, errors='coerce')\n",
    "    return df[~df.index.strftime('%Y-%m-%d').isin(days_to_drop_dt.strftime('%Y-%m-%d'))]"
   ]
  },
  {
   "cell_type": "code",
   "execution_count": null,
   "id": "e03fc55118ea5571",
   "metadata": {
    "ExecuteTime": {
     "end_time": "2023-12-21T14:08:02.185115700Z",
     "start_time": "2023-12-21T14:08:01.991815Z"
    }
   },
   "outputs": [],
   "source": [
    "# List of full days to drop\n",
    "days_to_drop_train = [\n",
    "    \"2023-04-06\",\n",
    "    \"2023-04-07\",\n",
    "    \"2023-05-19\",\n",
    "    \"2023-05-20\",\n",
    "    \"2023-05-21\",\n",
    "    \"2023-05-22\",\n",
    "    \"2023-05-23\",\n",
    "    \"2023-05-24\",\n",
    "    \"2023-05-25\",\n",
    "    \"2023-05-26\",\n",
    "    \"2023-05-27\",\n",
    "    \"2023-05-28\",\n",
    "    \"2023-05-29\",\n",
    "]\n",
    "days_to_drop_test = [\n",
    "    \"2023-10-28\",\n",
    "    \"2023-10-29\",\n",
    "    \"2023-10-30\",\n",
    "]\n",
    "\n",
    "train_raw_df = drop_list_of_day(train_raw_df, days_to_drop_train).copy()\n",
    "tests_raw_df = drop_list_of_day(tests_raw_df, days_to_drop_test).copy()"
   ]
  },
  {
   "cell_type": "code",
   "execution_count": null,
   "id": "9327d44b7f885207",
   "metadata": {
    "ExecuteTime": {
     "end_time": "2023-12-21T14:08:02.284805400Z",
     "start_time": "2023-12-21T14:08:02.186120500Z"
    }
   },
   "outputs": [],
   "source": [
    "# train_df_list = [train_raw_df.loc[\"2023-01-01\": \"2023-05-01\"],\n",
    "#                  train_raw_df.loc[\"2023-06-04\":, :]]"
   ]
  },
  {
   "cell_type": "markdown",
   "id": "e16408518892d657",
   "metadata": {
    "collapsed": false
   },
   "source": [
    "# Feature engineering"
   ]
  },
  {
   "cell_type": "markdown",
   "id": "7f25ab46ab156763",
   "metadata": {
    "collapsed": false
   },
   "source": [
    "We could only use the time series, split it into sequences 18h for example, and try to predict the next 6 hours based on the twelve previous. \n",
    "This is a classic auto regression approach like ARIMA. We tried, and got pretty bad results...\n",
    "\n",
    "In this chapter, we try to add information by creating new features, based on the observation of the time series. "
   ]
  },
  {
   "cell_type": "markdown",
   "id": "ac0bbaf0144fb05a",
   "metadata": {
    "collapsed": false
   },
   "source": [
    "## People"
   ]
  },
  {
   "cell_type": "markdown",
   "id": "d59fbf7db3af245",
   "metadata": {
    "collapsed": false
   },
   "source": [
    "Looking at the data, it seem obvious that the electric power rate is related to the building occupancy.\n",
    "In the previous plot you can easily identify the weekend, the days of the week, and even when occupants start or leave every day.\n",
    "How ? Because you identify at least two behaviour, with high power demand, and with low power demand fluctuations.\n",
    "Let's see if we can create a feature that indicates people presence in the building.\n",
    "\n",
    "To do this, we will use <code>KdeSetpointIdentificator</code> object.\n",
    "To help it find spots, we will smooth the data using a <code>PdGaussianFilter1D</code>"
   ]
  },
  {
   "cell_type": "code",
   "execution_count": null,
   "id": "6617cd5ab8214a6",
   "metadata": {
    "ExecuteTime": {
     "end_time": "2023-12-21T14:08:04.467303600Z",
     "start_time": "2023-12-21T14:08:02.287763Z"
    }
   },
   "outputs": [],
   "source": [
    "from sklearn.pipeline import make_pipeline\n",
    "from sklearn.preprocessing import StandardScaler\n",
    "from corrai.transformers import PdSkTransformer, PdGaussianFilter1D\n",
    "from corrai.learning.cluster import KdeSetPointIdentificator, plot_kde_set_point, plot_time_series_kde\n",
    "\n",
    "kde_pipe = make_pipeline(\n",
    "    PdSkTransformer(StandardScaler()),\n",
    "    PdGaussianFilter1D(sigma=4),\n",
    "    KdeSetPointIdentificator(lik_filter=0.5, cluster_tol=0.3),\n",
    ")"
   ]
  },
  {
   "cell_type": "markdown",
   "id": "eed880ff50ef8e1f",
   "metadata": {
    "collapsed": false
   },
   "source": [
    "Let's fit this transformers on the training data."
   ]
  },
  {
   "cell_type": "code",
   "execution_count": null,
   "id": "202222c3fc99e797",
   "metadata": {
    "ExecuteTime": {
     "end_time": "2023-12-21T14:08:05.231209Z",
     "start_time": "2023-12-21T14:08:04.458609700Z"
    }
   },
   "outputs": [],
   "source": [
    "kde_pipe.fit(train_md.get_corrected_data())"
   ]
  },
  {
   "cell_type": "code",
   "execution_count": null,
   "id": "aca328b11024a50",
   "metadata": {
    "ExecuteTime": {
     "end_time": "2023-12-21T14:08:06.675326200Z",
     "start_time": "2023-12-21T14:08:05.228090Z"
    }
   },
   "outputs": [],
   "source": [
    "plot_kde_set_point(train_md.get_corrected_data(), estimator=kde_pipe)"
   ]
  },
  {
   "cell_type": "markdown",
   "id": "ad128a1d1ac61d4a",
   "metadata": {
    "collapsed": false
   },
   "source": [
    "It is not bad. It seems that the kde_pipe did a good job at identifying nights, weekends and holidays !\n",
    "\n",
    "To create a feature from this transformer, we wrap it into a function.\n",
    "It will use the predict method to create a time series equal to 0 when it identifies near 0 values (nights and weekends), \n",
    "and -1 when it identify fast changes."
   ]
  },
  {
   "cell_type": "code",
   "execution_count": null,
   "id": "ac07c3f5b8169368",
   "metadata": {
    "ExecuteTime": {
     "end_time": "2023-12-21T14:08:06.772215100Z",
     "start_time": "2023-12-21T14:08:06.675823100Z"
    }
   },
   "outputs": [],
   "source": [
    "def is_people(X) -> pd.DataFrame:\n",
    "    X[\"is_people\"] = kde_pipe.fit_predict(X.dropna())\n",
    "    return X"
   ]
  },
  {
   "cell_type": "markdown",
   "id": "fa476ce889b8137b",
   "metadata": {
    "collapsed": false
   },
   "source": [
    "Let's add this to the <code>MeasuredDats</code> pipe, to start building the full preprocessing pipe.\n",
    "We also add a <code>StandardScaler</code> as it is good practice in machine learning process (it reduces the \"distance\" between the features and helps for convergence)"
   ]
  },
  {
   "cell_type": "code",
   "execution_count": null,
   "id": "d8fc9a4f2da73fa3",
   "metadata": {
    "ExecuteTime": {
     "end_time": "2023-12-21T14:08:06.867298300Z",
     "start_time": "2023-12-21T14:08:06.774061200Z"
    }
   },
   "outputs": [],
   "source": [
    "from sklearn.preprocessing import FunctionTransformer\n",
    "\n",
    "preprocess_pipeline = deepcopy(train_md.get_pipeline())\n",
    "preprocess_pipeline.steps.extend([\n",
    "    (\"Scaler\", PdSkTransformer(StandardScaler())),\n",
    "    (\"People_schedule\", FunctionTransformer(func=is_people))\n",
    "])   "
   ]
  },
  {
   "cell_type": "markdown",
   "id": "8cccf5ead01afee2",
   "metadata": {
    "collapsed": false
   },
   "source": [
    "you can visualize the new feature using a dummy <code>MeasuredDats</code> object "
   ]
  },
  {
   "cell_type": "code",
   "execution_count": null,
   "id": "ca994d37c2cd9ff8",
   "metadata": {
    "ExecuteTime": {
     "end_time": "2023-12-21T14:08:08.182512800Z",
     "start_time": "2023-12-21T14:08:06.869155700Z"
    }
   },
   "outputs": [],
   "source": [
    "dummy_md = MeasuredDats(preprocess_pipeline.fit_transform(train_raw_df))\n",
    "dummy_md.plot()"
   ]
  },
  {
   "cell_type": "markdown",
   "id": "49786318b82556a0",
   "metadata": {
    "collapsed": false
   },
   "source": [
    "## Fourier pairs"
   ]
  },
  {
   "cell_type": "markdown",
   "id": "58be0e4bd3b7a6ae",
   "metadata": {
    "collapsed": false
   },
   "source": [
    "One of the common solutions to help the model learn, consists in adding sine wave at the desired frequency. Here is an example : https://www.tensorflow.org/tutorials/structured_data/time_series\n",
    "You can see these new time series as additional coordinate for the data points. It will make the measure happening at the same time of the day or at the same day of the week closer.\n",
    "\n",
    "For practical reason, we will \"automate\" the addition of these sine waves time series using transformers, and the <code>MeasureDats</code> pipeline\n",
    "\n",
    "We use a periodgram to show us the energy_signal harmonics\n",
    "\n",
    "_Note that Electricity_index_kWh is no longer kWh but W. Since we transformed it. However the feature name remains. This is not very clean_ "
   ]
  },
  {
   "cell_type": "code",
   "execution_count": null,
   "id": "12cca672f0b7a19f",
   "metadata": {
    "ExecuteTime": {
     "end_time": "2023-12-21T14:08:15.769182500Z",
     "start_time": "2023-12-21T14:08:08.183009800Z"
    }
   },
   "outputs": [],
   "source": [
    "from corrai.learning.time_series import plot_periodogram"
   ]
  },
  {
   "cell_type": "code",
   "execution_count": null,
   "id": "4ff42f6d3d1f459",
   "metadata": {
    "ExecuteTime": {
     "end_time": "2023-12-21T14:08:16.853118400Z",
     "start_time": "2023-12-21T14:08:15.773147300Z"
    }
   },
   "outputs": [],
   "source": [
    "plot_periodogram(preprocess_pipeline.fit_transform(train_raw_df)[\"Electricity_index_kWh\"])"
   ]
  },
  {
   "cell_type": "markdown",
   "id": "6745d858dae25406",
   "metadata": {
    "collapsed": false
   },
   "source": [
    "We identify 4 harmonics :\n",
    "- weekly and daily pattern are confirm by the periodgram\n",
    "- we will also use semi weekly  1 / 313 year and 1 / 1095 year"
   ]
  },
  {
   "cell_type": "code",
   "execution_count": null,
   "id": "cdfdd753d572654a",
   "metadata": {
    "ExecuteTime": {
     "end_time": "2023-12-21T14:08:17.063749Z",
     "start_time": "2023-12-21T14:08:16.860410600Z"
    }
   },
   "outputs": [],
   "source": [
    "year_second = 365 * 24 *3600"
   ]
  },
  {
   "cell_type": "code",
   "execution_count": null,
   "id": "f7c7540bebeeaa8",
   "metadata": {
    "ExecuteTime": {
     "end_time": "2023-12-21T14:08:17.269657800Z",
     "start_time": "2023-12-21T14:08:17.064245200Z"
    }
   },
   "outputs": [],
   "source": [
    "from corrai.transformers import PdAddFourierPairs"
   ]
  },
  {
   "cell_type": "code",
   "execution_count": null,
   "id": "9df576981474e1d9",
   "metadata": {
    "ExecuteTime": {
     "end_time": "2023-12-21T14:08:17.464936Z",
     "start_time": "2023-12-21T14:08:17.270154100Z"
    }
   },
   "outputs": [],
   "source": [
    "def weekday_encoding(X) -> pd.DataFrame:\n",
    "    X[\"is_working_day\"] = X.index.to_series().apply(\n",
    "        lambda X: 1 if X.weekday() < 5 else 0\n",
    "    )\n",
    "    return X"
   ]
  },
  {
   "cell_type": "code",
   "execution_count": null,
   "id": "f69661e19785b90c",
   "metadata": {
    "ExecuteTime": {
     "end_time": "2023-12-21T14:08:17.648723Z",
     "start_time": "2023-12-21T14:08:17.464936Z"
    }
   },
   "outputs": [],
   "source": [
    "preprocess_pipeline.steps.extend([\n",
    "        ('week_day', PdSkTransformer(FunctionTransformer(func=weekday_encoding))),\n",
    "        ('week', PdAddFourierPairs(frequency=1 / (7 * 24 * 3600), feature_prefix=\"week\")),\n",
    "        ('1/2week', PdAddFourierPairs(frequency=1 / (3.5 * 24 * 3600), feature_prefix=\"1/2week\")),\n",
    "        ('day', PdAddFourierPairs(frequency=1 / (1 * 24 * 3600), feature_prefix=\"day\")),\n",
    "        ('6h', PdAddFourierPairs(frequency=1 / (6 * 3600), feature_prefix=\"6h\")),\n",
    "        ('3h', PdAddFourierPairs(frequency=1 / (3 * 3600), feature_prefix=\"3h\"))\n",
    "])"
   ]
  },
  {
   "cell_type": "markdown",
   "id": "826bcb887a30e415",
   "metadata": {
    "collapsed": false
   },
   "source": [
    "In a jupyter Notebook, you can easily get a graphical representation of your pipeline"
   ]
  },
  {
   "cell_type": "code",
   "execution_count": null,
   "id": "abcb3784bc1c425c",
   "metadata": {
    "ExecuteTime": {
     "end_time": "2023-12-21T14:08:17.835793200Z",
     "start_time": "2023-12-21T14:08:17.650151Z"
    }
   },
   "outputs": [],
   "source": [
    "preprocess_pipeline"
   ]
  },
  {
   "cell_type": "markdown",
   "id": "e83b29dd75dcd469",
   "metadata": {
    "collapsed": false
   },
   "source": [
    "Now lets transform our training and validation samples"
   ]
  },
  {
   "cell_type": "code",
   "execution_count": null,
   "id": "2acc5445776dee7d",
   "metadata": {
    "ExecuteTime": {
     "end_time": "2023-12-21T14:08:18.848865600Z",
     "start_time": "2023-12-21T14:08:17.831509200Z"
    }
   },
   "outputs": [],
   "source": [
    "train_df = preprocess_pipeline.fit_transform(train_raw_df)\n",
    "valid_df = preprocess_pipeline.transform(valid_raw_df)"
   ]
  },
  {
   "cell_type": "markdown",
   "id": "869a9c884434ee03",
   "metadata": {
    "collapsed": false
   },
   "source": [
    "You can use the correlation Matrix to see how the new features explains the Electric power rate we are trying to predict.\n",
    "- \"is_people\" feature seem to bring a lot of information\n",
    "- 8.67E-11 frequencies are not very useful.\n",
    " "
   ]
  },
  {
   "cell_type": "code",
   "execution_count": null,
   "id": "b0206a8f3788e4d9",
   "metadata": {
    "ExecuteTime": {
     "end_time": "2023-12-21T14:08:19.044382600Z",
     "start_time": "2023-12-21T14:08:18.850858800Z"
    }
   },
   "outputs": [],
   "source": [
    "abs(train_df.corr())"
   ]
  },
  {
   "cell_type": "markdown",
   "id": "48c7b46bf4063bd5",
   "metadata": {
    "collapsed": false
   },
   "source": [
    "# Time Series Sampling"
   ]
  },
  {
   "cell_type": "markdown",
   "id": "61dd4f488670d6d7",
   "metadata": {
    "collapsed": false
   },
   "source": [
    "Our objective is to predict the future. We would like to know the energy rate absorbed by the equipments in the next 6h, based on the previous timesteps.\n",
    "To know how many timestep we need to look back, we need to know how the time series is auto correlated.\n",
    "\n",
    "We use the <code>statsmodels plot_pacf</code> to vizualise it "
   ]
  },
  {
   "cell_type": "code",
   "execution_count": null,
   "id": "240c3596a6dda882",
   "metadata": {
    "ExecuteTime": {
     "end_time": "2023-12-21T14:08:19.578081100Z",
     "start_time": "2023-12-21T14:08:19.042376800Z"
    }
   },
   "outputs": [],
   "source": [
    "from statsmodels.graphics.tsaplots import plot_pacf\n",
    "plot_pacf(train_df[\"Electricity_index_kWh\"])"
   ]
  },
  {
   "cell_type": "markdown",
   "id": "2835399107d40bae",
   "metadata": {
    "collapsed": false
   },
   "source": [
    "\n",
    "Based one this results, we will use the 34 last time steps (11h) to predict the next 6h\n",
    "\n",
    "To do this, we train Machine learning model using short sequence of the time series.\n",
    "- Features are the last 11h : energy rate, people, sine waves.\n",
    "- The target will be the next 6h energy rate  \n",
    "\n",
    "For example, the timeseries :\n",
    "\n",
    "[0, 1, 2, 3, 4, 5, 6, 7, 8, 9, 10]\n",
    "\n",
    "with a <code>sequence_length = 5</code> and <code>sampling_rate = 1</code>  will become:\n",
    "\n",
    "[0, 1, 2, 3, 4]\n",
    "[1, 2, 3, 4, 5]\n",
    "[2, 3, 4, 5, 6]\n",
    "...\n",
    "[6, 7, 8, 9, 10]\n",
    "\n",
    "For a 2D time series (columns are features, index is time step), the output will be a 3D numpy array of shape [_batch size, time steps, dimensionality_] where _dimensionality_ is the number of features [Aurélien Géron Hands-On Machine Learning with Scikit-Learn, Keras & TensorFlow]\n",
    "\n",
    "The sampling of the time series is done using the function <code>time_series_sampling</code>\n",
    "\n",
    "We will use <code>shuffle=True</code> to make sure sequences ... are shuffled, so when we split the dataset between training and validation we get sequences spread across the year, and not a single season"
   ]
  },
  {
   "cell_type": "code",
   "execution_count": null,
   "id": "fb40263131b7b316",
   "metadata": {
    "ExecuteTime": {
     "end_time": "2023-12-21T14:08:19.934089300Z",
     "start_time": "2023-12-21T14:08:19.576059500Z"
    }
   },
   "outputs": [],
   "source": [
    "from corrai.learning.model_selection import time_series_sampling"
   ]
  },
  {
   "cell_type": "code",
   "execution_count": null,
   "id": "2e00512043da4c3b",
   "metadata": {
    "ExecuteTime": {
     "end_time": "2023-12-21T14:19:13.796684800Z",
     "start_time": "2023-12-21T14:19:12.744403Z"
    }
   },
   "outputs": [],
   "source": [
    "train_np = train_df.to_numpy()\n",
    "train_np = train_np.astype(np.float32)\n",
    "\n",
    "n_step_history = 10 * 4 #12h\n",
    "n_step_future = 6 * 4\n",
    "\n",
    "train_sequences = time_series_sampling(\n",
    "    train_np,\n",
    "    sequence_length=n_step_history + n_step_future,\n",
    "    sampling_rate=1,\n",
    "    sequence_stride=4,\n",
    "    shuffle=False,\n",
    "    seed=42\n",
    ")"
   ]
  },
  {
   "cell_type": "code",
   "execution_count": null,
   "id": "588306fb5c08bf6e",
   "metadata": {
    "ExecuteTime": {
     "end_time": "2023-12-21T14:18:41.664323200Z",
     "start_time": "2023-12-21T14:18:38.981428100Z"
    }
   },
   "outputs": [],
   "source": [
    "dummy = MeasuredDats(train_df)\n",
    "dummy.plot()"
   ]
  },
  {
   "cell_type": "code",
   "execution_count": null,
   "id": "dc0daa1b4f5851b8",
   "metadata": {
    "ExecuteTime": {
     "end_time": "2023-12-21T14:18:47.735090500Z",
     "start_time": "2023-12-21T14:18:46.418858200Z"
    }
   },
   "outputs": [],
   "source": [
    "valid_np = valid_df.to_numpy()\n",
    "valid_np = valid_np.astype(np.float32)\n",
    "\n",
    "valid_sequences = time_series_sampling(\n",
    "    valid_np,\n",
    "    sequence_length=n_step_history + n_step_future,\n",
    "    sampling_rate=1,\n",
    "    sequence_stride=1,\n",
    "    shuffle=False,\n",
    "    seed=42\n",
    ")"
   ]
  },
  {
   "cell_type": "code",
   "execution_count": null,
   "id": "3a0a31e6eebc5bcf",
   "metadata": {
    "ExecuteTime": {
     "end_time": "2023-12-21T14:08:25.850192500Z",
     "start_time": "2023-12-21T14:08:25.634308400Z"
    }
   },
   "outputs": [],
   "source": [
    "dummy = MeasuredDats(valid_df)"
   ]
  },
  {
   "cell_type": "code",
   "execution_count": null,
   "id": "68051b79929dc04c",
   "metadata": {
    "ExecuteTime": {
     "end_time": "2023-12-21T14:08:27.322124800Z",
     "start_time": "2023-12-21T14:08:25.850688900Z"
    }
   },
   "outputs": [],
   "source": [
    "dummy.plot()"
   ]
  },
  {
   "cell_type": "code",
   "execution_count": null,
   "id": "c5577b73fc939bac",
   "metadata": {
    "ExecuteTime": {
     "end_time": "2023-12-21T14:15:50.288994100Z",
     "start_time": "2023-12-21T14:15:49.885537600Z"
    }
   },
   "outputs": [],
   "source": [
    "train_sequences.shape"
   ]
  },
  {
   "cell_type": "markdown",
   "id": "bf195177b2182106",
   "metadata": {
    "collapsed": false
   },
   "source": [
    "The shape of the obtained training array is [20079, 50, 12] corresponding to the number of sequences, the number of time steps and the number of features.\n",
    "\n",
    "The number of sequences is elevated, but we used <code>sampling_rate=1</code>, meaning that there will be a lot of overlaping between the sequences. This may lead to model over fitting, or artificially improve evaluation metrics, as part of the training sample will also be present in validation sample.\n",
    "\n",
    "That is why final performance will be evaluated on the test sample\n",
    "\n",
    "It is now time to isolate the target from the sequences. \n",
    "Using the previous example :\n",
    "[0, 1, 2, 3, 4] \n",
    "[1, 2, 3, 4, 5]\n",
    "[2, 3, 4, 5, 6]\n",
    " … \n",
    "[6, 7, 8, 9, 10]\n",
    "\n",
    "With an history of <code>n_step_history=3</code> and <code>n_step_future=2</code> we get\n",
    "X = [0, 1, 2] \n",
    "    [1, 2, 3]\n",
    "    [2, 3, 4]\n",
    "     … \n",
    "    [6, 7, 8]\n",
    "    \n",
    "Y = [3, 4] \n",
    "    [4, 5]\n",
    "    [5, 6]\n",
    "     … \n",
    "    [9, 10]\n",
    "\n",
    "We also want to split X and Y into two pair of samples X_train, y_train, X_valid, y_valid"
   ]
  },
  {
   "cell_type": "code",
   "execution_count": null,
   "id": "30659a26d52d1067",
   "metadata": {
    "ExecuteTime": {
     "end_time": "2023-12-21T14:18:52.910720300Z",
     "start_time": "2023-12-21T14:18:52.675866600Z"
    }
   },
   "outputs": [],
   "source": [
    "x_train, y_train = (\n",
    "    train_sequences[:, :n_step_history, :],\n",
    "    train_sequences[:, -n_step_future:, 0],\n",
    ")\n",
    "\n",
    "x_valid, y_valid = (\n",
    "    valid_sequences[:, :n_step_history, :],\n",
    "    valid_sequences[:, -n_step_future:, 0],\n",
    ")"
   ]
  },
  {
   "cell_type": "markdown",
   "id": "3e3858cd1ba1174",
   "metadata": {
    "collapsed": false
   },
   "source": [
    "# Model training"
   ]
  },
  {
   "cell_type": "code",
   "execution_count": null,
   "id": "9e89e26a0edf0060",
   "metadata": {
    "ExecuteTime": {
     "end_time": "2023-12-21T14:19:18.671717800Z",
     "start_time": "2023-12-21T14:19:18.517327500Z"
    }
   },
   "outputs": [],
   "source": [
    "from corrai.learning.time_series import TsDeepNN, DeepRNN\n",
    "from corrai.metrics import last_time_step_rmse"
   ]
  },
  {
   "cell_type": "code",
   "execution_count": null,
   "id": "ff003913fd80c770",
   "metadata": {
    "ExecuteTime": {
     "end_time": "2023-12-21T14:19:19.580619100Z",
     "start_time": "2023-12-21T14:19:19.331022700Z"
    }
   },
   "outputs": [],
   "source": [
    "res_metrics = {}"
   ]
  },
  {
   "cell_type": "code",
   "execution_count": null,
   "id": "3eefd4d46d029973",
   "metadata": {
    "ExecuteTime": {
     "end_time": "2023-12-21T14:21:35.021168300Z",
     "start_time": "2023-12-21T14:19:21.684143300Z"
    }
   },
   "outputs": [],
   "source": [
    "lstm_seq = DeepRNN(\n",
    "    cells=\"LSTM\",\n",
    "    n_units=40,\n",
    "    hidden_layers_size=1,\n",
    "    reshape_sequence_to_sequence=True,\n",
    "    metrics=[last_time_step_rmse],\n",
    "    # optimizer=keras.optimizers.SGD(0.01),\n",
    "    patience=200,\n",
    "    max_epoch=20,\n",
    "    # loss=smape,\n",
    ")\n",
    "\n",
    "lstm_seq.fit(x_train, y_train, x_valid, y_valid)\n",
    "res_metrics[\"lstm_seq\"] = lstm_seq.evaluate(x_valid, y_valid)"
   ]
  },
  {
   "cell_type": "code",
   "execution_count": null,
   "id": "c504249a70367803",
   "metadata": {
    "ExecuteTime": {
     "end_time": "2023-12-21T14:13:12.402582600Z",
     "start_time": "2023-12-21T14:13:08.540135400Z"
    }
   },
   "outputs": [],
   "source": [
    "print(\"hey\")"
   ]
  },
  {
   "cell_type": "code",
   "execution_count": null,
   "id": "9e4fb471d538348f",
   "metadata": {
    "ExecuteTime": {
     "end_time": "2023-12-21T14:14:10.694155300Z",
     "start_time": "2023-12-21T14:14:09.214322700Z"
    }
   },
   "outputs": [],
   "source": [
    "from corrai.learning.time_series import plot_sequence_forcast\n",
    "plot_sequence_forcast(x_valid, y_valid, model=lstm_seq, batch_nb=350)"
   ]
  },
  {
   "cell_type": "code",
   "execution_count": null,
   "id": "66a0d472c0ea2ed1",
   "metadata": {
    "ExecuteTime": {
     "end_time": "2023-12-21T14:11:06.250012900Z",
     "start_time": "2023-12-21T14:11:06.001081800Z"
    }
   },
   "outputs": [],
   "source": [
    "test = MeasuredDats(valid_df)"
   ]
  },
  {
   "cell_type": "code",
   "execution_count": null,
   "id": "6a74ba2fc5a29e2f",
   "metadata": {
    "ExecuteTime": {
     "end_time": "2023-12-21T14:11:07.637075400Z",
     "start_time": "2023-12-21T14:11:06.250821300Z"
    }
   },
   "outputs": [],
   "source": [
    "test.plot()"
   ]
  },
  {
   "cell_type": "code",
   "execution_count": null,
   "id": "e2ae22d66adceacd",
   "metadata": {
    "ExecuteTime": {
     "end_time": "2023-12-21T14:11:07.881367200Z",
     "start_time": "2023-12-21T14:11:07.637075400Z"
    }
   },
   "outputs": [],
   "source": [
    "ts_linear = TsDeepNN()"
   ]
  },
  {
   "cell_type": "code",
   "execution_count": null,
   "id": "38f2c5d1ff9db879",
   "metadata": {
    "ExecuteTime": {
     "end_time": "2023-12-21T14:11:13.748615Z",
     "start_time": "2023-12-21T14:11:07.883437400Z"
    }
   },
   "outputs": [],
   "source": [
    "ts_linear.fit(x_train, y_train, x_valid, y_valid)"
   ]
  },
  {
   "cell_type": "code",
   "execution_count": null,
   "id": "3009df186610ffeb",
   "metadata": {
    "ExecuteTime": {
     "end_time": "2023-12-21T14:11:13.914295Z",
     "start_time": "2023-12-21T14:11:13.738522400Z"
    }
   },
   "outputs": [],
   "source": [
    "from sklearn.metrics import mean_squared_error"
   ]
  },
  {
   "cell_type": "code",
   "execution_count": null,
   "id": "ffe739a50303b596",
   "metadata": {
    "ExecuteTime": {
     "end_time": "2023-12-21T14:11:14.574505Z",
     "start_time": "2023-12-21T14:11:13.916290300Z"
    }
   },
   "outputs": [],
   "source": [
    "print(f\"R² = {ts_linear.score(x_valid, y_valid)} \\n\"\n",
    "      f\"MSE = {mean_squared_error(ts_linear.predict(x_valid), y_valid)}\")"
   ]
  },
  {
   "cell_type": "code",
   "execution_count": null,
   "id": "cc4f7ab584d1de95",
   "metadata": {
    "ExecuteTime": {
     "end_time": "2023-12-21T14:11:14.577548600Z",
     "start_time": "2023-12-21T14:11:14.559471400Z"
    }
   },
   "outputs": [],
   "source": []
  },
  {
   "cell_type": "code",
   "execution_count": null,
   "id": "32fb8023537bb86b",
   "metadata": {
    "ExecuteTime": {
     "end_time": "2023-12-21T14:11:14.592132Z",
     "start_time": "2023-12-21T14:11:14.562003200Z"
    }
   },
   "outputs": [],
   "source": []
  },
  {
   "cell_type": "markdown",
   "id": "9b12b1c9ad895911",
   "metadata": {
    "collapsed": false
   },
   "source": [
    "## Deep Neural Network"
   ]
  },
  {
   "cell_type": "code",
   "execution_count": null,
   "id": "8e91946c3da69a45",
   "metadata": {
    "ExecuteTime": {
     "end_time": "2023-12-21T14:11:14.742709100Z",
     "start_time": "2023-12-21T14:11:14.566779100Z"
    }
   },
   "outputs": [],
   "source": [
    "deep_rnn = TsDeepNN(hidden_layers_size=2)"
   ]
  },
  {
   "cell_type": "code",
   "execution_count": null,
   "id": "5a147ace8a29070e",
   "metadata": {
    "ExecuteTime": {
     "end_time": "2023-12-21T14:11:19.119661300Z",
     "start_time": "2023-12-21T14:11:14.742709100Z"
    }
   },
   "outputs": [],
   "source": [
    "deep_rnn.fit(x_train, y_train, x_valid, y_valid)"
   ]
  },
  {
   "cell_type": "code",
   "execution_count": null,
   "id": "a179af833ff2f702",
   "metadata": {
    "ExecuteTime": {
     "end_time": "2023-12-21T14:11:19.799824900Z",
     "start_time": "2023-12-21T14:11:19.108259700Z"
    }
   },
   "outputs": [],
   "source": [
    "print(f\"R² = {deep_rnn.score(x_valid, y_valid)} \\n\"\n",
    "      f\"MSE = {mean_squared_error(deep_rnn.predict(x_valid), y_valid)}\")"
   ]
  },
  {
   "cell_type": "code",
   "execution_count": null,
   "id": "7ba26ce5573cc5f",
   "metadata": {
    "ExecuteTime": {
     "end_time": "2023-12-21T14:11:20.315394500Z",
     "start_time": "2023-12-21T14:11:19.770147300Z"
    }
   },
   "outputs": [],
   "source": [
    "plot_sequence_forcast(x_valid, y_valid, model=deep_rnn, batch_nb=31)"
   ]
  },
  {
   "cell_type": "code",
   "execution_count": null,
   "id": "53f068fbda4db99e",
   "metadata": {
    "ExecuteTime": {
     "end_time": "2023-12-21T14:11:20.500527700Z",
     "start_time": "2023-12-21T14:11:20.314103400Z"
    }
   },
   "outputs": [],
   "source": [
    "from corrai.metrics import last_time_step_rmse"
   ]
  },
  {
   "cell_type": "code",
   "execution_count": null,
   "id": "5aa8813de73ea8ee",
   "metadata": {
    "ExecuteTime": {
     "end_time": "2023-12-21T14:11:20.686230800Z",
     "start_time": "2023-12-21T14:11:20.503052700Z"
    }
   },
   "outputs": [],
   "source": [
    "rnn = DeepRNN(\n",
    "    cells='LSTM',\n",
    "    hidden_layers_size=1,\n",
    "    reshape_sequence_to_sequence=True,\n",
    "    n_units=40,\n",
    "    metrics=last_time_step_rmse\n",
    ")"
   ]
  },
  {
   "cell_type": "code",
   "execution_count": null,
   "id": "4f8dcda68c5e66dc",
   "metadata": {
    "ExecuteTime": {
     "end_time": "2023-12-21T14:12:58.314777400Z",
     "start_time": "2023-12-21T14:11:20.688227200Z"
    }
   },
   "outputs": [],
   "source": [
    "rnn.fit(x_train, y_train, x_valid, y_valid)"
   ]
  },
  {
   "cell_type": "code",
   "execution_count": null,
   "id": "c417e7e634878508",
   "metadata": {
    "ExecuteTime": {
     "start_time": "2023-12-21T14:12:58.314777400Z"
    }
   },
   "outputs": [],
   "source": [
    "rnn.evaluate(x_valid, y_valid)"
   ]
  },
  {
   "cell_type": "code",
   "execution_count": null,
   "id": "335aaf230859be0a",
   "metadata": {
    "ExecuteTime": {
     "end_time": "2023-12-21T14:12:58.316770400Z",
     "start_time": "2023-12-21T14:12:58.316770400Z"
    }
   },
   "outputs": [],
   "source": [
    "plot_sequence_forcast(x_valid, y_valid, model=rnn, batch_nb=35)"
   ]
  },
  {
   "cell_type": "code",
   "execution_count": null,
   "id": "8aadf7f460aa4f75",
   "metadata": {
    "ExecuteTime": {
     "start_time": "2023-12-21T14:12:58.318763700Z"
    }
   },
   "outputs": [],
   "source": [
    "from corrai.learning.time_series import SimplifiedWaveNet"
   ]
  },
  {
   "cell_type": "code",
   "execution_count": null,
   "id": "909616f8bec906f5",
   "metadata": {
    "ExecuteTime": {
     "start_time": "2023-12-21T14:12:58.320756700Z"
    }
   },
   "outputs": [],
   "source": [
    "wave_net = SimplifiedWaveNet(\n",
    "    convolutional_layers=3,\n",
    "    staked_groups=2,\n",
    "    groups_filters=100,\n",
    "    metrics=[last_time_step_rmse])\n",
    "wave_net.fit(x_train, y_train, x_valid, y_valid)"
   ]
  },
  {
   "cell_type": "code",
   "execution_count": null,
   "id": "9d58f2ca45f81164",
   "metadata": {
    "ExecuteTime": {
     "start_time": "2023-12-21T14:12:58.321753700Z"
    }
   },
   "outputs": [],
   "source": [
    "import plotly.graph_objects as go\n",
    "\n",
    "def plot_sequence_forcast(X, y_ref, model, X_target_index=0, batch_nb=0):\n",
    "    \"\"\"\n",
    "    Plot the historical, reference, and predicted values for a given\n",
    "    batch number in X using Plotly.\n",
    "\n",
    "    Parameters:\n",
    "    :param X: np.ndarray 3D array of shape [batch_size, time_step, dimension]\n",
    "    Input sequences.\n",
    "    :param y_ref: np.ndarray of shape [batch_size, time_step].\n",
    "    :param model: keras.Model The trained model for making predictions.\n",
    "    :param X_target_index: The index of 3rd dimension in X that contains\n",
    "        historical values.\n",
    "    :param batch_nb: int Batch number to visualize. Default is 0.\n",
    "    \"\"\"\n",
    "    predictions = model.predict(X)\n",
    "    predictions = predictions[batch_nb, :]\n",
    "    y_ref_to_plot = y_ref[batch_nb, :]\n",
    "    x_to_plot = X[batch_nb, :, X_target_index]\n",
    "\n",
    "    # Create traces for historic, new, and predicted values\n",
    "    historic_trace = go.Scatter(\n",
    "        x=list(range(len(x_to_plot))),\n",
    "        y=x_to_plot,\n",
    "        mode='markers+lines',\n",
    "        name='Historic Values'\n",
    "    )\n",
    "\n",
    "    new_trace = go.Scatter(\n",
    "        x=list(range(len(x_to_plot), len(x_to_plot) + len(y_ref_to_plot))),\n",
    "        y=y_ref_to_plot,\n",
    "        mode='markers+lines',\n",
    "        name='New Values'\n",
    "    )\n",
    "\n",
    "    predicted_trace = go.Scatter(\n",
    "        x=list(range(len(x_to_plot), len(x_to_plot) + len(y_ref_to_plot))),\n",
    "        y=predictions,\n",
    "        mode='markers+lines',\n",
    "        name='Predicted Values'\n",
    "    )\n",
    "\n",
    "    # Create layout\n",
    "    layout = go.Layout(\n",
    "        title='Actual and Predicted Values Over Time',\n",
    "        xaxis=dict(title='Number of Timesteps'),\n",
    "        yaxis=dict(title='x(t)'),\n",
    "    )\n",
    "\n",
    "    # Create figure\n",
    "    fig = go.Figure(data=[historic_trace, new_trace, predicted_trace], layout=layout)\n",
    "\n",
    "    # Show the plot\n",
    "    fig.show()"
   ]
  },
  {
   "cell_type": "code",
   "execution_count": null,
   "id": "1df5207af6629879",
   "metadata": {
    "ExecuteTime": {
     "end_time": "2023-12-21T14:12:58.353248100Z",
     "start_time": "2023-12-21T14:12:58.323792400Z"
    }
   },
   "outputs": [],
   "source": [
    "plot_sequence_forcast(x_valid, y_valid, model=wave_net, batch_nb=20)"
   ]
  },
  {
   "cell_type": "markdown",
   "id": "27a4bb11bbe8670b",
   "metadata": {
    "collapsed": false
   },
   "source": [
    "# Model test"
   ]
  },
  {
   "cell_type": "code",
   "execution_count": null,
   "id": "f48d5939f0e5640b",
   "metadata": {
    "ExecuteTime": {
     "start_time": "2023-12-21T14:12:58.325329200Z"
    }
   },
   "outputs": [],
   "source": [
    "test_transformed = preprocess_pipeline.transform(test_df)"
   ]
  },
  {
   "cell_type": "code",
   "execution_count": null,
   "id": "b59253f0ed953ce4",
   "metadata": {
    "ExecuteTime": {
     "start_time": "2023-12-21T14:12:58.326290100Z"
    }
   },
   "outputs": [],
   "source": [
    "test_transformed[\"Holidays\"] = 0"
   ]
  },
  {
   "cell_type": "code",
   "execution_count": null,
   "id": "d0957d58bb1c71dd",
   "metadata": {
    "ExecuteTime": {
     "start_time": "2023-12-21T14:12:58.327286400Z"
    }
   },
   "outputs": [],
   "source": [
    "test_transformed.shape"
   ]
  },
  {
   "cell_type": "code",
   "execution_count": null,
   "id": "9fae591e2bc3ba85",
   "metadata": {
    "ExecuteTime": {
     "start_time": "2023-12-21T14:12:58.328286300Z"
    }
   },
   "outputs": [],
   "source": [
    "test_sequences = time_series_sampling(\n",
    "    test_transformed,\n",
    "    sequence_length=4 * (48 + 6),  #12h history + 6h in the future at a 15min timestep,\n",
    "    sampling_rate=1,\n",
    "    shuffle=False,\n",
    "    seed=42  # Make sure the behaviour can be repeated in the notebook\n",
    ")"
   ]
  },
  {
   "cell_type": "code",
   "execution_count": null,
   "id": "1dbcbe05569008d2",
   "metadata": {
    "ExecuteTime": {
     "start_time": "2023-12-21T14:12:58.329290200Z"
    }
   },
   "outputs": [],
   "source": [
    "x_test, x_empty, y_test, y_empty = sequences_train_test_split(\n",
    "    test_sequences,\n",
    "    targets_index=0,\n",
    "    n_steps_history=48 * 4,\n",
    "    n_steps_future=6 * 4,\n",
    "    train_size=0.1,\n",
    "    shuffle=False\n",
    ")"
   ]
  },
  {
   "cell_type": "code",
   "execution_count": null,
   "id": "f7d6c9db05263369",
   "metadata": {
    "ExecuteTime": {
     "start_time": "2023-12-21T14:12:58.330276100Z"
    }
   },
   "outputs": [],
   "source": [
    "x_test.shape"
   ]
  },
  {
   "cell_type": "code",
   "execution_count": null,
   "id": "22727ad383c8084e",
   "metadata": {
    "ExecuteTime": {
     "start_time": "2023-12-21T14:12:58.331272900Z"
    }
   },
   "outputs": [],
   "source": [
    "wave_net.evaluate(x_test, y_test)"
   ]
  },
  {
   "cell_type": "code",
   "execution_count": null,
   "id": "d0869d2bd42b3756",
   "metadata": {
    "ExecuteTime": {
     "start_time": "2023-12-21T14:12:58.332270100Z"
    }
   },
   "outputs": [],
   "source": [
    "plot_sequence_forcast(x_test, y_test, model=deep_rnn, batch_nb=10)"
   ]
  },
  {
   "cell_type": "code",
   "execution_count": null,
   "id": "c9710c8b2a2eda30",
   "metadata": {
    "ExecuteTime": {
     "start_time": "2023-12-21T14:12:58.333313800Z"
    }
   },
   "outputs": [],
   "source": []
  }
 ],
 "metadata": {
  "kernelspec": {
   "display_name": "Python 3",
   "language": "python",
   "name": "python3"
  },
  "language_info": {
   "codemirror_mode": {
    "name": "ipython",
    "version": 2
   },
   "file_extension": ".py",
   "mimetype": "text/x-python",
   "name": "python",
   "nbconvert_exporter": "python",
   "pygments_lexer": "ipython2",
   "version": "2.7.6"
  }
 },
 "nbformat": 4,
 "nbformat_minor": 5
}
