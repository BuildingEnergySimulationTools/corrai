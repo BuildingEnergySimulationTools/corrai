{
 "cells": [
  {
   "cell_type": "code",
   "execution_count": null,
   "outputs": [],
   "source": [
    "%load_ext autoreload\n",
    "%autoreload 2"
   ],
   "metadata": {
    "collapsed": false
   },
   "id": "50880702abcbdcdc"
  },
  {
   "cell_type": "code",
   "execution_count": null,
   "id": "initial_id",
   "metadata": {
    "collapsed": true
   },
   "outputs": [],
   "source": [
    "import numpy as np\n",
    "import pandas as pd\n",
    "from pathlib import Path\n",
    "import os\n",
    "from corrai.measure import MeasuredDats\n",
    "from copy import deepcopy"
   ]
  },
  {
   "cell_type": "markdown",
   "source": [
    "# Time series forecasting"
   ],
   "metadata": {
    "collapsed": false
   },
   "id": "5926bd05022e47ca"
  },
  {
   "cell_type": "markdown",
   "source": [
    "This tutorial guides you through the process of training a Machine Learning (ML) model in order to predict at short term ~6h the electricity consumption of a tertiary building office equipments. \n",
    "\n",
    "The tutorial will follow these big steps:\n",
    "- Load the raw data provided by the Building Energy Monitoring System (BEMS)\n",
    "- Use the Corrai object <code>MeasureDats</code> to pre-process, clean, and visualize the data\n",
    "- Train several ML model, select the most appropriate and tune its hyper parameters\n",
    "- Assess and discuss the model performance\n",
    "- Wrap the model and the processing pipes for production"
   ],
   "metadata": {
    "collapsed": false
   },
   "id": "a968da07551c7346"
  },
  {
   "cell_type": "markdown",
   "source": [
    "# Visualise the data"
   ],
   "metadata": {
    "collapsed": false
   },
   "id": "29ccf80139e72cef"
  },
  {
   "cell_type": "markdown",
   "source": [
    "The data are coming from an electrical energy meter that returns an increasing index in kWh. The timestep is variable between 11 min and 22min. The electric equipments are office equipment, and probably some lab equipments\n",
    "\n",
    "First lets load the csv file containing a single column of data using Pandas"
   ],
   "metadata": {
    "collapsed": false
   },
   "id": "a5124961fd4cd0d0"
  },
  {
   "cell_type": "code",
   "execution_count": null,
   "outputs": [],
   "source": [
    "data_df = pd.read_csv(Path(os.getcwd()) / \"resources/compteur_elec.csv\", index_col=0, sep=';')\n",
    "data_df.index = pd.to_datetime(data_df.index, format='mixed', utc=True)"
   ],
   "metadata": {
    "collapsed": false
   },
   "id": "d8ccfee681486f5d"
  },
  {
   "cell_type": "markdown",
   "source": [
    "Lets use the <code>DataFrame</code> <code>info()</code> method to get some insights "
   ],
   "metadata": {
    "collapsed": false
   },
   "id": "41de1bf4c94a359e"
  },
  {
   "cell_type": "code",
   "execution_count": null,
   "outputs": [],
   "source": [
    "data_df.info()"
   ],
   "metadata": {
    "collapsed": false
   },
   "id": "e37043a29ba9a80d"
  },
  {
   "cell_type": "markdown",
   "source": [
    "It looks that data are available from the 2022-12-09 to the 2023-11-22 (in order to get full days).\n",
    "It also looks that among the 22992 entries, none are Nan. This is good news\n",
    "\n",
    "We will use the <code>MeasureDats</code> object to get a visual representation and try to identify the gaps that will be annoying (greater than 3h, where a linear the interpolation may become \"dangerous\").\n",
    "\n",
    "_Note : this is a bit of a misuse of MeasureDats. For a proper introduction to the class, see the corresponding tutorial_    "
   ],
   "metadata": {
    "collapsed": false
   },
   "id": "e561683e4aee6756"
  },
  {
   "cell_type": "code",
   "execution_count": null,
   "outputs": [],
   "source": [
    "my_data = MeasuredDats(data_df)"
   ],
   "metadata": {
    "collapsed": false
   },
   "id": "acdb6cb5bb38eb03"
  },
  {
   "cell_type": "code",
   "execution_count": null,
   "outputs": [],
   "source": [
    "my_data.plot_gaps(gaps_timestep=\"3H\")"
   ],
   "metadata": {
    "collapsed": false
   },
   "id": "cccbcb174ebb2620"
  },
  {
   "cell_type": "code",
   "execution_count": null,
   "outputs": [],
   "source": [
    "my_data.get_gaps_description(gaps_timedelta='3H')"
   ],
   "metadata": {
    "collapsed": false
   },
   "id": "7420fd6d76fe2e9c"
  },
  {
   "cell_type": "markdown",
   "source": [
    "- A total of 5 gaps greater than 3h minutes were found.\n",
    "- The greater gap is 4 days long\n",
    "\n",
    "This is not bad for nearly a full year of data\n",
    "\n",
    "We can go a bit further and get the date of the gaps"
   ],
   "metadata": {
    "collapsed": false
   },
   "id": "7f8c806ef98e043c"
  },
  {
   "cell_type": "code",
   "execution_count": null,
   "outputs": [],
   "source": [
    "from corrai.measure import find_gaps"
   ],
   "metadata": {
    "collapsed": false
   },
   "id": "2c10cdeb67d6eda3"
  },
  {
   "cell_type": "code",
   "execution_count": null,
   "outputs": [],
   "source": [
    "find_gaps(data_df, timestep='3h')"
   ],
   "metadata": {
    "collapsed": false
   },
   "id": "6ad604027bb2ff0c"
  },
  {
   "cell_type": "markdown",
   "source": [
    "Given this results, we will probably trash the following periods:\n",
    "- __2023-04-07__ : 16h is to long for interpolation\n",
    "- __2023-05-19 to 2023-05-29__ : we choose to trash a full period. As we will see later, we are going to build sequences to train the ML models. Gaps will introduce errors, so we want to limit there number. It is better to throw away some good days\n",
    "- __2023-10-28 to 2023-10-30__ : the gap span over these two days\n",
    "\n",
    "Moreover, the previous figure showed an anomaly with the energy meter returning a negative value. This shall be removed*"
   ],
   "metadata": {
    "collapsed": false
   },
   "id": "1fc0c25b4d69215"
  },
  {
   "cell_type": "markdown",
   "source": [
    "# Clean the data"
   ],
   "metadata": {
    "collapsed": false
   },
   "id": "44bae2d36639264f"
  },
  {
   "cell_type": "markdown",
   "source": [
    "The energy meter data returns a monotonously increasing time series.\n",
    "However we would like to have the electric energy rate [W] absorbed by the equipments.\n",
    "We propose the following transformations to process the time series :\n",
    "- remove negative values\n",
    "- convert the kWh to Joules\n",
    "- apply time gradient\n",
    "- Fill in the small gaps (<=3h) using linear interpolation\n",
    "- Apply Back filling and Front filling operation to make sure no Nan value are present at the beginning and at the and of the time series\n",
    "- Resample the timeseries to get a constant 15 min timestep\n",
    "- The resampling introduced new gaps, when the timestep was greater than 15min. Fill them using linear interpolation again.\n",
    "\n",
    "To easily generate the pipeline and visualise its effect, we use the <code>common_transformations</code> of the <code>MeasureDats</code>. We define a single transformation process called ... <code>process</code>"
   ],
   "metadata": {
    "collapsed": false
   },
   "id": "ca6f82ffcaa66079"
  },
  {
   "cell_type": "code",
   "execution_count": null,
   "outputs": [],
   "source": [
    "from corrai.measure import Transformer, AGG_METHOD_MAP, AggMethod"
   ],
   "metadata": {
    "collapsed": false
   },
   "id": "b3652aac0490c61"
  },
  {
   "cell_type": "code",
   "execution_count": null,
   "outputs": [],
   "source": [
    "my_data.common_trans = {\n",
    "    \"Process\": [\n",
    "        [Transformer.DROP_THRESHOLD, {'lower': 0}],\n",
    "        [Transformer.APPLY_EXPRESSION, {\"expression\": \"X * 1000 * 3600\"}],\n",
    "        [Transformer.TIME_GRADIENT, {}],\n",
    "        [Transformer.INTERPOLATE, {\"method\": \"linear\"}],\n",
    "        [Transformer.BFILL, {}],\n",
    "        [Transformer.FFILL, {}],\n",
    "        [Transformer.RESAMPLE, {\"rule\": \"15T\", \"method\": AGG_METHOD_MAP[AggMethod.MEAN]}],\n",
    "        [Transformer.INTERPOLATE, {\"method\": \"linear\"}],\n",
    "    ]\n",
    "}\n",
    "\n",
    "my_data.transformers_list = [\"Process\"]"
   ],
   "metadata": {
    "collapsed": false
   },
   "id": "4e8b0224710490e9"
  },
  {
   "cell_type": "markdown",
   "source": [
    "Lets see the effect of the pipe !"
   ],
   "metadata": {
    "collapsed": false
   },
   "id": "ecf06afe4199216d"
  },
  {
   "cell_type": "code",
   "execution_count": null,
   "outputs": [],
   "source": [
    "my_data.plot()"
   ],
   "metadata": {
    "collapsed": false
   },
   "id": "2a61686d231e0c59"
  },
  {
   "cell_type": "markdown",
   "source": [
    "It really looks good ! We can make the following observation :\n",
    "- There is a weekly pattern with fewer consumption during the weekends\n",
    "- There is a daily pattern, the energy rate starts to increase around 6 o clock and drops around 17h\n",
    "- For an unknown reason, there seem to be a pattern of period ~2h. It could be chiller, for a server local for exemple\n",
    "- It's not very clear, but the energy rate demand seem to increase slightly during the cold months\n",
    "- There seem to be a holiday period from the 25 December to the 2nd of january\n",
    "\n",
    "We can also see the gaps in the data. For example, if you try to zoom in on the second half of the month of May, you should see straight lines corresponding the linear interpolation. Lets remove them."
   ],
   "metadata": {
    "collapsed": false
   },
   "id": "29a527e903a2389b"
  },
  {
   "cell_type": "code",
   "execution_count": null,
   "outputs": [],
   "source": [
    "# List of full days to drop\n",
    "days_to_drop = [\n",
    "    \"2023-04-07\",\n",
    "    \"2023-05-19\",\n",
    "    \"2023-05-20\",\n",
    "    \"2023-05-21\",\n",
    "    \"2023-05-22\",\n",
    "    \"2023-05-23\",\n",
    "    \"2023-05-24\",\n",
    "    \"2023-05-25\",\n",
    "    \"2023-05-26\",\n",
    "    \"2023-05-27\",\n",
    "    \"2023-05-28\",\n",
    "    \"2023-05-29\",\n",
    "    \"2023-10-28\",\n",
    "    \"2023-10-29\",\n",
    "    \"2023-10-30\",\n",
    "]\n",
    "\n",
    "days_to_drop_dt = pd.to_datetime(days_to_drop, errors='coerce')\n",
    "data_df = data_df[~data_df.index.strftime('%Y-%m-%d').isin(days_to_drop_dt.strftime('%Y-%m-%d'))]"
   ],
   "metadata": {
    "collapsed": false
   },
   "id": "e03fc55118ea5571"
  },
  {
   "cell_type": "markdown",
   "source": [
    "# Add features to the data set"
   ],
   "metadata": {
    "collapsed": false
   },
   "id": "e16408518892d657"
  },
  {
   "cell_type": "markdown",
   "source": [
    "We could use the time series, split it into sequences 18h for example, and try to predict the next 6 hours based on the twelve previous. \n",
    "We tried, and got pretty bad results...\n",
    "It seems logic as only 12 hours is not enough to capture the frequencies mentioned earlier (period of 24h and 7 days).\n",
    "We could increase the length of the sequence, but we would reduce the number of available sequence, or create to many overlaps which could cause training problems.\n",
    "\n",
    "One of the common solutions to help the model learn, consists in adding sine wave at the desired frequency. Here is an example : https://www.tensorflow.org/tutorials/structured_data/time_series\n",
    "You can see these new time series as additional coordinate for the data points. It will make the measure happening at the same time of the day or at the same day of the week closer.\n",
    "\n",
    "For practical reason, we will \"automate\" the addition of these sine waves time series using transformers, and the <code>MeasureDats</code> pipeline"
   ],
   "metadata": {
    "collapsed": false
   },
   "id": "58be0e4bd3b7a6ae"
  },
  {
   "cell_type": "code",
   "execution_count": null,
   "outputs": [],
   "source": [
    "from corrai.transformers import PdAddSineWave"
   ],
   "metadata": {
    "collapsed": false
   },
   "id": "f7c7540bebeeaa8"
  },
  {
   "cell_type": "code",
   "execution_count": null,
   "outputs": [],
   "source": [
    "preprocess_pipeline = deepcopy(my_data.get_pipeline())\n",
    "preprocess_pipeline.steps.extend([\n",
    "    (\"Sine_7D\", PdAddSineWave(frequency=1 / (7 * 24 * 3600), feature_marker=\"Sine_7D\")),\n",
    "    (\"Sine_24h\", PdAddSineWave(frequency=1 / (24 * 3600), feature_marker=\"Sine_24H\")),\n",
    "    (\"Sine_2h\", PdAddSineWave(frequency=1 / (2 * 3600), feature_marker=\"Sine_2H\"))\n",
    "])"
   ],
   "metadata": {
    "collapsed": false
   },
   "id": "f69661e19785b90c"
  },
  {
   "cell_type": "markdown",
   "source": [
    "In a jupyter Notebook, you can easily get a graphical representation of your pipeline"
   ],
   "metadata": {
    "collapsed": false
   },
   "id": "826bcb887a30e415"
  },
  {
   "cell_type": "code",
   "execution_count": null,
   "outputs": [],
   "source": [
    "preprocess_pipeline"
   ],
   "metadata": {
    "collapsed": false
   },
   "id": "abcb3784bc1c425c"
  },
  {
   "cell_type": "markdown",
   "source": [
    "Now let's add a columns to the original DataFrame. The values are 0 when there is holidays, and \n",
    "1 when it's a day at work. We do not add this using a transformer in a pipeline, since it depends on the occupant behaviour (or their boss's). It is more a \"measure\" or at least a schedule that must come from the BEMS system.\n"
   ],
   "metadata": {
    "collapsed": false
   },
   "id": "9a21b1e8d8d04f7a"
  },
  {
   "cell_type": "code",
   "execution_count": null,
   "outputs": [],
   "source": [
    "data_df[\"Holidays\"] = np.ones(data_df.shape[0])\n",
    "data_df.loc[\"2022-12-24\":\"2023-01-01\", \"Holidays\"] = 0"
   ],
   "metadata": {
    "collapsed": false
   },
   "id": "f96ff5f68c9ade87"
  },
  {
   "cell_type": "markdown",
   "source": [
    "Before doing further manipulation, we are going to isolate a part of the dataset (let's say ~10% or ~5 weeks).\n",
    "This is called the test sample. We will not even look at it during the ML training process.\n",
    "It will only be used to evaluate the model performance\n",
    "\n",
    "Although there might be a seasonal effect that it is not taken into account, we choose to select the las 2254 timestep as the test sample. It is better to have a coherent sequence and not random fragments of time series"
   ],
   "metadata": {
    "collapsed": false
   },
   "id": "7625093466993205"
  },
  {
   "cell_type": "code",
   "execution_count": null,
   "outputs": [],
   "source": [
    "train_valid_df = data_df.iloc[:data_df.shape[0] - 2254, :]\n",
    "test_df = data_df.iloc[2254:, :]"
   ],
   "metadata": {
    "collapsed": false
   },
   "id": "df5b3bb83c8c09c4"
  },
  {
   "cell_type": "markdown",
   "source": [
    "Before moving on to sampling and ML model fitting, we are going to scale the features. ML models don't like large distance between points, it is good practice to scale your data. \n",
    "Fortunately <code>PdSkTransformer</code> shall make scaling and unscaling easy.\n",
    "The scaler is append to the <code>preprocess_pipeline</code> pipeline"
   ],
   "metadata": {
    "collapsed": false
   },
   "id": "a95cd713216ce682"
  },
  {
   "cell_type": "code",
   "execution_count": null,
   "outputs": [],
   "source": [
    "from sklearn.preprocessing import StandardScaler\n",
    "from corrai.transformers import PdSkTransformer"
   ],
   "metadata": {
    "collapsed": false
   },
   "id": "ffebdda610d29f79"
  },
  {
   "cell_type": "code",
   "execution_count": null,
   "outputs": [],
   "source": [
    "preprocess_pipeline.steps.append(\n",
    "    ('Standard_scaler', PdSkTransformer(StandardScaler()))\n",
    ")"
   ],
   "metadata": {
    "collapsed": false
   },
   "id": "b0ec8d4c0d5de2c3"
  },
  {
   "cell_type": "markdown",
   "source": [
    "Lastly we push the training / validation data through the pipeline"
   ],
   "metadata": {
    "collapsed": false
   },
   "id": "3c43f2cbd41414ad"
  },
  {
   "cell_type": "code",
   "execution_count": null,
   "outputs": [],
   "source": [
    "scaled_train_val_df = preprocess_pipeline.fit_transform(train_valid_df)"
   ],
   "metadata": {
    "collapsed": false
   },
   "id": "beb22975897480f"
  },
  {
   "cell_type": "code",
   "execution_count": null,
   "outputs": [],
   "source": [
    "scaled_train_val_df.loc[scaled_train_val_df[\"Holidays\"] > 1, \"Holidays\"] = 1\n",
    "scaled_train_val_df.loc[scaled_train_val_df[\"Holidays\"] < 0, \"Holidays\"] = 0"
   ],
   "metadata": {
    "collapsed": false
   },
   "id": "ec457f458c881f22"
  },
  {
   "cell_type": "markdown",
   "source": [
    "# Time Series Sampling"
   ],
   "metadata": {
    "collapsed": false
   },
   "id": "48c7b46bf4063bd5"
  },
  {
   "cell_type": "markdown",
   "source": [
    "\n",
    "Our objective is to predict the future. We would like to know the energy rate absorbed by the equipments in the next 6h, based on the last 12h.\n",
    "\n",
    "To do this, we train Machine learning model using short sequence of the time series.\n",
    "- Features are the last 12h : energy rate, 2h, 24h, 7D sine waves and the holidays.\n",
    "- The target will be the next 6h energy rate  \n",
    "\n",
    "For example, the timeseries :\n",
    "\n",
    "[0, 1, 2, 3, 4, 5, 6, 7, 8, 9, 10]\n",
    "\n",
    "with a <code>sequence_length = 5</code> and <code>sampling_rate = 1</code>  will become:\n",
    "\n",
    "[0, 1, 2, 3, 4]\n",
    "[1, 2, 3, 4, 5]\n",
    "[2, 3, 4, 5, 6]\n",
    "...\n",
    "[6, 7, 8, 9, 10]\n",
    "\n",
    "For a 2D time series (columns are features, index is time step), the output will be a 3D numpy array of shape [_batch size, time steps, dimensionality_] where _dimensionality_ is the number of features [Aurélien Géron Hands-On Machine Learning with Scikit-Learn, Keras & TensorFlow]\n",
    "\n",
    "The sampling of the time series is done using the function <code>time_series_sampling</code>\n",
    "\n",
    "We will use <code>shuffle=True</code> to make sure sequences ... are shuffled, so when we split the dataset between training and validation we get sequences spread across the year, and not a single season"
   ],
   "metadata": {
    "collapsed": false
   },
   "id": "2835399107d40bae"
  },
  {
   "cell_type": "code",
   "execution_count": null,
   "outputs": [],
   "source": [
    "from corrai.learning.model_selection import time_series_sampling"
   ],
   "metadata": {
    "collapsed": false
   },
   "id": "fb40263131b7b316"
  },
  {
   "cell_type": "code",
   "execution_count": null,
   "outputs": [],
   "source": [
    "train_valid_sequences = time_series_sampling(\n",
    "    preprocess_pipeline.fit_transform(train_valid_df),\n",
    "    sequence_length=4 * (12 + 6), #12h history + 6h in the future at a 15min timmstep,\n",
    "    sampling_rate=1,\n",
    "    shuffle=True,\n",
    "    seed=42 # Make sure the behaviour can be repeated in the notebook\n",
    ")"
   ],
   "metadata": {
    "collapsed": false
   },
   "id": "2e00512043da4c3b"
  },
  {
   "cell_type": "code",
   "execution_count": null,
   "outputs": [],
   "source": [
    "train_valid_sequences.shape"
   ],
   "metadata": {
    "collapsed": false
   },
   "id": "a5acdf6a1ea20abb"
  },
  {
   "cell_type": "markdown",
   "source": [
    "The shape of the obtained array is [29993, 72, 5] corresponding to the number of sequences, the number of time steps and the number of features.\n",
    "\n",
    "The number of sequences is elevated, but we used <code>sampling_rate=1</code>, meaning that there will be a lot of overlaping between the sequences. This may lead to model over fitting, or artificially improve evaluation metrics, as part of the training sample will also be present in validation sample.\n",
    "\n",
    "That is why final performance will be evaluated on the test sample\n",
    "\n",
    "It is now time to isolate the target from the sequences. \n",
    "Using the previous example :\n",
    "[0, 1, 2, 3, 4] \n",
    "[1, 2, 3, 4, 5]\n",
    "[2, 3, 4, 5, 6]\n",
    " … \n",
    "[6, 7, 8, 9, 10]\n",
    "\n",
    "With an history of <code>n_step_history=3</code> and <code>n_step_future=2</code> we get\n",
    "X = [0, 1, 2] \n",
    "    [1, 2, 3]\n",
    "    [2, 3, 4]\n",
    "     … \n",
    "    [6, 7, 8]\n",
    "    \n",
    "Y = [3, 4] \n",
    "    [4, 5]\n",
    "    [5, 6]\n",
    "     … \n",
    "    [9, 10]\n",
    "\n",
    "We also want to split X and Y into two pair of samples X_train, y_train, X_valid, y_valid\n",
    "\n",
    "To do this we will use the <code>sequences_train_test_split</code> function\n"
   ],
   "metadata": {
    "collapsed": false
   },
   "id": "bf195177b2182106"
  },
  {
   "cell_type": "code",
   "execution_count": null,
   "outputs": [],
   "source": [
    "from corrai.learning.model_selection import sequences_train_test_split"
   ],
   "metadata": {
    "collapsed": false
   },
   "id": "30659a26d52d1067"
  },
  {
   "cell_type": "code",
   "execution_count": null,
   "outputs": [],
   "source": [
    "x_train, x_valid, y_train, y_valid = sequences_train_test_split(\n",
    "    train_valid_sequences,\n",
    "    targets_index=0,\n",
    "    n_steps_history=12 * 4,\n",
    "    n_steps_future=6 * 4,\n",
    "    train_size=0.80,\n",
    "    shuffle=False\n",
    ")"
   ],
   "metadata": {
    "collapsed": false
   },
   "id": "58c1c3eac6b79478"
  },
  {
   "cell_type": "markdown",
   "source": [
    "# Model testing"
   ],
   "metadata": {
    "collapsed": false
   },
   "id": "3e3858cd1ba1174"
  },
  {
   "cell_type": "code",
   "execution_count": null,
   "outputs": [],
   "source": [
    "from corrai.learning.time_series import TsLinearModel, TsDeepNN"
   ],
   "metadata": {
    "collapsed": false
   },
   "id": "9e89e26a0edf0060"
  },
  {
   "cell_type": "code",
   "execution_count": null,
   "outputs": [],
   "source": [
    "ts_linear = TsLinearModel()"
   ],
   "metadata": {
    "collapsed": false
   },
   "id": "e2ae22d66adceacd"
  },
  {
   "cell_type": "code",
   "execution_count": null,
   "outputs": [],
   "source": [
    "ts_linear.fit(x_train, y_train, x_valid, y_valid)"
   ],
   "metadata": {
    "collapsed": false
   },
   "id": "38f2c5d1ff9db879"
  },
  {
   "cell_type": "code",
   "execution_count": null,
   "outputs": [],
   "source": [
    "from sklearn.metrics import mean_squared_error"
   ],
   "metadata": {
    "collapsed": false
   },
   "id": "3009df186610ffeb"
  },
  {
   "cell_type": "code",
   "execution_count": null,
   "outputs": [],
   "source": [
    "print(f\"R² = {ts_linear.score(x_valid, y_valid)} \\n\"\n",
    "      f\"MSE = {mean_squared_error(ts_linear.predict(x_valid), y_valid)}\")"
   ],
   "metadata": {
    "collapsed": false
   },
   "id": "ffe739a50303b596"
  },
  {
   "cell_type": "code",
   "execution_count": null,
   "outputs": [],
   "source": [
    "from corrai.learning.time_series import plot_sequence_forcast"
   ],
   "metadata": {
    "collapsed": false
   },
   "id": "cc4f7ab584d1de95"
  },
  {
   "cell_type": "code",
   "execution_count": null,
   "outputs": [],
   "source": [
    "plot_sequence_forcast(x_valid, y_valid, model=ts_linear, batch_nb=32)"
   ],
   "metadata": {
    "collapsed": false
   },
   "id": "32fb8023537bb86b"
  },
  {
   "cell_type": "markdown",
   "source": [
    "## Deep Neural Network"
   ],
   "metadata": {
    "collapsed": false
   },
   "id": "9b12b1c9ad895911"
  },
  {
   "cell_type": "code",
   "execution_count": null,
   "outputs": [],
   "source": [
    "deep_rnn = TsDeepNN()"
   ],
   "metadata": {
    "collapsed": false
   },
   "id": "8e91946c3da69a45"
  },
  {
   "cell_type": "code",
   "execution_count": null,
   "outputs": [],
   "source": [
    "deep_rnn.fit(x_train, y_train, x_valid, y_valid)"
   ],
   "metadata": {
    "collapsed": false
   },
   "id": "5a147ace8a29070e"
  },
  {
   "cell_type": "code",
   "execution_count": null,
   "outputs": [],
   "source": [
    "print(f\"R² = {deep_rnn.score(x_valid, y_valid)} \\n\"\n",
    "      f\"MSE = {mean_squared_error(deep_rnn.predict(x_valid), y_valid)}\")"
   ],
   "metadata": {
    "collapsed": false
   },
   "id": "a179af833ff2f702"
  },
  {
   "cell_type": "code",
   "execution_count": null,
   "outputs": [],
   "source": [
    "plot_sequence_forcast(x_valid, y_valid, model=deep_rnn, batch_nb=32)"
   ],
   "metadata": {
    "collapsed": false
   },
   "id": "7ba26ce5573cc5f"
  },
  {
   "cell_type": "code",
   "execution_count": null,
   "outputs": [],
   "source": [],
   "metadata": {
    "collapsed": false
   },
   "id": "7006828d22cd6dbb"
  }
 ],
 "metadata": {
  "kernelspec": {
   "display_name": "Python 3",
   "language": "python",
   "name": "python3"
  },
  "language_info": {
   "codemirror_mode": {
    "name": "ipython",
    "version": 2
   },
   "file_extension": ".py",
   "mimetype": "text/x-python",
   "name": "python",
   "nbconvert_exporter": "python",
   "pygments_lexer": "ipython2",
   "version": "2.7.6"
  }
 },
 "nbformat": 4,
 "nbformat_minor": 5
}
