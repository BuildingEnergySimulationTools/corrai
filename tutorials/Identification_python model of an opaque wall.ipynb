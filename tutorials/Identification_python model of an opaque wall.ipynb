{
 "cells": [
  {
   "cell_type": "markdown",
   "id": "fe658bc78054a398",
   "metadata": {},
   "source": [
    "This tutorial can be found and ran in the GITHUB libray corrAI: https://github.com/BuildingEnergySimulationTools/corrai"
   ]
  },
  {
   "metadata": {},
   "cell_type": "markdown",
   "source": [
    "---\n",
    "# Characterisation method tutorial\n",
    "\n",
    "The aim of this tutorial is to provide tools for identification and optimisation of parameters of a model, using **CorrAI** modules. It contains three parts:\n",
    "\n",
    "1. **Model definition**: short definition of a mathematical model of an opaque wall, using a resistance/capacity approach.\n",
    "\n",
    "2. **Measurement import**: Loading of measurements performed on a test benchto serve as reference data for comparison with the model.\n",
    "\n",
    "3. **Model identification**: Identificaiton of the parameters that need to be adjusted to improve the model's accuracy. This involves fitting the model to the data and refining its parameters. A sensitivity analysis is performed in tutorial \"Sensitivity analysis of an opaque wall model\" to rank the parameters by order of influence on the model error.\n",
    "---"
   ],
   "id": "6fdc965b87565807"
  },
  {
   "metadata": {},
   "cell_type": "markdown",
   "source": "# 1. Model definition",
   "id": "4b04987b85f74388"
  },
  {
   "metadata": {},
   "cell_type": "markdown",
   "source": [
    "Measurement of temperature evolution in layers of an opaque wall installed on a real-scale test bench were performed. The aim is to identify the thermal conductivity of the wall, based on a simplified model.\n",
    "\n",
    "For more detailed on the model description and measurement, see description in tutorial \"Sensitivity analysis of an opaque wall model\".\n",
    "\n",
    "<div style=\"text-align: center;\">\n",
    "  <img src=\"images/RC_model.png\"  style=\"height:400px;\"> <br>\n",
    "  <em>Figure : RC model</em>\n",
    "</div>\n"
   ],
   "id": "1c0a276f7b0d2c67"
  },
  {
   "metadata": {},
   "cell_type": "markdown",
   "source": [
    "As a reminder, it should follow the `Model` interface define in corrai, which guarantees that it can be used in calibration, sensitivity analysis, and optimization workflows.\n",
    "\n",
    "A valid simulator must implement the following concepts:\n",
    "\n",
    "- **`simulate(property_dict, simulation_options, simulation_kwargs)`**\n",
    "  Main entry point. Runs the simulation and returns results as a `pandas.DataFrame` indexed by time.\n",
    "\n",
    "- **`property_dict`**\n",
    "  Dictionary of model parameters `{property_name: value}`.\n",
    "  These overwrite default values to perform calibration, parameter sweeps, or optimization.\n",
    "Here, the wall is described by default physical properties, which can be overridden at runtime :"
   ],
   "id": "74c93be386487cda"
  },
  {
   "metadata": {},
   "cell_type": "code",
   "source": [
    "import numpy as np\n",
    "import pandas as pd\n",
    "from corrai.base.model import Model\n",
    "\n",
    "class OpaqueWallSimple(Model):\n",
    "    def simulate(\n",
    "        self,\n",
    "        property_dict: dict,\n",
    "        simulation_options: dict,\n",
    "        simulation_kwargs: dict | None = None,\n",
    "    ) -> pd.DataFrame:\n",
    "\n",
    "        default_parameters = {\n",
    "            \"R_ext\": 0.005,\n",
    "            \"R_int\": 0.01,\n",
    "            \"R_concrete\": 0.10,\n",
    "            \"R_ins\": 0.32,\n",
    "            \"C_concrete\": 2.95e6,\n",
    "            \"C_ins\": 3.64e4,\n",
    "            \"alpha\": 0.5,\n",
    "            \"S_wall\": 7,\n",
    "            \"epsilon\": 0.4,\n",
    "            \"fview\": 0.5,\n",
    "        }\n",
    "        parameters = {**default_parameters, **property_dict}\n",
    "\n",
    "        R_ext       = parameters[\"R_ext\"]\n",
    "        R_int       = parameters[\"R_int\"]\n",
    "        R_concrete  = parameters[\"R_concrete\"]\n",
    "        R_ins       = parameters[\"R_ins\"]\n",
    "        C_concrete  = parameters[\"C_concrete\"]\n",
    "        C_ins       = parameters[\"C_ins\"]\n",
    "        alpha       = parameters[\"alpha\"]\n",
    "        S_wall      = parameters[\"S_wall\"]\n",
    "        epsilon     = parameters[\"epsilon\"]\n",
    "        fview       = parameters[\"fview\"]\n",
    "\n",
    "        sigma = 5.67e-8  # W/m^2/K^4\n",
    "\n",
    "        df = simulation_options[\"dataframe\"]\n",
    "        time  = df[\"time_sec\"].values\n",
    "        T_ext = df[\"T_ext\"].values\n",
    "        T_int = df[\"T_int\"].values\n",
    "        Q_rad = df[\"Pyr\"].values\n",
    "\n",
    "        startTime = simulation_options.get(\"startTime\", time[0])\n",
    "        stopTime  = simulation_options.get(\"stopTime\",  time[-1])\n",
    "\n",
    "        mask  = (time >= startTime) & (time <= stopTime)\n",
    "        time  = time[mask]\n",
    "        T_ext = T_ext[mask]\n",
    "        T_int = T_int[mask]\n",
    "        Q_rad = Q_rad[mask]\n",
    "\n",
    "        # init\n",
    "        T_se        = np.zeros(len(time))\n",
    "        T_concrete  = np.zeros(len(time))\n",
    "        T_ins       = np.zeros(len(time))\n",
    "        T_interface = np.zeros(len(time))\n",
    "        T_si        = np.zeros(len(time))\n",
    "        T_sky       = np.zeros(len(time))\n",
    "\n",
    "        T_se[0]        = T_ext[0]\n",
    "        T_concrete[0]  = 299 - 273.15\n",
    "        T_ins[0]       = T_int[0]\n",
    "        T_interface[0] = (T_ins[0] + T_concrete[0]) / 2\n",
    "        T_si[0]        = T_int[0]\n",
    "        T_sky[0]       = T_int[0]\n",
    "\n",
    "        for t in range(1, len(time)):\n",
    "            dt = time[t] - time[t - 1]\n",
    "\n",
    "            T_sky[t] = 0.0552 * (T_ext[t] ** 1.5)\n",
    "\n",
    "            Q_rad_sky = epsilon * fview * sigma * (T_se[t - 1] ** 4 - T_sky[t] ** 4) * S_wall\n",
    "            Q_rad_amb = epsilon * fview * sigma * (T_se[t - 1] ** 4 - T_ext[t - 1] ** 4) * S_wall\n",
    "            Q_rad_dir = Q_rad[t - 1] * alpha * S_wall\n",
    "\n",
    "            T_se[t] = (\n",
    "                T_ext[t - 1] / R_ext\n",
    "                + T_ins[t - 1] / (R_ins / 2)\n",
    "                + Q_rad_dir - Q_rad_sky - Q_rad_amb\n",
    "            ) / (1 / R_ext + 1 / (R_ins / 2))\n",
    "\n",
    "            T_interface[t] = (\n",
    "                T_ins[t - 1] / (R_ins / 2) + T_concrete[t - 1] / (R_concrete / 2)\n",
    "            ) / (1 / (R_concrete / 2) + 1 / (R_ins / 2))\n",
    "\n",
    "            T_si[t] = (\n",
    "                T_int[t - 1] / R_int + T_concrete[t - 1] / (R_concrete / 2)\n",
    "            ) / (1 / R_int + 1 / (R_concrete / 2))\n",
    "\n",
    "            T_ins[t] = T_ins[t - 1] + dt / C_ins * (\n",
    "                (T_se[t] - T_ins[t - 1]) / (R_ins / 2)\n",
    "                + (T_interface[t] - T_ins[t - 1]) / (R_ins / 2)\n",
    "            )\n",
    "\n",
    "            T_concrete[t] = T_concrete[t - 1] + dt / C_concrete * (\n",
    "                (T_interface[t] - T_concrete[t - 1]) / (R_concrete / 2)\n",
    "                + (T_si[t] - T_concrete[t - 1]) / (R_concrete / 2)\n",
    "            )\n",
    "\n",
    "        # output\n",
    "        df_out = pd.DataFrame(\n",
    "            {\n",
    "                \"T_concrete\":  T_concrete,\n",
    "                \"T_interface\": T_interface,\n",
    "                \"T_ins\":       T_ins,\n",
    "            },\n",
    "            index=df.index[mask],\n",
    "        )\n",
    "        self.simulation_options = simulation_options\n",
    "        return df_out"
   ],
   "id": "e900f998f4ea30ea",
   "outputs": [],
   "execution_count": null
  },
  {
   "metadata": {},
   "cell_type": "markdown",
   "source": [
    "# 2. Measurement import\n",
    "Let's now load  the reference cell measurement data on python that will be used as boundary conditions. Note that although the data loaded here should have be cleaned beforhand, it is always important to check it before using it for analyses."
   ],
   "id": "5eb5ae2297f037b2"
  },
  {
   "metadata": {},
   "cell_type": "markdown",
   "source": "## Loading the dataframe",
   "id": "b39ed86d8b604a9d"
  },
  {
   "metadata": {},
   "cell_type": "code",
   "source": [
    "import pandas as pd\n",
    "import numpy as np\n",
    "import os\n",
    "import plotly.express as px\n",
    "from pathlib import Path\n",
    "pd.options.mode.chained_assignment = None  # default='warn'\n",
    "\n",
    "TUTORIAL_DIR = Path(os.getcwd()).as_posix()"
   ],
   "id": "1a5a801c534c3d2f",
   "outputs": [],
   "execution_count": null
  },
  {
   "metadata": {},
   "cell_type": "code",
   "source": [
    "reference_df = pd.read_csv(\n",
    "    Path(TUTORIAL_DIR) / \"resources/tuto_data_SA.csv\",\n",
    "    index_col=0,\n",
    "    sep=\";\",\n",
    "    decimal=\".\",\n",
    "    parse_dates=True\n",
    ")"
   ],
   "id": "e5b967f57e7c698f",
   "outputs": [],
   "execution_count": null
  },
  {
   "metadata": {},
   "cell_type": "code",
   "source": "reference_df.head()",
   "id": "5f6d357ab16d1421",
   "outputs": [],
   "execution_count": null
  },
  {
   "metadata": {},
   "cell_type": "code",
   "source": [
    "reference_df.loc[:,\"T_ins\"] = reference_df['T_ins_2'] # middle of insulation temperature\n",
    "reference_df.loc[:,\"T_int\"] =reference_df[['Tint_1', 'Tint_2']].mean(axis=1) # indoor temperature\n",
    "reference_df.loc[:,\"T_interface\"] =  reference_df[['T_interface_1', 'T_interface_2']].mean(axis=1) # interface temperature, between insulation and concrete panels"
   ],
   "id": "2eb47f766e09efa0",
   "outputs": [],
   "execution_count": null
  },
  {
   "metadata": {},
   "cell_type": "markdown",
   "source": "## Reference simulation",
   "id": "4aff4c7d1aafbe37"
  },
  {
   "metadata": {},
   "cell_type": "markdown",
   "source": [
    "Let's run our first simulation with default parameters, on a period with both sunny and cloudy days.\n",
    "To create a \"time_sec\" column used by the model, we can use the following function:"
   ],
   "id": "a1fcbdb4fc0494c0"
  },
  {
   "metadata": {},
   "cell_type": "code",
   "source": [
    "import datetime as dt\n",
    "\n",
    "def datetime_to_seconds(index_datetime):\n",
    "    time_start = dt.datetime(index_datetime[0].year, 1, 1, tzinfo=dt.timezone.utc)\n",
    "    new_index = index_datetime.to_frame().diff().squeeze()\n",
    "    new_index.iloc[0] = dt.timedelta(\n",
    "        seconds=index_datetime[0].timestamp() - time_start.timestamp()\n",
    "    )\n",
    "    sec_dt = [elmt.total_seconds() for elmt in new_index]\n",
    "    return list(pd.Series(sec_dt).cumsum())"
   ],
   "id": "dad5b30f6e0669e4",
   "outputs": [],
   "execution_count": null
  },
  {
   "metadata": {},
   "cell_type": "code",
   "source": [
    "feat_train = reference_df.loc[\"2024-09-04 00:00\":\"2024-09-07 00:00\"]\n",
    "feat_train[\"time_sec\"] = datetime_to_seconds(feat_train.index)\n",
    "\n",
    "sim_opt ={\n",
    "    \"dataframe\":feat_train,\n",
    "    \"startTime\":feat_train[\"time_sec\"].iloc[0],\n",
    "    \"endTime\": feat_train[\"time_sec\"].iloc[-1],\n",
    "}"
   ],
   "id": "a0d55c030a0592a0",
   "outputs": [],
   "execution_count": null
  },
  {
   "metadata": {},
   "cell_type": "code",
   "source": [
    "model = OpaqueWallSimple()\n",
    "init_res = model.simulate(\n",
    "    property_dict ={},\n",
    "    simulation_options=sim_opt\n",
    ")"
   ],
   "id": "4481da307308deb7",
   "outputs": [],
   "execution_count": null
  },
  {
   "metadata": {},
   "cell_type": "markdown",
   "source": "Let's compare results of simulation to measurement:",
   "id": "25980a9648429cd7"
  },
  {
   "metadata": {},
   "cell_type": "code",
   "source": [
    "init_res_renamed = init_res.copy()\n",
    "init_res_renamed.index = init_res_renamed.index.tz_localize(None)\n",
    "init_res_renamed = init_res_renamed.rename(columns={\n",
    "    \"T_concrete\": \"T_concrete_PYTHON\",\n",
    "    \"T_interface\": \"T_interface_PYTHON\",\n",
    "    \"T_ins\": \"T_insulation_PYTHON\",\n",
    "})\n",
    "measure_comp = pd.concat([\n",
    "    feat_train[[\"T_interface\", \"T_ins\"]],\n",
    "    init_res_renamed[[\"T_interface_PYTHON\", \"T_insulation_PYTHON\" ]]], axis = 1)\n",
    "\n",
    "color_map = {\n",
    "    \"T_interface\": \"darkblue\",\n",
    "    \"T_interface_PYTHON\": \"blue\",\n",
    "    \"T_ins\": \"darkgreen\",\n",
    "    \"T_insulation_PYTHON\": \"green\"\n",
    "}\n",
    "\n",
    "import plotly.graph_objects as go\n",
    "from plotly.subplots import make_subplots\n",
    "\n",
    "fig = make_subplots(rows=1, cols=2, subplot_titles=(\"Interface layer\", \"Insulation layer\"))\n",
    "\n",
    "color_map = {\n",
    "    \"T_interface\": \"darkblue\",\n",
    "    \"T_interface_PYTHON\": \"blue\",\n",
    "    \"T_ins\": \"darkgreen\",\n",
    "    \"T_insulation_PYTHON\": \"green\"\n",
    "}\n",
    "for col in [\"T_interface\", \"T_interface_PYTHON\"]:\n",
    "    fig.add_trace(\n",
    "        go.Scatter(x=measure_comp.index, y=measure_comp[col], mode=\"lines\",\n",
    "                   name=col, line=dict(color=color_map[col])),\n",
    "        row=1, col=1\n",
    "    )\n",
    "for col in [\"T_ins\", \"T_insulation_PYTHON\"]:\n",
    "    fig.add_trace(\n",
    "        go.Scatter(x=measure_comp.index, y=measure_comp[col], mode=\"lines\",\n",
    "                   name=col, line=dict(color=color_map[col])),\n",
    "        row=1, col=2\n",
    "    )\n",
    "fig.update_layout(\n",
    "    title=\"Comparaison Python vs Measurement\",\n",
    "    width=1000,\n",
    "    height=500,\n",
    "    legend=dict(orientation=\"h\", yanchor=\"bottom\", y=-0.2, xanchor=\"center\", x=0.5)\n",
    ")\n",
    "\n",
    "fig.show()"
   ],
   "id": "2d347ef906deccdb",
   "outputs": [],
   "execution_count": null
  },
  {
   "metadata": {},
   "cell_type": "markdown",
   "source": [
    "# 3. Identification\n",
    "Now, we proceed to finding optimal values for these parameters by minimizing the coefficient of variation of root mean square error (cv_rmse) between one or several measured nodes, and one or several relevant outputs of our model.\n",
    "\n",
    "**Step-by-Step Process**\n",
    "\n",
    "1. **Define the model and parameters**: by defining `OpaqueWallSimple` (this we already did) and specifying the parameters to be identify. Each parameter includes a name, an interval of possible values, a type, and an initial value.\n",
    "\n",
    "2. **Instantiate an objective function**: We create an instance of the `ObjectiveFunction` class, providing the model, simulation options, list of parameters, and indicators. The `scipy_obj_function` method of `ObjectiveFunction` will be used as the objective function for optimization. This method calculates for instance the cv_rmse of measured vs simulated temperatures, for the given parameter values.\n",
    "\n",
    "3. **Perform optimization**:  We use minimization functions (for instance `minimize_scalar`  from `scipy.optimize`) to minimize the objective function.\n"
   ],
   "id": "8fa01e0b0e27f2ef"
  },
  {
   "cell_type": "markdown",
   "id": "881eb3948326386e",
   "metadata": {},
   "source": [
    "## Definition of an objective function\n",
    "In parameter optimization, we aim to adjust certain model parameters to minimize the difference between simulated and observed data. The objective function is a scalar function that quantifies this difference. In this case, the CV_RMSE (Coefficient of Variation of Root Mean Square Error) is used as a measure of how well the model output matches the reference measurements.\n",
    "\n",
    "**How the ObjectiveFunction Class Works** : The ObjectiveFunction class simplifies the process of optimizing model parameters by providing a structured way to:\n",
    "\n",
    "- Run simulations: For a given set of parameters, the model is simulated over the input data.\n",
    "- Calculate error metrics (e.g., CV_RMSE): The model output is compared to the reference measurements, and a scalar error metric is calculated (such as the CV_RMSE).\n",
    "- Optimize: The class can then be used with optimization algorithms (like scipy.optimize or pymoo) to adjust the model parameters in order to minimize the error metric.\n",
    "\n",
    "\n",
    "To do so, the  `ObjectiveFunction` class is designed to facilitate the optimization of model parameters using `scipy.optimize` or `pymoo` optimization methods by encapsulating the logic for simulation and indicator calculation. The `ObjectiveFunction` class takes a model, simulation options, a list of parameters to be calibrated, and a list of indicators as input. It provides methods to calculate the objective function, which can be used by optimization routines to find the optimal parameters.\n",
    "\n",
    "### Attributes\n",
    "\n",
    "- **model**: The model to be calibrated.\n",
    "- **simulation_options**: A dictionary containing simulation options, including input data.\n",
    "- **param_list**: A list of dictionaries specifying the parameters to be calibrated.\n",
    "- **indicators_config**: A dictionary where the keys are the names of the indicators corresponding to the model outputs, and the values are either:\n",
    "    - An aggregation function to compute the indicator (e.g., np.mean, np.sum).\n",
    "    - A tuple (function, reference_data) if a comparison with reference data is required (e.g., sklearn.metrics.mean_squared_error, corrai.metrics.mae).\n",
    "- **scipy_obj_indicator**: The name of the indicator used as the objective function for optimization with scipy.optimize. By default, it is the first key in indicators_config."
   ]
  },
  {
   "metadata": {},
   "cell_type": "markdown",
   "source": [
    "## Definition of parameters\n",
    "Each decision variable of the optimization problem must be described using a `Parameter` object.\n",
    "A parameter specifies:\n",
    "* `name` — The variable name (string, must be unique within the problem).\n",
    "* `ptype` — Variable type, one of:\n",
    "    * `\"Real\" `— Continuous real number\n",
    "    * `\"Integer\"` — Discrete integer\n",
    "    * `\"Binary\"` — Boolean, domain {False, True} (set automatically if no domain is given)\n",
    "    *` \"Choice\"` — Categorical variable with a fixed set of discrete options\n",
    "* `Domain definition` — Choose exactly one of:\n",
    "    * ` interval=(lo, hi) `— Lower and upper bounds (for \"Real\" and \"Integer\", optional for \"Binary\" if you want (0,1))\n",
    "    * ` values=(v1, v2, …)` — Explicit list/tuple of allowed values (for \"Choice\", and optionally for \"Integer\", \"Real\", or \"Binary\")\n",
    "*` Optional fields`:\n",
    "    * `init_value` — Initial value (or tuple/list of initial values for batch runs); must be within the defined domain\n",
    "    * `relabs` — `\"Absolute\"` or `\"Relative\"`\n",
    "    * `model_property` — String or tuple specifying the corresponding property in the simulation/model\n",
    "    * `min_max_interval` — Optional extra bounds for use in analysis/validation"
   ],
   "id": "bd3e20dc28aad0"
  },
  {
   "cell_type": "markdown",
   "id": "323fe63a31424dcc",
   "metadata": {},
   "source": "## Application: One-dimensional optimization problem"
  },
  {
   "cell_type": "markdown",
   "id": "984adbbfb7c96a81",
   "metadata": {},
   "source": [
    "First, we can try scalar functions optimization from scipy (different methods: brent, boulded, golden ... see documentation on scipy website).\n",
    "For Scypi, each objective function is minimized for optimization:\n",
    "- Here we chose as indicators the temperature calculated and measured within the wall insulation. Note this could be another node (a heat flux densitiy, another temperature node).\n",
    "- The identified parameter here is  $alpha$.\n",
    "\n",
    "Let's define the parameter as Real, between 0 and 1, with a default value of 0.5. By default, it will be considered as an absolute value."
   ]
  },
  {
   "cell_type": "code",
   "id": "7bb570cb25cc3c66",
   "metadata": {},
   "source": [
    "from corrai.base.parameter import Parameter\n",
    "\n",
    "calibration_params = Parameter(\n",
    "    name='alpha',\n",
    "    interval=(0,1),\n",
    "    ptype=\"Real\",\n",
    "    model_property='alpha'\n",
    ")"
   ],
   "outputs": [],
   "execution_count": null
  },
  {
   "cell_type": "markdown",
   "id": "ff18639556ad2235",
   "metadata": {},
   "source": [
    "We can now instanciate an objective function, using `ObjectiveFunction`."
   ]
  },
  {
   "cell_type": "code",
   "id": "9a24e457cc8ad243",
   "metadata": {},
   "source": [
    "from corrai.optimize import ObjectiveFunction\n",
    "from corrai.base.metrics import cv_rmse\n",
    "\n",
    "obj_func = ObjectiveFunction(\n",
    "    model=OpaqueWallSimple(),\n",
    "    simulation_options=sim_opt,\n",
    "    parameters=[calibration_params],\n",
    "    indicators_config={\"T_ins\": (cv_rmse, feat_train[\"T_ins\"])},\n",
    ")"
   ],
   "outputs": [],
   "execution_count": null
  },
  {
   "metadata": {},
   "cell_type": "markdown",
   "source": "Let's see how ObjectiveFunction works by calculating the objective function value for a given value of alpha:",
   "id": "5dc30a4f9746a12e"
  },
  {
   "metadata": {},
   "cell_type": "code",
   "source": [
    "obj_func.function(\n",
    "    parameter_value_pairs = [(calibration_params, 0.5)]  # Example value for alpha\n",
    ")"
   ],
   "id": "1e6c800f938e74f0",
   "outputs": [],
   "execution_count": null
  },
  {
   "cell_type": "markdown",
   "id": "33c9a83c1b01e35",
   "metadata": {},
   "source": [
    "The `minimize_scalar` function in `scipy.optimize` is used for scalar function minimization, specifically for one-dimensional optimization problems. This function finds the minimum value of a scalar function over a specified interval. The main methods are `Brent`, `bounded`, and `golden`.\n",
    "\n",
    "The function returns an optimization result object that contains information about the optimization process and the final solution.\n",
    "\n",
    "- **Brent** :The Brent method uses Brent’s algorithm, which combines a parabolic interpolation with the golden section search. This method does not require the interval bounds.\n",
    "- **Golden** : Employs the golden section search method, which reduces the interval of uncertainty using the golden ratio. Simple and reliable for unimodal functions, but may be slower than Brent's method.\n",
    "- **Bounded** : Restricts the search to the specified bounds using a combination of golden section search and parabolic interpolation.\n",
    "Advantages: Ensures that the solution remains within the given bounds, making it ideal for constrained problems."
   ]
  },
  {
   "cell_type": "code",
   "id": "78db962a6495b017",
   "metadata": {},
   "source": [
    "from scipy.optimize import minimize_scalar"
   ],
   "outputs": [],
   "execution_count": null
  },
  {
   "cell_type": "code",
   "id": "d5092d877401ac2",
   "metadata": {},
   "source": [
    "import warnings\n",
    "warnings.filterwarnings('ignore', category=RuntimeWarning)\n",
    "\n",
    "result = minimize_scalar(\n",
    "    obj_func.scipy_obj_function, \n",
    "    bounds=obj_func.bounds[0],\n",
    "    method=\"Bounded\"\n",
    ")\n",
    "\n",
    "result"
   ],
   "outputs": [],
   "execution_count": null
  },
  {
   "cell_type": "markdown",
   "id": "4cbf2fc9729e00c3",
   "metadata": {},
   "source": "A solution is found with a value of 0.12 for alpha and 4.36 for the CV_RMSE. Let's check if the parameter value is close to the boundaries."
  },
  {
   "cell_type": "code",
   "id": "26f4a8819c02136f",
   "metadata": {},
   "source": [
    "obj_func.bounds"
   ],
   "outputs": [],
   "execution_count": null
  },
  {
   "cell_type": "markdown",
   "id": "48dc0d58db1cfc5a",
   "metadata": {},
   "source": [
    "It is indeed not far from 0.1 but not a the limit. Let's now run the simulation using this parameter value and compare with the initial simulation."
   ]
  },
  {
   "cell_type": "code",
   "id": "2ae801d71552398c",
   "metadata": {},
   "source": [
    "parameter_names = [\"alpha\"]\n",
    "parameter_dict1 = {param_name: result.x for i, param_name in enumerate(parameter_names)}\n",
    "\n",
    "result_optim = model.simulate(\n",
    "    property_dict=parameter_dict1,\n",
    "    simulation_options=sim_opt\n",
    ")"
   ],
   "outputs": [],
   "execution_count": null
  },
  {
   "cell_type": "code",
   "id": "77aa000a449d0e",
   "metadata": {},
   "source": [
    "import plotly.graph_objects as go\n",
    "\n",
    "fig = go.Figure()\n",
    "\n",
    "fig.add_trace(go.Scatter(\n",
    "    x=feat_train.index,\n",
    "    y=feat_train[\"T_ins\"],\n",
    "    fill=None,\n",
    "    mode='lines',\n",
    "    line_color='green',\n",
    "    name=\"T_insulation - Measurement\"\n",
    "))\n",
    "\n",
    "fig.add_trace(go.Scatter(\n",
    "    x=init_res.index,\n",
    "    y=init_res[\"T_ins\"],\n",
    "    fill=None,\n",
    "    mode='lines',\n",
    "    line_color='orange',\n",
    "    name=\"T_insulation - Initial results\"\n",
    "))\n",
    "\n",
    "fig.add_trace(go.Scatter(\n",
    "    x=result_optim.index,\n",
    "    y=result_optim[\"T_ins\"],\n",
    "    fill=None,\n",
    "    mode='lines',\n",
    "    line_color='brown',\n",
    "    name=\"T_insulation - Optimization results\"\n",
    "))\n",
    "\n",
    "\n",
    "fig.update_layout(\n",
    "    title='Optimization vs. Measurement ',\n",
    "    xaxis_title='Date',\n",
    "    yaxis_title='Temperature [K]')\n",
    "\n",
    "fig.show()"
   ],
   "outputs": [],
   "execution_count": null
  },
  {
   "cell_type": "markdown",
   "id": "679cbfeaa19bb4c4",
   "metadata": {},
   "source": [
    "Results are closer to measurements but still far off."
   ]
  },
  {
   "cell_type": "markdown",
   "id": "cdb92f3584436e59",
   "metadata": {},
   "source": "## Application: multi- objectives and multi parameters optimization"
  },
  {
   "cell_type": "markdown",
   "id": "1b52c09b40f97821",
   "metadata": {},
   "source": [
    "Let's use Pymoo, integrated into the `Problem` class of `CorrAI`  and multi-parameters optimization with multi_objectives.\n",
    "\n",
    "Note that :\n",
    "- All **objectives are minimized**.\n",
    "- All **constraints** must be provided in the form **g(x) ≤ 0** (inequalities).\n",
    "\n",
    "`Problem` aggregates all evaluator outputs into a single dictionary and then **extracts**:\n",
    "- **Objectives** in the order of `objective_ids` → matrix **F**\n",
    "- **Constraints** in the order of `constraint_ids` → matrix **G** (≤ 0)\n",
    "\n",
    "`Problem` takes as arguments:\n",
    "- **`parameters`**: as defined earlier from the class `Parameter`\n",
    "- **`evaluators`**  (or objective functions)\n",
    "- **`objective_ids`** :   Names (keys) to extract from evaluator outputs to build **F** (in order).\n",
    "- **`constraint_ids`**  : Optional names to extract for **G** (inequalities ≤ 0). If omitted, `G` is empty.\n"
   ]
  },
  {
   "cell_type": "markdown",
   "id": "1a18680c67860070",
   "metadata": {},
   "source": "###  Several parameters, one objective"
  },
  {
   "metadata": {},
   "cell_type": "code",
   "source": [
    "# Surface of the tested wall\n",
    "S_wall =  7\n",
    "\n",
    "# Thickness of layer\n",
    "ep_concrete = 0.200 #m\n",
    "ep_ins = 0.140 #m\n",
    "\n",
    "# Conductivity of layer\n",
    "lambda_concrete = 0.13 # (W/mK)\n",
    "lambda_ins = 0.031 # W/(mK)\n",
    "\n",
    "# Density of layer\n",
    "rho_concrete = 2400 # kg/m3\n",
    "rho_ins = 32.5  # kg/m3\"\n",
    "\n",
    "sc_concrete = 880 # J/kg.K\n",
    "sc_ins = 1000 # J/kg.K\n",
    "\n",
    "# solar paremetesr\n",
    "alpha = 0.2 # absorption coefficient\n",
    "epsilon = 0.8 # emissivity\n",
    "fview = 0.5 # view factor of tested wall"
   ],
   "id": "cc809d95ef604660",
   "outputs": [],
   "execution_count": null
  },
  {
   "metadata": {},
   "cell_type": "markdown",
   "source": [
    "Let's define now a list of two parameters, with one as a relative value.\n",
    "The specified interval defines the relative search space around the initial value.\n",
    "If no initial value is provided, the model should have a `get_property_value()` method to retrieve a default value."
   ],
   "id": "4b4b576895a2adde"
  },
  {
   "cell_type": "code",
   "id": "382639dbbdf0b7f5",
   "metadata": {},
   "source": [
    "calibration_params = [\n",
    "    Parameter(\n",
    "        name='R_ext',\n",
    "        init_value= 0.04/S_wall,\n",
    "        interval=(0.4, 1.6), # search between 40% and 160% of initial value\n",
    "        relabs=\"Relative\",\n",
    "        ptype=\"Real\",\n",
    "        model_property='R_ext',\n",
    "    ),\n",
    "    Parameter(\n",
    "        name='alpha',\n",
    "        interval=(0.2, 0.8),\n",
    "        ptype=\"Real\",\n",
    "        model_property='alpha',\n",
    "    ),\n",
    "]"
   ],
   "outputs": [],
   "execution_count": null
  },
  {
   "cell_type": "markdown",
   "id": "49e611448d80337b",
   "metadata": {},
   "source": "Here, we can add the interferace temperature (between insulation and concrete panels) as an indicator."
  },
  {
   "cell_type": "code",
   "id": "ef97cc58e43c40d6",
   "metadata": {},
   "source": [
    "from corrai.base.metrics import cv_rmse\n",
    "\n",
    "obj_func = ObjectiveFunction(\n",
    "    model=OpaqueWallSimple(),\n",
    "    simulation_options=sim_opt,\n",
    "    parameters=calibration_params,\n",
    "    indicators_config={\n",
    "        \"T_ins\": (cv_rmse, feat_train[\"T_ins\"]),\n",
    "        \"T_interface\": (cv_rmse, feat_train[\"T_interface\"]),\n",
    "    },\n",
    "    scipy_obj_indicator=\"T_ins\",\n",
    ")"
   ],
   "outputs": [],
   "execution_count": null
  },
  {
   "cell_type": "markdown",
   "id": "93799f08a89ee390",
   "metadata": {},
   "source": [
    "Now let's instanciate the problem using the classe `Problem`:"
   ]
  },
  {
   "cell_type": "code",
   "id": "40c58ef20557e69a",
   "metadata": {},
   "source": [
    "from corrai.optimize import Problem\n",
    "\n",
    "problem = Problem(\n",
    "    parameters=calibration_params,\n",
    "    evaluators=[obj_func],\n",
    "    objective_ids=[\"T_ins\", \"T_interface\"],\n",
    ")"
   ],
   "outputs": [],
   "execution_count": null
  },
  {
   "cell_type": "markdown",
   "id": "5c560de6fcd540c7",
   "metadata": {},
   "source": [
    "For a two objective problem, we choose here **NSGA2**, as a well-known multi-objective optimization algorithm based on non-dominated sorting and crowding.\n",
    "List of algorithms here https://pymoo.org/algorithms/list.html#nb-algorithms-list.\n",
    "\n",
    "If the verbose=True, some printouts during the algorithm’s execution are provided. This can very from algorithm to algorithm. Here, we execute NSGA2 on a problem where pymoo has no knowledge about the optimum. Each line represents one iteration. The first two columns are the current generation counter and the number of evaluations so far. For constrained problems, the next two columns show the minimum constraint violation (cv (min)) and the average constraint violation (cv (avg)) in the current population. This is followed by the number of non-dominated solutions (n_nds) and two more metrics which represents the movement in the objective space."
   ]
  },
  {
   "cell_type": "code",
   "id": "36c4a5e29c3580da",
   "metadata": {},
   "source": [
    "from pymoo.algorithms.moo.nsga2 import NSGA2\n",
    "from pymoo.optimize import minimize\n",
    "from pymoo.operators.crossover.pntx import TwoPointCrossover\n",
    "from pymoo.termination import get_termination\n",
    "from pymoo.algorithms.moo.nsga2 import NSGA2\n",
    "from pymoo.operators.crossover.sbx import SBX\n",
    "from pymoo.operators.mutation.pm import PM\n",
    "from pymoo.operators.sampling.rnd import FloatRandomSampling"
   ],
   "outputs": [],
   "execution_count": null
  },
  {
   "cell_type": "code",
   "id": "14d5c56706972fb0",
   "metadata": {},
   "source": [
    "algorithm = NSGA2(\n",
    "    pop_size=50,\n",
    "    #n_offsprings=10,\n",
    "    #sampling=FloatRandomSampling(),\n",
    "    crossover=SBX(prob=0.9, eta=15),\n",
    "    mutation=PM(eta=20),\n",
    "    eliminate_duplicates=True\n",
    ")"
   ],
   "outputs": [],
   "execution_count": null
  },
  {
   "cell_type": "markdown",
   "id": "e7742f7b075e7bc4",
   "metadata": {},
   "source": [
    "Here, we will run 15 generation with a population of 50."
   ]
  },
  {
   "cell_type": "code",
   "id": "7023f1282a7b0398",
   "metadata": {},
   "source": [
    "termination = get_termination(\"n_gen\", 15)\n",
    "\n",
    "res = minimize(problem,\n",
    "               algorithm,\n",
    "               termination,\n",
    "               seed=42,\n",
    "               verbose=True)\n",
    "\n",
    "print(\"Best solution found: \\nX = %s\\nF = %s\" % (res.X, res.F))"
   ],
   "outputs": [],
   "execution_count": null
  },
  {
   "cell_type": "markdown",
   "id": "5c3a4c4acc8b32f2",
   "metadata": {},
   "source": "We can now visualize the objectives functions results using the `Scatter` function from pymoo."
  },
  {
   "cell_type": "code",
   "id": "9d9ff70f4e4e5873",
   "metadata": {},
   "source": [
    "from pymoo.visualization.scatter import Scatter\n",
    "Scatter().add(res.F).show()"
   ],
   "outputs": [],
   "execution_count": null
  },
  {
   "cell_type": "markdown",
   "id": "3310ee8c9851ee39",
   "metadata": {},
   "source": [
    "For a bi-objective problem,and helping us chosing the best set of parameters value, we can use the decomposition method called Augmented Scalarization Function (ASF), a well-known metric in the multi-objective optimization literature.\n",
    "Let us assume the are equally important by setting the weights to 0.5 and 0.5 and setting these"
   ]
  },
  {
   "cell_type": "code",
   "id": "430753101a36d277",
   "metadata": {},
   "source": [
    "from pymoo.decomposition.asf import ASF\n",
    "F = res.F\n",
    "approx_ideal = F.min(axis=0)\n",
    "approx_nadir = F.max(axis=0)\n",
    "nF = (F - approx_ideal) / (approx_nadir - approx_ideal)\n",
    "\n",
    "fl = nF.min(axis=0)\n",
    "fu = nF.max(axis=0)\n",
    "weights = np.array([0.5, 0.5])\n",
    "decomp = ASF()\n",
    "\n",
    "i = decomp.do(nF, 1/weights).argmin()\n",
    "\n",
    "parameter_names = [param.name for param in calibration_params]\n",
    "parameter_dict = {param_name: res.X[i][j] for j, param_name in enumerate(parameter_names)}\n",
    "\n",
    "print(\n",
    "    \"Best regarding ASF: Point \\ni = %s\\nF = %s\" % (i,  F[i]),\n",
    "    parameter_dict\n",
    ")\n"
   ],
   "outputs": [],
   "execution_count": null
  },
  {
   "cell_type": "markdown",
   "id": "6af5abd476a2d1ce",
   "metadata": {},
   "source": [
    "The estimated parameters are consistent with our expectations but at the limits of our bounds. This shows the model is not either adapted to physical behaviour of our system, or boundaries are not large enough. Either way, we can compare the profile of measured indoor temperature with the output that the model predicts given the identified optimal parameters.\n",
    "\n",
    "Since we used relative parameters, we need to create a list of parameter-value pairs to run the simulation and use the method `simulate_parameter` from Model(ABC), which will convert the given percentage found by the algorithm into an absolute value for R_ext."
   ]
  },
  {
   "metadata": {},
   "cell_type": "code",
   "source": [
    "parameter_value_pairs = [\n",
    "    (param, res.X[i][j])\n",
    "    for j, param in enumerate(calibration_params)\n",
    "]"
   ],
   "id": "df6d385e415776b3",
   "outputs": [],
   "execution_count": null
  },
  {
   "cell_type": "code",
   "id": "9a396bd186cd8dce",
   "metadata": {},
   "source": [
    "result_optim = model.simulate_parameter(\n",
    "    parameter_value_pairs=parameter_value_pairs,\n",
    "    simulation_options=sim_opt,\n",
    ")"
   ],
   "outputs": [],
   "execution_count": null
  },
  {
   "cell_type": "code",
   "id": "77bd39626a63b358",
   "metadata": {},
   "source": [
    "import plotly.graph_objects as go\n",
    "from plotly.subplots import make_subplots\n",
    "\n",
    "fig = make_subplots(rows=1, cols=2, subplot_titles=(\"T_insulation\", \"T_interface\"))\n",
    "\n",
    "fig.add_trace(go.Scatter(\n",
    "    x=init_res.index,\n",
    "    y=feat_train[\"T_ins\"],\n",
    "    mode=\"lines\",\n",
    "    line_color=\"green\",\n",
    "    name=\"Measurement\"\n",
    "), row=1, col=1)\n",
    "\n",
    "fig.add_trace(go.Scatter(\n",
    "    x=init_res.index,\n",
    "    y=init_res[\"T_ins\"],\n",
    "    mode=\"lines\",\n",
    "    line_color=\"orange\",\n",
    "    name=\"Initial results\"\n",
    "), row=1, col=1)\n",
    "\n",
    "fig.add_trace(go.Scatter(\n",
    "    x=feat_train.index,\n",
    "    y=result_optim[\"T_ins\"],\n",
    "    mode=\"lines\",\n",
    "    line_color=\"brown\",\n",
    "    name=\"Optimization results\"\n",
    "), row=1, col=1)\n",
    "\n",
    "# --- Droite : T_interface ---\n",
    "fig.add_trace(go.Scatter(\n",
    "    x=init_res.index,\n",
    "    y=feat_train[\"T_interface\"],\n",
    "    mode=\"lines\",\n",
    "    line_color=\"green\",\n",
    "    name=\"Measurement\"\n",
    "), row=1, col=2)\n",
    "\n",
    "fig.add_trace(go.Scatter(\n",
    "    x=init_res.index,\n",
    "    y=init_res[\"T_interface\"],\n",
    "    mode=\"lines\",\n",
    "    line_color=\"orange\",\n",
    "    name=\"Initial results\"\n",
    "), row=1, col=2)\n",
    "\n",
    "fig.add_trace(go.Scatter(\n",
    "    x=feat_train.index,\n",
    "    y=result_optim[\"T_interface\"],\n",
    "    mode=\"lines\",\n",
    "    line_color=\"brown\",\n",
    "    name=\"Optimization results\"\n",
    "), row=1, col=2)\n",
    "\n",
    "# Layout\n",
    "fig.update_layout(\n",
    "    title=\"Optimization vs. Measurement\",\n",
    "    xaxis_title=\"Date\",\n",
    "    yaxis_title=\"Temperature [°C]\",\n",
    "    showlegend=True\n",
    ")\n",
    "\n",
    "fig.show()\n"
   ],
   "outputs": [],
   "execution_count": null
  },
  {
   "cell_type": "markdown",
   "id": "2d5b8b9c95df81cc",
   "metadata": {},
   "source": [
    "#### Validation set\n",
    "An important step is to check identified parameters on validation set. Let's try on an new period using the last identified values."
   ]
  },
  {
   "cell_type": "code",
   "id": "9aa4f7a4cc5c7ddc",
   "metadata": {},
   "source": [
    "validation_set = reference_df.loc[\"2024-09-08 00:00\":\"2024-09-14 00:00\"]\n",
    "validation_set.loc[:,\"time_sec\"] = datetime_to_seconds(validation_set.index)\n",
    "\n",
    "validation_set = validation_set.resample('5min').mean()\n",
    "second_index = datetime_to_seconds(validation_set.index)\n",
    "\n",
    "new_sim_opt={\n",
    "    \"dataframe\":validation_set,\n",
    "    \"startTime\": second_index[0],\n",
    "    \"endTime\": second_index[-1],  \n",
    "}"
   ],
   "outputs": [],
   "execution_count": null
  },
  {
   "cell_type": "code",
   "id": "cad5e270e1e6ab01",
   "metadata": {},
   "source": [
    "validation_results = model.simulate_parameter(\n",
    "    parameter_value_pairs=parameter_value_pairs,\n",
    "    simulation_options=new_sim_opt,\n",
    ")"
   ],
   "outputs": [],
   "execution_count": null
  },
  {
   "cell_type": "code",
   "id": "c894241ee9e19da6",
   "metadata": {},
   "source": [
    "import plotly.graph_objects as go\n",
    "\n",
    "fig = go.Figure()\n",
    "\n",
    "fig.add_trace(go.Scatter(\n",
    "    x=validation_results.index,\n",
    "    y=validation_results[\"T_ins\"] ,\n",
    "    fill=None,\n",
    "    mode='lines',\n",
    "    line_color='orange',\n",
    "    name=\"T_insulation - Validation result\"\n",
    "))\n",
    "\n",
    "fig.add_trace(go.Scatter(\n",
    "    x=validation_results.index,\n",
    "    y=validation_set[\"T_ins\"],\n",
    "    fill=None,\n",
    "    mode='lines',\n",
    "    line_color='green',\n",
    "    name=\"T_insulation - Measurement\"\n",
    "))\n",
    "\n",
    "fig.update_layout(\n",
    "    title='Simulation vs. Measurement ',\n",
    "    xaxis_title='Date',\n",
    "    yaxis_title='Temperature [K]')\n",
    "\n",
    "fig.show()"
   ],
   "outputs": [],
   "execution_count": null
  },
  {
   "cell_type": "code",
   "id": "84673e7340839047",
   "metadata": {},
   "source": [
    "cv_rmse(\n",
    "    validation_results[\"T_ins\"],\n",
    "    validation_set[\"T_ins\"]\n",
    ")"
   ],
   "outputs": [],
   "execution_count": null
  },
  {
   "metadata": {},
   "cell_type": "markdown",
   "source": "As we can see, the results are not very good. We could try to identifiy more parameters, or change the model to better represent the physical phenomena.",
   "id": "8c604268cd14f32b"
  },
  {
   "cell_type": "markdown",
   "id": "f85f87661de5c8c3",
   "metadata": {},
   "source": [
    "## 4.3.3 Mixed parameters"
   ]
  },
  {
   "cell_type": "markdown",
   "id": "77844027c51e6f9b",
   "metadata": {},
   "source": [
    "In some calibrations, some decision variables are discrete rather than purely continuous—e.g., on/off features (booleans), choices among a few valid modes, or integers for counts. Standard continuous optimizers used earlier assume a smooth search space and therefore won’t handle these variables correctly.\n",
    "\n",
    "To reflect realistic design decisions and configuration toggles, we now introduce a model with a boolean switch (e.g., enabling/disabling a physical effect) and restrict alpha to a small set of admissible values. This mixed-variable setup better captures practical constraints and uncertainty (e.g., unknown presence of a phenomenon, or controller setpoint options), and requires a mixed-variable optimization strategy."
   ]
  },
  {
   "cell_type": "code",
   "id": "f38515d84c5b71cd",
   "metadata": {},
   "source": [
    "import numpy as np\n",
    "import pandas as pd\n",
    "from corrai.base.model import Model\n",
    "\n",
    "class OpaqueWallBool(Model):\n",
    "    def simulate(\n",
    "        self,\n",
    "        property_dict: dict,\n",
    "        simulation_options: dict,\n",
    "        simulation_kwargs: dict | None = None,\n",
    "    ) -> pd.DataFrame:\n",
    "\n",
    "        default_parameters = {\n",
    "            \"R_ext\": 0.005,\n",
    "            \"R_int\": 0.01,\n",
    "            \"R_concrete\": 0.10,\n",
    "            \"R_ins\": 0.32,\n",
    "            \"C_concrete\": 2.95e6,\n",
    "            \"C_ins\": 3.64e4,\n",
    "            \"alpha\": 0.2,\n",
    "            \"S_wall\": 7,\n",
    "            \"epsilon\": 0.4,\n",
    "            \"fview\": 0.5,\n",
    "            \"has_LW_radiation\": True\n",
    "        }\n",
    "        parameters = {**default_parameters, **property_dict}\n",
    "\n",
    "        R_ext       = parameters[\"R_ext\"]\n",
    "        R_int       = parameters[\"R_int\"]\n",
    "        R_concrete  = parameters[\"R_concrete\"]\n",
    "        R_ins       = parameters[\"R_ins\"]\n",
    "        C_concrete  = parameters[\"C_concrete\"]\n",
    "        C_ins       = parameters[\"C_ins\"]\n",
    "        alpha       = parameters[\"alpha\"]\n",
    "        S_wall      = parameters[\"S_wall\"]\n",
    "        epsilon     = parameters[\"epsilon\"]\n",
    "        fview       = parameters[\"fview\"]\n",
    "        has_LW_radiation = parameters[\"has_LW_radiation\"]\n",
    "\n",
    "        sigma = 5.67e-8  # W/m^2/K^4\n",
    "\n",
    "        df = simulation_options[\"dataframe\"]\n",
    "        time  = df[\"time_sec\"].values\n",
    "        T_ext = df[\"T_ext\"].values\n",
    "        T_int = df[\"T_int\"].values\n",
    "        Q_rad = df[\"Pyr\"].values\n",
    "\n",
    "        startTime = simulation_options.get(\"startTime\", time[0])\n",
    "        stopTime  = simulation_options.get(\"stopTime\",  time[-1])\n",
    "\n",
    "        mask  = (time >= startTime) & (time <= stopTime)\n",
    "        time  = time[mask]\n",
    "        T_ext = T_ext[mask]\n",
    "        T_int = T_int[mask]\n",
    "        Q_rad = Q_rad[mask]\n",
    "\n",
    "        # init\n",
    "        T_se        = np.zeros(len(time))\n",
    "        T_concrete  = np.zeros(len(time))\n",
    "        T_ins       = np.zeros(len(time))\n",
    "        T_interface = np.zeros(len(time))\n",
    "        T_si        = np.zeros(len(time))\n",
    "        T_sky       = np.zeros(len(time))\n",
    "\n",
    "        T_se[0]        = T_ext[0]\n",
    "        T_concrete[0]  = 299\n",
    "        T_ins[0]       = T_int[0]\n",
    "        T_interface[0] = (T_ins[0] + T_concrete[0]) / 2\n",
    "        T_si[0]        = T_int[0]\n",
    "        T_sky[0]       = T_int[0]\n",
    "\n",
    "        for t in range(1, len(time)):\n",
    "            dt = time[t] - time[t - 1]\n",
    "\n",
    "\n",
    "            ## boolean to turn off long wave radiation exchange with environnement and sky\n",
    "            T_sky[t] = 0.0552 * (T_ext[t] ** 1.5) if has_LW_radiation else 0.0\n",
    "\n",
    "            Q_rad_sky = (\n",
    "                epsilon * fview * sigma * (T_se[t - 1] ** 4 - T_sky[t] ** 4) * S_wall\n",
    "                if has_LW_radiation else 0.0\n",
    "            )\n",
    "            Q_rad_amb = (\n",
    "                epsilon * fview * sigma * (T_se[t - 1] ** 4 - T_ext[t - 1] ** 4) * S_wall\n",
    "                if has_LW_radiation else 0.0\n",
    "            )\n",
    "            Q_rad_dir = Q_rad[t - 1] * alpha * S_wall\n",
    "\n",
    "            T_se[t] = (\n",
    "                T_ext[t - 1] / R_ext\n",
    "                + T_ins[t - 1] / (R_ins / 2)\n",
    "                + Q_rad_dir - Q_rad_sky - Q_rad_amb\n",
    "            ) / (1 / R_ext + 1 / (R_ins / 2))\n",
    "\n",
    "            T_interface[t] = (\n",
    "                T_ins[t - 1] / (R_ins / 2) + T_concrete[t - 1] / (R_concrete / 2)\n",
    "            ) / (1 / (R_concrete / 2) + 1 / (R_ins / 2))\n",
    "\n",
    "            T_si[t] = (\n",
    "                T_int[t - 1] / R_int + T_concrete[t - 1] / (R_concrete / 2)\n",
    "            ) / (1 / R_int + 1 / (R_concrete / 2))\n",
    "\n",
    "            T_ins[t] = T_ins[t - 1] + dt / C_ins * (\n",
    "                (T_se[t] - T_ins[t - 1]) / (R_ins / 2)\n",
    "                + (T_interface[t] - T_ins[t - 1]) / (R_ins / 2)\n",
    "            )\n",
    "\n",
    "            T_concrete[t] = T_concrete[t - 1] + dt / C_concrete * (\n",
    "                (T_interface[t] - T_concrete[t - 1]) / (R_concrete / 2)\n",
    "                + (T_si[t] - T_concrete[t - 1]) / (R_concrete / 2)\n",
    "            )\n",
    "\n",
    "        # output\n",
    "        df_out = pd.DataFrame(\n",
    "            {\n",
    "                \"T_concrete\":  T_concrete,\n",
    "                \"T_interface\": T_interface,\n",
    "                \"T_ins\":       T_ins,\n",
    "            },\n",
    "            index=df.index[mask],\n",
    "        )\n",
    "        self.simulation_options = simulation_options\n",
    "        return df_out"
   ],
   "outputs": [],
   "execution_count": null
  },
  {
   "cell_type": "code",
   "id": "6c69db5bf099ef9",
   "metadata": {},
   "source": [
    "from corrai.base.parameter import Parameter\n",
    "\n",
    "mixed_params = [\n",
    "    Parameter(name=\"alpha\", values=(0.2, 0.4, 0.5), ptype=\"Choice\", model_property=\"alpha\"),\n",
    "    Parameter(name=\"epsilon\", interval=(0, 1), ptype=\"Real\", model_property=\"epsilon\"),\n",
    "    Parameter(name=\"has_LW_radiation\", ptype=\"Binary\", model_property=\"has_LW_radiation\"),\n",
    "]"
   ],
   "outputs": [],
   "execution_count": null
  },
  {
   "cell_type": "code",
   "id": "c1003131b39bbf24",
   "metadata": {},
   "source": [
    "from corrai.optimize import Problem, ObjectiveFunction\n",
    "from corrai.base.metrics import cv_rmse\n",
    "\n",
    "obj_func = ObjectiveFunction(\n",
    "    model=OpaqueWallBool(),\n",
    "    simulation_options=sim_opt,\n",
    "    parameters=mixed_params,\n",
    "    indicators_config={\n",
    "        \"T_ins\": (cv_rmse, feat_train[\"T_ins\"]),\n",
    "    },\n",
    ")\n",
    "\n",
    "problem = Problem(\n",
    "    parameters=mixed_params,\n",
    "    evaluators=[obj_func],\n",
    "    objective_ids=[\"T_ins\"],\n",
    ")"
   ],
   "outputs": [],
   "execution_count": null
  },
  {
   "cell_type": "code",
   "id": "f4a5b54c01f43a76",
   "metadata": {},
   "source": [
    "from pymoo.termination import get_termination\n",
    "from pymoo.algorithms.moo.nsga2 import RankAndCrowdingSurvival\n",
    "from pymoo.core.mixed import MixedVariableGA\n",
    "from pymoo.optimize import minimize\n",
    "\n",
    "algorithm = MixedVariableGA(pop_size=50, survival=RankAndCrowdingSurvival())\n",
    "termination = get_termination(\"n_gen\", 5)\n",
    "\n",
    "res = minimize(problem,\n",
    "               algorithm,\n",
    "               termination,\n",
    "               seed=42,\n",
    "               verbose=True)\n",
    "\n",
    "print(\"Best solution found: \\nX = %s\\nF = %s\" % (res.X, res.F))"
   ],
   "outputs": [],
   "execution_count": null
  },
  {
   "cell_type": "code",
   "id": "29b9e0c7e9436863",
   "metadata": {},
   "source": [
    "parameter_value_pairs = [(p, res.X[p.name]) for p in mixed_params]\n",
    "\n",
    "model.simulate_parameter(\n",
    "    parameter_value_pairs=parameter_value_pairs,\n",
    "    simulation_options=sim_opt,\n",
    ")"
   ],
   "outputs": [],
   "execution_count": null
  },
  {
   "metadata": {},
   "cell_type": "code",
   "source": "",
   "id": "3038c362af13a0dc",
   "outputs": [],
   "execution_count": null
  }
 ],
 "metadata": {
  "kernelspec": {
   "display_name": "Python 3 (ipykernel)",
   "language": "python",
   "name": "python3"
  },
  "language_info": {
   "codemirror_mode": {
    "name": "ipython",
    "version": 3
   },
   "file_extension": ".py",
   "mimetype": "text/x-python",
   "name": "python",
   "nbconvert_exporter": "python",
   "pygments_lexer": "ipython3",
   "version": "3.12.11"
  }
 },
 "nbformat": 4,
 "nbformat_minor": 5
}
