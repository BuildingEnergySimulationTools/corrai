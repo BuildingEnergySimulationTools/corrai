{
 "cells": [
  {
   "cell_type": "code",
   "execution_count": null,
   "id": "b28b6845",
   "metadata": {},
   "outputs": [],
   "source": [
    "import pandas as pd\n",
    "from pathlib import Path\n",
    "import os"
   ]
  },
  {
   "cell_type": "markdown",
   "id": "77e18887-a12e-4198-a72b-dcc420528518",
   "metadata": {},
   "source": [
    "# Tutorial for handling FMU models \n",
    "The aim of this tutorial is to demonstrate how to load FMU models on python using <code>ModelicaFmuModel</code> class."
   ]
  },
  {
   "cell_type": "markdown",
   "id": "13ff37e6-d666-4c81-96d0-7913eeead9d4",
   "metadata": {},
   "source": [
    "# 1. Proposed model "
   ]
  },
  {
   "cell_type": "markdown",
   "id": "4b6c113a-ccdb-4fb5-a81d-fa75473028c7",
   "metadata": {},
   "source": [
    "In this tutorial, we load and run an FMU model created with Python beforehand.\n",
    "\n",
    "The model is a uses a resistance-capacity approach (4R2C) of a wall installed in a test bench, with : \n",
    "- inside-outside convection/conduction transfers\n",
    "- Infrared transfers with the sky and surrounding\n",
    "- Short wave solar radiation transfers\n",
    "- External and internal temperature as boundary conditions.\n",
    "\n",
    "The model was built using openModelica then exported as an FMU: \n",
    "\n",
    "<img src=\"images/OM_eticsmodel.png\"  height=\"200\">\n"
   ]
  },
  {
   "cell_type": "markdown",
   "id": "94f78fac-8238-4755-a876-3b7b63a8c323",
   "metadata": {},
   "source": [
    "# 2. Set boundary file\n",
    "First, let us load measurement data on python, which will be used as our boundary conditions:"
   ]
  },
  {
   "cell_type": "code",
   "execution_count": null,
   "id": "71e65ff5-8023-4cd5-884d-c0c1c4118235",
   "metadata": {},
   "outputs": [],
   "source": [
    "TUTORIAL_DIR = Path(os.getcwd()).as_posix()"
   ]
  },
  {
   "cell_type": "code",
   "execution_count": null,
   "id": "fae39639-7b9d-42c7-ae6f-d403b570dd0b",
   "metadata": {},
   "outputs": [],
   "source": [
    "reference_df = pd.read_csv(\n",
    "    Path(TUTORIAL_DIR) / \"resources/study_df.csv\",\n",
    "    index_col=0,\n",
    "    parse_dates=True\n",
    ")    "
   ]
  },
  {
   "cell_type": "markdown",
   "id": "8e5b0a86-64c9-4bdc-a06a-7a360dfd7985",
   "metadata": {},
   "source": [
    "# 2. Set simulations options"
   ]
  },
  {
   "cell_type": "markdown",
   "id": "1a90bd42-0eb4-4cdb-aabd-66737fca9efd",
   "metadata": {},
   "source": [
    "The used class for running the FMU model requires a model path, simulation options, and optionaly, a reference dataframe for boundary options (to override the default one) and a list of outputs.\n",
    "\n",
    "We already loaded the boundary file. We can set the simulation options:\n",
    "- Start time and stop time should be in second. We can use the index of the <code>DataFrame</code> we just created.\n",
    "The function <code>datetime_to_seconds</code>\n",
    "helps you convert datetime index in seconds.\n",
    "- The solver in the simulation options must be one of 'Euler' or 'CVode'.\n",
    "- The output interval is in seconds."
   ]
  },
  {
   "cell_type": "code",
   "execution_count": null,
   "id": "ad64c5af-6f61-4211-b2ea-9c3db82fc3b3",
   "metadata": {},
   "outputs": [],
   "source": [
    "import datetime as dt\n",
    "\n",
    "def datetime_to_seconds(index_datetime):\n",
    "    time_start = dt.datetime(index_datetime[0].year, 1, 1, tzinfo=dt.timezone.utc)\n",
    "    new_index = index_datetime.to_frame().diff().squeeze()\n",
    "    new_index.iloc[0] = dt.timedelta(\n",
    "        seconds=index_datetime[0].timestamp() - time_start.timestamp()\n",
    "    )\n",
    "    sec_dt = [elmt.total_seconds() for elmt in new_index]\n",
    "    return list(pd.Series(sec_dt).cumsum())"
   ]
  },
  {
   "cell_type": "code",
   "execution_count": null,
   "id": "6f5cdd66-c51d-4d06-80d6-a4c53a887b2e",
   "metadata": {},
   "outputs": [],
   "source": [
    "second_index = datetime_to_seconds(reference_df.index)"
   ]
  },
  {
   "cell_type": "code",
   "execution_count": null,
   "id": "a6bebb18-37f0-4ab9-9d2f-75cda5c29ecc",
   "metadata": {},
   "outputs": [],
   "source": [
    "simulation_options_FMU = {\n",
    "    \"startTime\":second_index[0],\n",
    "    \"stopTime\": second_index[-1],\n",
    "    \"solver\": \"CVode\",  \n",
    "    \"outputInterval\": 300,\n",
    "}"
   ]
  },
  {
   "cell_type": "markdown",
   "id": "0ea8c4b4-2eab-429c-a67d-743aaa47a5bd",
   "metadata": {},
   "source": [
    "And define a list of output that will be included in the dataframe output for any simulation, here the calculated temperatures between layers of the wall."
   ]
  },
  {
   "cell_type": "code",
   "execution_count": null,
   "id": "64149508-369a-4a8c-8928-6c71090b4428",
   "metadata": {},
   "outputs": [],
   "source": [
    "output_list  = [\n",
    "    \"T_coat_ins.T\",\n",
    "     \"T_ins_ins.T\",\n",
    "     \"Tw_out.T\"\n",
    "]"
   ]
  },
  {
   "cell_type": "markdown",
   "id": "1ec7abf2-46cf-485c-bccb-66334fd5d058",
   "metadata": {},
   "source": [
    "#  3. Instantiate ModelicaFmuModel"
   ]
  },
  {
   "cell_type": "markdown",
   "id": "fddcef82-1ea3-4d8e-a4e0-026f43cf0b38",
   "metadata": {},
   "source": [
    "Now, we can also load an FMU <code>ModelicaModel</code> from <code>corrai.fmu</code>: \n",
    "\n",
    "Attributes:\n",
    "- fmu_path: Path to the FMU file.\n",
    "- simulation_options: A dictionary containing simulation settings such as startTime, stopTime, and stepSize.\n",
    "- x: Input boundary conditions provided as a pandas.DataFrame.\n",
    "- output_list: List of simulation output variables.\n",
    "- simulation_dir: Directory for storing simulation files.\n",
    "- parameters: Dictionary of simulation parameters.\n"
   ]
  },
  {
   "cell_type": "code",
   "execution_count": null,
   "id": "266c40e8-13b0-4696-9606-09f86b10f33a",
   "metadata": {},
   "outputs": [],
   "source": [
    "from corrai.fmu import ModelicaFmuModel "
   ]
  },
  {
   "cell_type": "code",
   "execution_count": null,
   "id": "dd25e45b-7c44-4c01-b477-10cb3afcaf25",
   "metadata": {},
   "outputs": [],
   "source": [
    "TUTORIAL_DIR = Path(os.getcwd()).as_posix()\n",
    "\n",
    "simu_FMU = ModelicaFmuModel(\n",
    "    fmu_path=Path(TUTORIAL_DIR) / \"resources/etics_v0.fmu\",\n",
    "    simulation_options=simulation_options_FMU,\n",
    "    x = reference_df,\n",
    "    output_list=output_list,\n",
    ")"
   ]
  },
  {
   "cell_type": "markdown",
   "id": "bdaad707-c875-4b51-99a1-716e2c02d250",
   "metadata": {},
   "source": [
    "#  4. Run a simulation"
   ]
  },
  {
   "cell_type": "markdown",
   "id": "c25f8d44-b471-4e37-85ec-5da0d3d4d906",
   "metadata": {},
   "source": [
    "A simulation is run using the <code>simulate()</code> method, with the following parameters:\n",
    "- parameter_dict (optional): A dictionary containing parameter values for the simulation.\n",
    "- simulation_options (optional): A dictionary defining simulation-specific settings such as start and stop times or solver types. Here, the simulation options were already provided when instantiating the model.\n",
    "- x (optional): Boundary condition data as a pandas.DataFrame to be used during the simulation. Already provided.\n",
    "- solver_duplicated_keep (default: \"last\"): Handles duplicated solver indices by selecting the desired version (\"last\" or \"first\").\n",
    "- post_process_pipeline (optional): A scikit-learn pipeline to apply post-processing steps on simulation results.\n",
    "- debug_param (default: False): Prints the parameter_dict if enabled.\n",
    "- debug_logging (default: False): Enables detailed logging for debugging purposes.\n",
    "- logger (optional): A custom logger instance for capturing logs during the simulation.\n"
   ]
  },
  {
   "cell_type": "markdown",
   "id": "22efbb3d-ebfc-485b-beab-03e0257cb288",
   "metadata": {},
   "source": [
    "Let's set the initial and parameter values in a dictionary : \n",
    "- initial temperatures of internal wall surface, insulation nodes, and coating surface\n",
    "- value of conductivity of insulation."
   ]
  },
  {
   "cell_type": "code",
   "execution_count": null,
   "id": "1403c28c-6474-4b78-8f3f-3cede5d1e48e",
   "metadata": {},
   "outputs": [],
   "source": [
    "parameter_dict = {\n",
    "    \"Twall_init\": 24.81 + 273.15,\n",
    "    \"Tins1_init\": 19.70 + 273.15,\n",
    "    \"Tins2_init\": 10.56 + 273.15,\n",
    "    \"Tcoat_init\": 6.4 + 273.15,\n",
    "    'Lambda_ins.k': 0.04,\n",
    "}"
   ]
  },
  {
   "cell_type": "markdown",
   "id": "0078bd89-fde8-4281-bb99-69f687dc1160",
   "metadata": {},
   "source": [
    "And run the simulation:"
   ]
  },
  {
   "cell_type": "code",
   "execution_count": null,
   "id": "622f79f1-e206-4b08-83e6-3b3242aa7d33",
   "metadata": {},
   "outputs": [],
   "source": [
    "init_res_FMU = simu_FMU.simulate(\n",
    "    parameter_dict = parameter_dict,\n",
    "    debug_logging=False\n",
    ")"
   ]
  },
  {
   "cell_type": "markdown",
   "id": "f80e88a7-c338-4955-a81c-358e42917cb4",
   "metadata": {},
   "source": [
    "Results are displayed in a dataframe:"
   ]
  },
  {
   "cell_type": "code",
   "execution_count": null,
   "id": "1702d4fe-42f7-48bc-baa7-d5c0502d1776",
   "metadata": {},
   "outputs": [],
   "source": [
    "init_res_FMU"
   ]
  },
  {
   "cell_type": "markdown",
   "id": "be4f47a3-2fdd-4b16-bcf6-fc1f05a9e020",
   "metadata": {},
   "source": [
    "We can quickly plot the results:"
   ]
  },
  {
   "cell_type": "code",
   "execution_count": null,
   "id": "642b65ab-cc14-4e2f-9b42-4a11f45e30c6",
   "metadata": {},
   "outputs": [],
   "source": [
    "init_res_FMU.plot()"
   ]
  },
  {
   "cell_type": "code",
   "execution_count": null,
   "id": "c0b58fca-65de-462d-b6a5-fd34707db05b",
   "metadata": {},
   "outputs": [],
   "source": []
  }
 ],
 "metadata": {
  "kernelspec": {
   "display_name": "Python 3 (ipykernel)",
   "language": "python",
   "name": "python3"
  },
  "language_info": {
   "codemirror_mode": {
    "name": "ipython",
    "version": 3
   },
   "file_extension": ".py",
   "mimetype": "text/x-python",
   "name": "python",
   "nbconvert_exporter": "python",
   "pygments_lexer": "ipython3",
   "version": "3.10.13"
  }
 },
 "nbformat": 4,
 "nbformat_minor": 5
}
