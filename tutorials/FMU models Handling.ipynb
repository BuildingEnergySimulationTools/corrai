{
 "cells": [
  {
   "cell_type": "code",
   "id": "b28b6845",
   "metadata": {},
   "source": [
    "import pandas as pd\n",
    "from pathlib import Path\n",
    "import os"
   ],
   "outputs": [],
   "execution_count": null
  },
  {
   "cell_type": "markdown",
   "id": "77e18887-a12e-4198-a72b-dcc420528518",
   "metadata": {},
   "source": [
    "# Tutorial for handling FMU models \n",
    "The aim of this tutorial is to demonstrate how to load FMU models on python using <code>ModelicaFmuModel</code> class."
   ]
  },
  {
   "cell_type": "markdown",
   "id": "13ff37e6-d666-4c81-96d0-7913eeead9d4",
   "metadata": {},
   "source": [
    "# 1. Proposed model "
   ]
  },
  {
   "cell_type": "markdown",
   "id": "4b6c113a-ccdb-4fb5-a81d-fa75473028c7",
   "metadata": {},
   "source": [
    "In this tutorial, we load and run an FMU model created with Python beforehand.\n",
    "\n",
    "The model is a uses a resistance-capacity approach (4R2C) of a wall installed in a test bench, with : \n",
    "- inside-outside convection/conduction transfers\n",
    "- Infrared transfers with the sky and surrounding\n",
    "- Short wave solar radiation transfers\n",
    "- External and internal temperature as boundary conditions.\n",
    "\n",
    "The model was built using openModelica then exported as an FMU: \n",
    "\n",
    "<img src=\"images/OM_eticsmodel.png\"  height=\"200\">\n"
   ]
  },
  {
   "cell_type": "markdown",
   "id": "94f78fac-8238-4755-a876-3b7b63a8c323",
   "metadata": {},
   "source": [
    "# 2. Load boundary file\n",
    "First, let us load measurement data on python, which will be used as our boundary conditions:"
   ]
  },
  {
   "cell_type": "code",
   "id": "71e65ff5-8023-4cd5-884d-c0c1c4118235",
   "metadata": {},
   "source": [
    "TUTORIAL_DIR = Path(os.getcwd()).as_posix()"
   ],
   "outputs": [],
   "execution_count": null
  },
  {
   "cell_type": "code",
   "id": "fae39639-7b9d-42c7-ae6f-d403b570dd0b",
   "metadata": {},
   "source": [
    "reference_df = pd.read_csv(\n",
    "    Path(TUTORIAL_DIR) / \"resources/study_df.csv\",\n",
    "    index_col=0,\n",
    "    parse_dates=True\n",
    ")    "
   ],
   "outputs": [],
   "execution_count": null
  },
  {
   "cell_type": "code",
   "id": "284a6920-74d3-4252-a91f-6dc7cab4797c",
   "metadata": {},
   "source": [
    "reference_df.head()"
   ],
   "outputs": [],
   "execution_count": null
  },
  {
   "cell_type": "markdown",
   "id": "40057a02-f73b-4627-9fe4-c26d732db1c3",
   "metadata": {},
   "source": [
    "#  3. Instantiate ModelicaFmuModel"
   ]
  },
  {
   "cell_type": "markdown",
   "id": "b78c1677-aa17-44da-9204-55e5e4e8da60",
   "metadata": {},
   "source": [
    "Now, we can also load an FMU <code>ModelicaModel</code> from <code>corrai.fmu</code>: \n",
    "\n",
    "Attributes:\n",
    "- fmu_path: Path to the FMU file.\n",
    "- output_list: List of simulation output variables.\n",
    "- simulation_dir: Directory for storing simulation files."
   ]
  },
  {
   "metadata": {},
   "cell_type": "code",
   "source": "from corrai.fmu import ModelicaFmuModel",
   "id": "555d15649a4ac71c",
   "outputs": [],
   "execution_count": null
  },
  {
   "metadata": {},
   "cell_type": "code",
   "source": [
    "TUTORIAL_DIR = Path(os.getcwd()).as_posix()\n",
    "\n",
    "simu_fmu = ModelicaFmuModel(\n",
    "    fmu_path=Path(TUTORIAL_DIR) / \"resources/etics_v0.fmu\",\n",
    "    output_list= [\n",
    "    \"T_coat_ins.T\",\n",
    "     \"T_ins_ins.T\",\n",
    "     \"Tw_out.T\"\n",
    "],\n",
    "    boundary_table_name=\"Boundaries\"\n",
    ")"
   ],
   "id": "af357bb5be00d3da",
   "outputs": [],
   "execution_count": null
  },
  {
   "metadata": {},
   "cell_type": "markdown",
   "source": "The ``__repr__`` method of ``ModelicaFmuModel`` can give you valuable information on the fmu content and on the Modelica classes used in the model.",
   "id": "df700995e986e00e"
  },
  {
   "metadata": {},
   "cell_type": "code",
   "source": "simu_fmu",
   "id": "fef9b59331d10486",
   "outputs": [],
   "execution_count": null
  },
  {
   "cell_type": "markdown",
   "id": "bdaad707-c875-4b51-99a1-716e2c02d250",
   "metadata": {},
   "source": "#  4. Run a simulation"
  },
  {
   "cell_type": "markdown",
   "id": "c25f8d44-b471-4e37-85ec-5da0d3d4d906",
   "metadata": {},
   "source": [
    "It is time to run a simulation !\n",
    "\n",
    "A simulation is run using ``simulate()`` method, with the following arguments:\n",
    "- ``property_dict`` (optional): A dictionary containing model property key and values for the simulation.\n",
    "- ``simulation_options`` (optional): A dictionary defining simulation-specific settings such as start and stop times or solver types:\n",
    "    - ``startTime`` : float or pandas.Timestamp\n",
    "    - ``stopTime`` : float or pandas.Timestamp\n",
    "    - ``stepSize`` : float or pandas.TimeDelta\n",
    "    - ``outputInterval`` : float or pandas.TimeDelta. If not provided, it will\n",
    "        be set equal to ``stepSize``\n",
    "    - ``solver`` : str\n",
    "    - ``tolerance`` : float\n",
    "    - ``fmi_type`` : {\"CoSimulation\", \"ModelExchange\"}\n",
    "    - ``boundary`` : pandas.DataFrame of boundary conditions\n",
    "\n",
    "Whether it is in ``property_dict`` or in ``simulation_options``, boundary dataframe must be specified for the simulation. Otherwise, the fmu would try to read a non existing file.\n",
    "For this simulation, we ask to simulate from the first time stamp in the boundary file to the last, with a 15min timestep, but a 1h output reporting frequency.\n",
    "\n",
    "- ``solver_duplicated_keep`` (default: \"last\"): Handles duplicated solver indices by selecting the desired version (\"last\" or \"first\").\n",
    "- ``post_process_pipeline`` (optional): A scikit-learn pipeline to apply post-processing steps on simulation results.\n",
    "- ``debug_param`` (default: False): Prints the parameter_dict if enabled.\n",
    "- ``debug_logging`` (default: False): Enables detailed logging for debugging purposes.\n",
    "- ``logger`` (optional): A custom logger instance for capturing logs during the simulation.\n"
   ]
  },
  {
   "metadata": {},
   "cell_type": "code",
   "source": [
    "property_dict = {\n",
    "    \"Twall_init\": 24.81 + 273.15,\n",
    "    \"Tins1_init\": 19.70 + 273.15,\n",
    "    \"Tins2_init\": 10.56 + 273.15,\n",
    "    \"Tcoat_init\": 6.4 + 273.15,\n",
    "    'Lambda_ins.k': 0.04,\n",
    "}"
   ],
   "id": "6de925f6d5077da9",
   "outputs": [],
   "execution_count": null
  },
  {
   "metadata": {},
   "cell_type": "code",
   "source": [
    "init_res_fmu = simu_fmu.simulate(\n",
    "    property_dict = property_dict,\n",
    "    simulation_options={\n",
    "        \"startTime\": reference_df.index[0],\n",
    "        \"stopTime\": reference_df.index[-1],\n",
    "        \"stepSize\": pd.Timedelta(\"15min\"),\n",
    "        \"outputInterval\": pd.Timedelta(\"1h\"),\n",
    "        \"boundary\": reference_df\n",
    "    },\n",
    "    debug_logging=False\n",
    ")"
   ],
   "id": "396d807d4426f4a1",
   "outputs": [],
   "execution_count": null
  },
  {
   "metadata": {},
   "cell_type": "markdown",
   "source": "We can quickly plot the results:",
   "id": "5d4e5428f7481fed"
  },
  {
   "metadata": {},
   "cell_type": "code",
   "source": "init_res_fmu.plot()",
   "id": "ca6490e689e0580f",
   "outputs": [],
   "execution_count": null
  }
 ],
 "metadata": {
  "kernelspec": {
   "display_name": "Python 3 (ipykernel)",
   "language": "python",
   "name": "python3"
  },
  "language_info": {
   "codemirror_mode": {
    "name": "ipython",
    "version": 3
   },
   "file_extension": ".py",
   "mimetype": "text/x-python",
   "name": "python",
   "nbconvert_exporter": "python",
   "pygments_lexer": "ipython3",
   "version": "3.12.0"
  }
 },
 "nbformat": 4,
 "nbformat_minor": 5
}
