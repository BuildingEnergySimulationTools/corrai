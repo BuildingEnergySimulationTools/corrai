{
 "cells": [
  {
   "cell_type": "code",
   "id": "b28b6845",
   "metadata": {},
   "source": [
    "import pandas as pd\n",
    "from pathlib import Path"
   ],
   "outputs": [],
   "execution_count": null
  },
  {
   "cell_type": "markdown",
   "id": "77e18887-a12e-4198-a72b-dcc420528518",
   "metadata": {},
   "source": [
    "# Tutorial for handling FMU models \n",
    "The aim of this tutorial is to demonstrate how to load FMU models on python using <code>ModelicaFmuModel</code> class."
   ]
  },
  {
   "cell_type": "markdown",
   "id": "13ff37e6-d666-4c81-96d0-7913eeead9d4",
   "metadata": {},
   "source": [
    "# 1. Proposed model "
   ]
  },
  {
   "cell_type": "markdown",
   "id": "4b6c113a-ccdb-4fb5-a81d-fa75473028c7",
   "metadata": {},
   "source": [
    "In this tutorial, we load and run an FMU model created with Python beforehand.\n",
    "\n",
    "The model is a uses a resistance-capacity approach (4R2C) of a wall installed in a test bench, with : \n",
    "- inside-outside convection/conduction transfers\n",
    "- Infrared transfers with the sky and surrounding\n",
    "- Short wave solar radiation transfers\n",
    "- External and internal temperature as boundary conditions.\n",
    "\n",
    "The model was built using openModelica then exported as an FMU: \n",
    "\n",
    "<img src=\"images/OM_eticsmodel.png\"  height=\"200\">\n"
   ]
  },
  {
   "cell_type": "markdown",
   "id": "94f78fac-8238-4755-a876-3b7b63a8c323",
   "metadata": {},
   "source": [
    "# 2. Set boundary file\n",
    "First, let us load measurement data on python, which will be used as our boundary conditions"
   ]
  },
  {
   "cell_type": "code",
   "id": "71e65ff5-8023-4cd5-884d-c0c1c4118235",
   "metadata": {},
   "source": [
    "TUTORIAL_DIR = Path(os.getcwd()).as_posix()"
   ],
   "outputs": [],
   "execution_count": null
  },
  {
   "cell_type": "code",
   "id": "fae39639-7b9d-42c7-ae6f-d403b570dd0b",
   "metadata": {},
   "source": [
    "reference_df = pd.read_csv(\n",
    "    Path(TUTORIAL_DIR) / \"resources/study_df.csv\",\n",
    "    index_col=0,\n",
    "    parse_dates=True\n",
    ")    "
   ],
   "outputs": [],
   "execution_count": null
  },
  {
   "cell_type": "markdown",
   "id": "8e5b0a86-64c9-4bdc-a06a-7a360dfd7985",
   "metadata": {},
   "source": [
    "# 2. Set simulations options"
   ]
  },
  {
   "cell_type": "markdown",
   "id": "1a90bd42-0eb4-4cdb-aabd-66737fca9efd",
   "metadata": {},
   "source": [
    "The used class for running the FMU model requires a model path, simulation options, and optionaly, a reference dataframe for boundary options (to override the default one) and a list of outputs.\n",
    "\n",
    "We already loaded the boundary file. We can set the simulation options:\n",
    "- Start time and stop time should be in second. We can use the index of the <code>DataFrame</code> we just created.\n",
    "The modelitool function <code>modelitool.combitabconvert.datetime_to_seconds</code>\n",
    "helps you convert datetime index in seconds.\n",
    "- The solver in the simulation options must be one of 'Euler' or 'CVode'.\n",
    "- The output interval is in seconds."
   ]
  },
  {
   "cell_type": "code",
   "id": "ad64c5af-6f61-4211-b2ea-9c3db82fc3b3",
   "metadata": {},
   "source": [
    "from modelitool.combitabconvert import datetime_to_seconds"
   ],
   "outputs": [],
   "execution_count": null
  },
  {
   "cell_type": "code",
   "id": "6f5cdd66-c51d-4d06-80d6-a4c53a887b2e",
   "metadata": {},
   "source": [
    "second_index = datetime_to_seconds(reference_df.index)"
   ],
   "outputs": [],
   "execution_count": null
  },
  {
   "cell_type": "code",
   "id": "a6bebb18-37f0-4ab9-9d2f-75cda5c29ecc",
   "metadata": {},
   "source": [
    "simulation_options_FMU = {\n",
    "    \"startTime\":second_index[0],\n",
    "    \"stopTime\": second_index[-1],\n",
    "    \"solver\": \"CVode\",  \n",
    "    \"outputInterval\": 300,\n",
    "}"
   ],
   "outputs": [],
   "execution_count": null
  },
  {
   "cell_type": "code",
   "id": "37735475-89a1-4bc2-a8ae-1af8ca73cf45",
   "metadata": {},
   "source": [
    "from modelitool.combitabconvert import df_to_combitimetable"
   ],
   "outputs": [],
   "execution_count": null
  },
  {
   "cell_type": "code",
   "id": "f2de6868-8016-4fe4-a191-8c4325095fbd",
   "metadata": {},
   "source": [
    "df_to_combitimetable(\n",
    "    df=reference_df.loc[\"2018-03-22\":\"2018-03-23\"],\n",
    "    filename=\"resources/boundary_temp.txt\"\n",
    ")"
   ],
   "outputs": [],
   "execution_count": null
  },
  {
   "cell_type": "markdown",
   "id": "0ea8c4b4-2eab-429c-a67d-743aaa47a5bd",
   "metadata": {},
   "source": [
    "Finally, we can define a list of output that will be included in the dataframe output for any simulation."
   ]
  },
  {
   "cell_type": "code",
   "id": "64149508-369a-4a8c-8928-6c71090b4428",
   "metadata": {},
   "source": [
    "output_list  = [\n",
    "    \"T_coat_ins.T\",\n",
    "     \"T_ins_ins.T\",\n",
    "     \"Tw_out.T\"\n",
    "]"
   ],
   "outputs": [],
   "execution_count": null
  },
  {
   "cell_type": "markdown",
   "id": "1ec7abf2-46cf-485c-bccb-66334fd5d058",
   "metadata": {},
   "source": [
    "#  3. Instantiate ModelicaFmuModel"
   ]
  },
  {
   "cell_type": "markdown",
   "id": "fddcef82-1ea3-4d8e-a4e0-026f43cf0b38",
   "metadata": {},
   "source": [
    "Now, we can also load an FMU <code>ModelicaModel</code> from <code>corrai.fmu</code>"
   ]
  },
  {
   "cell_type": "code",
   "id": "266c40e8-13b0-4696-9606-09f86b10f33a",
   "metadata": {},
   "source": [
    "from corrai.fmu import ModelicaFmuModel "
   ],
   "outputs": [],
   "execution_count": null
  },
  {
   "cell_type": "markdown",
   "id": "02e59be3-e4f4-44f0-adcd-66a43d200146",
   "metadata": {},
   "source": [
    "Set the initial and parameter values in a dictionary."
   ]
  },
  {
   "cell_type": "code",
   "id": "c43d997c-5cac-4149-97a1-f849dbac0d4c",
   "metadata": {},
   "source": [
    "parameter_dict_OM = {\n",
    "    \"Twall_init\": 24.81 + 273.15,\n",
    "    \"Tins1_init\": 19.70 + 273.15,\n",
    "    \"Tins2_init\": 10.56 + 273.15,\n",
    "    \"Tcoat_init\": 6.4 + 273.15,\n",
    "    'Lambda_ins.k': 0.04,\n",
    "}"
   ],
   "outputs": [],
   "execution_count": null
  },
  {
   "cell_type": "markdown",
   "id": "65fd55a9-959f-4bef-9ee2-14d0c617b75b",
   "metadata": {},
   "source": [
    "Simulation flags can be specified in <code>simulate()</code> method. Overview of possible simulation flags can be found here: https://openmodelica.org/doc/OpenModelicaUsersGuide/latest/simulationflags.html. Note that the simulation flag <code>override</code> cannot be used, as it was already used in class <code>OMModel</code> with <code>simulation_options</code>.\n",
    "\n",
    "If x boundary conditions is not specified or do not\n",
    "    have a DateTime index (seconds int), a year can be specified to convert\n",
    "    int seconds index to a datetime index. If simulation spans overs several\n",
    "    years, it shall be the year when it begins."
   ]
  },
  {
   "cell_type": "code",
   "id": "d52fdda8-4115-4a13-a0c3-b05459a0f807",
   "metadata": {},
   "source": [
    "init_res_OM = simu_OM.simulate(\n",
    "    simflags = \"-initialStepSize=60 -maxStepSize=3600 -w -lv=LOG_STATS\",\n",
    "    parameter_dict=parameter_dict_OM,\n",
    "    year=2024,\n",
    ")"
   ],
   "outputs": [],
   "execution_count": null
  },
  {
   "cell_type": "markdown",
   "id": "70cfed9f-467b-44b2-b80d-459dc02288ae",
   "metadata": {},
   "source": [
    "Results are displayed in a dataframe:"
   ]
  },
  {
   "cell_type": "code",
   "id": "4820b4f3-c446-4f65-869b-aee86ac96806",
   "metadata": {},
   "source": [
    "init_res_OM"
   ],
   "outputs": [],
   "execution_count": null
  },
  {
   "cell_type": "markdown",
   "id": "6b20f490-36ec-4da1-9f80-111443ae4a1f",
   "metadata": {},
   "source": [
    "Plotted results"
   ]
  },
  {
   "cell_type": "code",
   "id": "e34b7144-b823-4796-8fa6-2f01f8bf2d52",
   "metadata": {},
   "source": [
    "init_res_OM.plot()"
   ],
   "outputs": [],
   "execution_count": null
  },
  {
   "cell_type": "code",
   "id": "dd25e45b-7c44-4c01-b477-10cb3afcaf25",
   "metadata": {},
   "source": [
    "TUTORIAL_DIR = Path(os.getcwd()).as_posix()\n",
    "\n",
    "simu_FMU = ModelicaFmuModel(\n",
    "    fmu_path=Path(TUTORIAL_DIR) / \"resources/etics_v0.fmu\",\n",
    "    simulation_options=simulation_options_FMU,\n",
    "    x = reference_df,\n",
    "    output_list=output_list,\n",
    ")"
   ],
   "outputs": [],
   "execution_count": null
  },
  {
   "cell_type": "markdown",
   "id": "bdaad707-c875-4b51-99a1-716e2c02d250",
   "metadata": {},
   "source": [
    "#  4. Run a simulation"
   ]
  },
  {
   "cell_type": "markdown",
   "id": "22efbb3d-ebfc-485b-beab-03e0257cb288",
   "metadata": {},
   "source": [
    "Set the initial and parameter values in a dictionary."
   ]
  },
  {
   "cell_type": "code",
   "id": "1403c28c-6474-4b78-8f3f-3cede5d1e48e",
   "metadata": {},
   "source": [
    "parameter_dict = {\n",
    "    \"Twall_init\": 24.81 + 273.15,\n",
    "    \"Tins1_init\": 19.70 + 273.15,\n",
    "    \"Tins2_init\": 10.56 + 273.15,\n",
    "    \"Tcoat_init\": 6.4 + 273.15,\n",
    "    'Lambda_ins.k': 0.04,\n",
    "}"
   ],
   "outputs": [],
   "execution_count": null
  },
  {
   "cell_type": "markdown",
   "id": "c25f8d44-b471-4e37-85ec-5da0d3d4d906",
   "metadata": {},
   "source": [
    "And run a simulation. To enable the display of FMU debug logging, set <code>debug_logging</code> to True."
   ]
  },
  {
   "cell_type": "code",
   "id": "622f79f1-e206-4b08-83e6-3b3242aa7d33",
   "metadata": {},
   "source": [
    "init_res_FMU = simu_FMU.simulate(\n",
    "    parameter_dict = parameter_dict,\n",
    "    debug_logging=False\n",
    ")"
   ],
   "outputs": [],
   "execution_count": null
  },
  {
   "cell_type": "markdown",
   "id": "f80e88a7-c338-4955-a81c-358e42917cb4",
   "metadata": {},
   "source": [
    "Results are displayed in a dataframe:"
   ]
  },
  {
   "cell_type": "code",
   "id": "1702d4fe-42f7-48bc-baa7-d5c0502d1776",
   "metadata": {},
   "source": [
    "init_res_FMU"
   ],
   "outputs": [],
   "execution_count": null
  },
  {
   "cell_type": "markdown",
   "id": "be4f47a3-2fdd-4b16-bcf6-fc1f05a9e020",
   "metadata": {},
   "source": [
    "Plotted results"
   ]
  },
  {
   "cell_type": "code",
   "id": "642b65ab-cc14-4e2f-9b42-4a11f45e30c6",
   "metadata": {},
   "source": [
    "init_res_FMU.plot()"
   ],
   "outputs": [],
   "execution_count": null
  },
  {
   "cell_type": "code",
   "id": "c0b58fca-65de-462d-b6a5-fd34707db05b",
   "metadata": {},
   "source": [],
   "outputs": [],
   "execution_count": null
  }
 ],
 "metadata": {
  "kernelspec": {
   "display_name": "Python 3 (ipykernel)",
   "language": "python",
   "name": "python3"
  },
  "language_info": {
   "codemirror_mode": {
    "name": "ipython",
    "version": 3
   },
   "file_extension": ".py",
   "mimetype": "text/x-python",
   "name": "python",
   "nbconvert_exporter": "python",
   "pygments_lexer": "ipython3",
   "version": "3.10.13"
  }
 },
 "nbformat": 4,
 "nbformat_minor": 5
}
