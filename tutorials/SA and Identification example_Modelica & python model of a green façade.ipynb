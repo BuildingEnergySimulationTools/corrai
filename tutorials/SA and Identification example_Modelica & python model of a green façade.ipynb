{
 "cells": [
  {
   "cell_type": "code",
   "execution_count": null,
   "id": "b28b6845",
   "metadata": {
    "ExecuteTime": {
     "end_time": "2024-10-22T14:03:12.518536Z",
     "start_time": "2024-10-22T14:02:46.050855Z"
    }
   },
   "outputs": [],
   "source": [
    "import pandas as pd\n",
    "import numpy as np\n",
    "import os\n",
    "import plotly.express as px\n",
    "from pathlib import Path\n",
    "pd.options.mode.chained_assignment = None  # default='warn'"
   ]
  },
  {
   "cell_type": "markdown",
   "id": "334331a8-4321-4b25-b886-564cdb2520a4",
   "metadata": {},
   "source": [
    "---\n",
    "# Characterisation method tutorial"
   ]
  },
  {
   "cell_type": "markdown",
   "id": "77e18887-a12e-4198-a72b-dcc420528518",
   "metadata": {},
   "source": [
    "The aim of this tutorial is to provide a complete workflow for material physical properties identification of a reference wall using **Modelitool** (modelica simulator) and **CorrAI** models by following these steps:\n",
    "\n",
    "1. **Measurement import and verification**:\n",
    "    - We will import measurement dataframe into the notebook and check measumreent before selecting an analysis period.\n",
    "    \n",
    "2. **Model Creation/Import**:\n",
    "    - We will either create a new mathematical model or impor model (FMU, openModelica).\n",
    "\n",
    "3. **Loading Measurements**:\n",
    "    - We will load the necessary measurements or data that will be used for our sensitivity analysis and model id.f our model.\n",
    "\n",
    "4. **Performing Sensitivity Analysis**:\n",
    "    - Sensitivity analysis will be conducted to determine how different input variables affect the output of the model. This step helps in identifying the most influential parameters in the model.\n",
    "\n",
    "5. **Model Identification**:\n",
    "    - Using the results from the sensitivity analysis, we will identify the parameters that need to be adjusted to improve the model's accuracy. This involves fitting the model to the data and refining its parameters.\n",
    "\n",
    "65. **Results Visualization and Interpretation**:\n",
    "    - Finally, we will visualize the results of our analysis and interpret the findings. This includes plotting the sensitivity indices and comparing the model's predictions with the liability of the model.\n",
    "\n",
    "---"
   ]
  },
  {
   "cell_type": "markdown",
   "id": "f5d604e7-343a-4370-8b53-0c4834bd251c",
   "metadata": {},
   "source": [
    "# 1 Introduction\n"
   ]
  },
  {
   "attachments": {},
   "cell_type": "markdown",
   "id": "d7c01447",
   "metadata": {
    "jp-MarkdownHeadingCollapsed": true
   },
   "source": [
    "## 1.1 Use case presentation\n",
    "\n",
    "A \"real-scale\" test bench is used. The **O3BET** (or in this example BEF test bench in Anglet, France) offers experimental conditions to evaluate building façade solutions. Heat exchanges in a cell are restricted on five of its faces, while the sixth face is dedicated to the tested solution. Internal temperature and humidity conditions can be controlled or monitored. External conditions, including temperatures and solar radiation, are measured.\n",
    "\n",
    "The tested technology here is a green façade, coupled wiht insulated panels. The experimental setup is presented in the following picture: one cell is equiped with the technology (right one) and another serves as a reference (insulation only).\n",
    "\n",
    "| Figure : Pictures of reference wall and Urban Canopee installation |\n",
    "| :---: |\n",
    "| <img src=\"images/cladding.png\"  style=\"height:200px;\">  <img src=\"images/BEF_facades.jpeg\"  style=\"height:200px;\"> |\n",
    "\n",
    "Sensors (heatflux density meters, thermocouples, RTD) are positioned in several parts: in the middle of insulation panels, between insulation and concrete layers, between leaves, in substrates, indoor. Climatic conditions (external temperature, incident solar radiation) are also monitored.\n",
    "\n",
    "\n",
    "| Figure : Sensors installation scheme |\n",
    "| :---: |\n",
    "| <img src=\"images/sensors.png\"  style=\"height:200px;\">  <img src=\"images/Sensor_photo1.jpeg\"  style=\"height:200px;\"> <img src=\"images/Sensor_photo2.jpeg\"  style=\"height:200px;\">   | \n",
    "\n",
    "- Measure campaign spans from  april 2024 to october 2024\n",
    "- Acquisition timestep is 60 secondes minimum."
   ]
  },
  {
   "attachments": {},
   "cell_type": "markdown",
   "id": "182f9b79-5f47-4998-baaa-59d0598525e7",
   "metadata": {
    "jp-MarkdownHeadingCollapsed": true
   },
   "source": [
    "## 1.2 Identification framework\n",
    "The following framework is proposed to identify the **REFERENCE** wall thermal conductivity, and provides:\n",
    "- Physical model description using Python\n",
    "- Sensitivity analysis to identify materials properties which have an influence on the discrepancy between model outputs and measured phenomenon\n",
    "- Wall thermal conductivity identification using optimization algorithm"
   ]
  },
  {
   "cell_type": "markdown",
   "id": "b345846c-8e04-44b4-a6fe-484603908553",
   "metadata": {
    "ExecuteTime": {
     "end_time": "2024-10-22T08:47:44.691314Z",
     "start_time": "2024-10-22T08:47:44.685370Z"
    }
   },
   "source": [
    "## 2.2 Load measurement file\n",
    "First, let's load the reference cell measurement data on python that will be used as boundary conditions. Note that the data loaded here should be cleaned beforhand (see Tutorial **\"MeasuredDat example\"** if needed)"
   ]
  },
  {
   "cell_type": "code",
   "execution_count": null,
   "id": "71e65ff5-8023-4cd5-884d-c0c1c4118235",
   "metadata": {
    "ExecuteTime": {
     "end_time": "2024-10-22T08:47:59.153834Z",
     "start_time": "2024-10-22T08:47:59.115647Z"
    }
   },
   "outputs": [],
   "source": [
    "TUTORIAL_DIR = Path(os.getcwd()).as_posix()"
   ]
  },
  {
   "cell_type": "code",
   "execution_count": null,
   "id": "a5fe5396-d2de-41b7-a336-7e6a9533b638",
   "metadata": {
    "ExecuteTime": {
     "end_time": "2024-10-22T08:48:00.714396Z",
     "start_time": "2024-10-22T08:48:00.676026Z"
    }
   },
   "outputs": [],
   "source": [
    "reference_df = pd.read_csv(\n",
    "    Path(TUTORIAL_DIR) / \"resources/tuto_data_SA.csv\",\n",
    "    index_col=0,\n",
    "    sep=\";\",\n",
    "    decimal=\".\",\n",
    "    parse_dates=True\n",
    ")"
   ]
  },
  {
   "cell_type": "code",
   "execution_count": null,
   "id": "a80e1f1e-41da-4138-8b4f-b1231fea7795",
   "metadata": {},
   "outputs": [],
   "source": [
    "reference_df.head()"
   ]
  },
  {
   "cell_type": "code",
   "execution_count": null,
   "id": "896128e4-bfaa-4614-a151-464bf3b5c15b",
   "metadata": {},
   "outputs": [],
   "source": [
    "reference_df.isna().any().any()"
   ]
  },
  {
   "cell_type": "markdown",
   "id": "585c1848-de5f-499e-9b41-b5e27acaf56e",
   "metadata": {},
   "source": [
    "There seems to be no missing data. Let's first plot all data to check if nothing stands out. Although data was cleaned (supposedly, some measurement errors and irregularities might have been missed in the process."
   ]
  },
  {
   "cell_type": "code",
   "execution_count": null,
   "id": "3698a119-3968-47fb-9270-a3eba4886c75",
   "metadata": {},
   "outputs": [],
   "source": [
    "px.line(reference_df)"
   ]
  },
  {
   "cell_type": "markdown",
   "id": "a840d3c5-aaf6-46f9-a67a-f0f4f6439bbf",
   "metadata": {},
   "source": [
    "Here we can see that one of the temperature sensors installed in the insulation panels stopped measuring on september 7th. Only T_ins_2 will be used as the insulation temperature."
   ]
  },
  {
   "cell_type": "code",
   "execution_count": null,
   "id": "73cf3541-8adb-4ee4-a57a-e2f7a55f8450",
   "metadata": {},
   "outputs": [],
   "source": [
    "reference_df.loc[:,\"T_ins\"] = reference_df['T_ins_2'] # middle of insulation temperature\n",
    "reference_df.loc[:,\"T_int\"] =reference_df[['Tint_1', 'Tint_2']].mean(axis=1) # indoor temperature\n",
    "reference_df.loc[:,\"T_interface\"] =  reference_df[['T_interface_1', 'T_interface_2']].mean(axis=1) # interface temperature, between insulation and concrete panels"
   ]
  },
  {
   "cell_type": "markdown",
   "id": "101e5212-3af9-4678-8de2-495e0538865f",
   "metadata": {},
   "source": [
    "For modeling purpose, we convert the temperature from °C to Kelvin."
   ]
  },
  {
   "cell_type": "code",
   "execution_count": null,
   "id": "82fe8b0e-ee4c-4d41-bfff-99b998277b6c",
   "metadata": {},
   "outputs": [],
   "source": [
    "temperatures = [\n",
    "    'T_ins',\n",
    "    'T_int',\n",
    "    'T_interface', \n",
    "    'T_ext'\n",
    "]\n",
    "reference_df[temperatures] += 273.15"
   ]
  },
  {
   "cell_type": "markdown",
   "id": "83679d82-eaeb-476e-a0fc-89f88a67004d",
   "metadata": {},
   "source": [
    "Also, for the first simulation, let's chose a short period with both sunny and cloudy days:"
   ]
  },
  {
   "cell_type": "code",
   "execution_count": null,
   "id": "38fc7032-5d5f-4dbc-a9d9-ee694c97e634",
   "metadata": {},
   "outputs": [],
   "source": [
    "simulation_df = reference_df.loc[\"2024-09-04 00:00\":\"2024-09-09 00:00\"]"
   ]
  },
  {
   "cell_type": "markdown",
   "id": "f4b6b9a3-74e4-4611-9357-7c355bb08a97",
   "metadata": {},
   "source": [
    "# 2. Modeling approach and set-up"
   ]
  },
  {
   "cell_type": "markdown",
   "id": "13ff37e6-d666-4c81-96d0-7913eeead9d4",
   "metadata": {},
   "source": [
    "## 2.1 Proposed model "
   ]
  },
  {
   "cell_type": "markdown",
   "id": "4b6c113a-ccdb-4fb5-a81d-fa75473028c7",
   "metadata": {},
   "source": [
    "For this example we propose a resistance/capacity approach.\n",
    " Based on electrical circuit analogy, each layer of the wall is modeled by two resistance and a capacity:\n",
    "\n",
    "\n",
    "| Figure : RC model|\n",
    "| :---: |\n",
    "| <img src=\"images/RC_model.png\"  style=\"height:400px;\">   | \n",
    "\n",
    "\n",
    "\n",
    "\n",
    "The following is a brief description of the thermal model:\n",
    "\n",
    "- Each wall layer is modeled by 2 thermal resistances and a capacity.\n",
    "    - Resistances to create a gradiant and better resolution of distribution of heat flow : $ R_1 = R_2 = \\frac{ep_{layer}}{lambda_{layer} \\times 2} $ \n",
    "    - Capacity in the middle of both our layers, representing its thermal mass and ability to store heat. : $ C = ep_{layer} \\times rho_{layer} \\times cap_{layer} $\n",
    " \n",
    "- Inside and outside convection/conduction transfers are model as a constant value thermal resistance.\n",
    "\n",
    "- Infrared transfers are considered :\n",
    "    - With the sky, with $ T_{sky} = 0.0552T_{ext}^{1.5} $ as the sky is a significant source of infrared radiation, especially at night. This radiation can have a considerable impact on the thermal behavior of the system, influencing both heating and cooling processes\n",
    "    - With the surrounding considered to be at $ T_{ext} $ as surroundings or environment also emit infrared radiation\n",
    "\n",
    "- Short wave solar radiation heat flux is computed $Sw_{gain} = Pyr \\times \\alpha_{coat} $ with $Pyr$ the measured solar radiation onthe wall (W/m²) and  $\\alpha_{coat}$ the coating solar absorbtion coefficient.\n",
    "\n",
    "- Temperatures $ T_{ext}$ and $T_{int} $ are boundary conditions.  $ T_{int}$ represents the temperature within the controlled environment of the system.\n",
    "\n",
    "Here are somes theoretical parameters for the model:"
   ]
  },
  {
   "cell_type": "code",
   "execution_count": null,
   "id": "bfd91e44-567b-426b-b5b8-67295f1bd357",
   "metadata": {},
   "outputs": [],
   "source": [
    "# Surface of the tested wall\n",
    "S_wall =  7\n",
    "\n",
    "# Thickness of layer\n",
    "ep_concrete = 0.200 #m\n",
    "ep_ins = 0.140 #m\n",
    "\n",
    "# Conductivity of layer\n",
    "lambda_concrete = 0.13 # (W/mK)\n",
    "lambda_ins = 0.031 # W/(mK)\n",
    "\n",
    "# Density of layer\n",
    "rho_concrete = 2400 # kg/m3 \n",
    "rho_ins = 32.5  # kg/m3\"\n",
    "\n",
    "\n",
    "sc_concrete = 880 # J/kg.K\n",
    "sc_ins = 1000 # J/kg.K\n",
    "\n",
    "# solar paremetesr\n",
    "alpha = 0.2 # absorption coefficient\n",
    "epsilon = 0.8 # emissivity \n",
    "fview = 0.5 # view factor of tested wall"
   ]
  },
  {
   "cell_type": "markdown",
   "id": "c4d33b45-87d2-4709-910f-67c3a34b8655",
   "metadata": {},
   "source": [
    "## 2.3 Define a simulator\n",
    "\n",
    "You can either load a Modelica model or FMU (using **Modelitool** library, see: https://github.com/BuildingEnergySimulationTools/modelitool), \n",
    "or directly write a model on Python. For either, here are some in common parameters definition. \n",
    "\n",
    "For the model to work with corrAI and modelitool libraries (sensitityv analyses, optimisation, etc), the model will be written as a class with :\n",
    "- A simulation method\n",
    "- Simulation options\n",
    "\n",
    "How it works:\n",
    "\n",
    "- Parameters : The wall's thermal resistances (R_ext, R_int, R_concrete, R_ins) and heat capacities (C_concrete, C_ins) are initialized with default values, but can be overridden by user inputs. Other physical parameters include the wall surface area (S_wall), view factor (fview), and material emissivity (epsilon).\n",
    "- Dataframe : The model uses a dataframe input which includes external and internal temperatures (T_ext, T_int), time (time_sec), and solar radiation (Pyr from a pyranometer).\n",
    "- Initial Conditions: The temperatures of the external surface, concrete, insulation, and interfaces are initialized based on the external and internal temperatures at the start.\n",
    "- Time-Stepping: The simulation proceeds over time steps, updating temperatures at each layer.\n",
    "- Radiative Heat Transfer: The model calculates radiative heat transfer between the wall surface and the sky, ambient, and direct solar radiation.\n",
    "- Temperature Update: At each time step, temperatures are updated based on thermal resistances and capacitances of each layer using a finite difference approach.\n"
   ]
  },
  {
   "cell_type": "code",
   "execution_count": null,
   "id": "322dfef7-e495-4c4b-bc81-8b0fccceed76",
   "metadata": {},
   "outputs": [],
   "source": [
    "from corrai.base.model import Model\n",
    "\n",
    "class OpaqueWallSimple(Model):\n",
    "\n",
    "    def simulate(self, parameter_dict, simulation_options):\n",
    "    \n",
    "        default_parameters = {\n",
    "                    \"R_ext\": 0.005,        \n",
    "                    \"R_int\": 0.01,        \n",
    "                    \"R_concrete\": 0.10,     \n",
    "                    \"R_ins\": 0.32,         \n",
    "                    \"C_concrete\": 2.95e6,   \n",
    "                    \"C_ins\": 3.64e4,        \n",
    "                    \"alpha\": 0.2,           \n",
    "                    \"S_wall\": 7,            \n",
    "                    \"epsilon\": 0.4,         \n",
    "                    \"fview\": 0.5,        \n",
    "                }\n",
    "    \n",
    "        parameters = {**default_parameters, **parameter_dict}\n",
    "\n",
    "        R_ext = parameters[\"R_ext\"]\n",
    "        R_int = parameters[\"R_int\"]\n",
    "        R_concrete = parameters[\"R_concrete\"]\n",
    "        R_ins = parameters[\"R_ins\"]\n",
    "\n",
    "        C_concrete = parameters[\"C_concrete\"]\n",
    "        C_ins = parameters[\"C_ins\"]\n",
    "        alpha = parameters[\"alpha\"]\n",
    "        S_wall = parameters[\"S_wall\"]\n",
    "        epsilon = parameters[\"epsilon\"]\n",
    "        fview = parameters[\"fview\"]\n",
    "\n",
    "        \n",
    "        sigma = 5.67e-8  # Stefan-Boltzmann constant in W/m^2/K^4\n",
    "\n",
    "        # Extract simulation data\n",
    "        df = simulation_options[\"dataframe\"]\n",
    "        time = df[\"time_sec\"].values\n",
    "        T_ext = df[\"T_ext\"].values\n",
    "        T_int = df[\"T_int\"].values\n",
    "        Q_rad = df[\"Pyr\"].values\n",
    "\n",
    "        # Extract simulation options\n",
    "        startTime = simulation_options.get(\"startTime\", time[0])\n",
    "        stopTime = simulation_options.get(\"stopTime\", time[-1])\n",
    "\n",
    "        # Select the data within the specified time range\n",
    "        mask = (time >= startTime) & (time <= stopTime)\n",
    "        time = time[mask]\n",
    "        T_ext = T_ext[mask]\n",
    "        T_int = T_int[mask]\n",
    "        Q_rad = Q_rad[mask]\n",
    "\n",
    "        # Initialize temperature arrays\n",
    "        T_se = np.zeros(len(time))  # External surface\n",
    "        T_concrete = np.zeros(len(time))  # Concrete layer\n",
    "        T_ins = np.zeros(len(time))  # Insulation layer\n",
    "        T_interface = np.zeros(len(time))  # Insulation-CLT interface\n",
    "        T_si = np.zeros(len(time))  # Internal surface interface\n",
    "        T_sky = np.zeros(len(time))  # Sky temperature\n",
    "\n",
    "        # Set initial conditions\n",
    "        T_se[0] = T_ext[0]\n",
    "        T_concrete[0] = 299 #T_ext[0]\n",
    "        T_ins[0] = T_int[0]\n",
    "        T_interface[0] = (T_ins[0] + T_concrete[0]) / 2\n",
    "        T_si[0] = T_int[0]\n",
    "        T_sky[0] = T_int[0]\n",
    "\n",
    "        # Perform simulation\n",
    "        for t in range(1, len(time)):\n",
    "            dt = time[t] - time[t - 1]\n",
    "\n",
    "            # Calculate sky temperature\n",
    "            T_sky[t] = 0.0552 * (T_ext[t] ** 1.5)\n",
    "\n",
    "            # Calculate radiative heat flow\n",
    "            Q_rad_sky = epsilon * fview * sigma * (T_se[t - 1] ** 4 - T_sky[t] ** 4) * S_wall\n",
    "            Q_rad_amb = epsilon * fview * sigma * (T_se[t - 1] ** 4 - T_ext[t - 1] ** 4) * S_wall\n",
    "            Q_rad_dir = Q_rad[t - 1] * alpha * S_wall\n",
    "\n",
    "            # Calculate interface temperatures\n",
    "            T_se[t] = (T_ext[t - 1] / R_ext + T_ins[t - 1] / (R_ins / 2)\n",
    "                       + Q_rad_dir - Q_rad_sky - Q_rad_amb) / (1 / R_ext + 1 / (R_ins / 2))\n",
    "\n",
    "            T_interface[t] = (T_ins[t - 1] / (R_ins / 2) + T_concrete[t - 1] / (R_concrete / 2)) / \\\n",
    "                             (1 / (R_concrete / 2) + 1 / (R_ins / 2))\n",
    "\n",
    "            T_si[t] = (T_int[t - 1] / R_int + T_concrete[t - 1] / (R_concrete / 2)) \\\n",
    "                      / (1 / R_int + 1 / (R_concrete / 2))\n",
    "\n",
    "            # Update temperatures based on capacitance\n",
    "            T_ins[t] = T_ins[t - 1] + dt / C_ins * ((T_se[t] - T_ins[t - 1]) / (R_ins / 2)\n",
    "                                                    + (T_interface[t] - T_ins[t - 1]) / (R_ins / 2))\n",
    "            \n",
    "            T_concrete[t] = T_concrete[t - 1] + dt / C_concrete * (\n",
    "                        (T_interface[t] - T_concrete[t - 1]) / (R_concrete / 2)\n",
    "                        + (T_si[t] - T_concrete[t - 1]) / (R_concrete / 2))\n",
    "\n",
    "        # Prepare output dataframe\n",
    "        df_out = pd.DataFrame({\n",
    "            # \"T_ext\": T_ext,\n",
    "            # \"T_se\": T_se,\n",
    "            \"T_concrete\": T_concrete,\n",
    "            \"T_interface\": T_interface,\n",
    "            \"T_ins\": T_ins,\n",
    "            # \"T_si\": T_si,\n",
    "            # \"T_int\": T_int,\n",
    "            # \"T_sky\": T_sky,\n",
    "        }, index=df.index[mask])\n",
    "\n",
    "        self.simulation_options = simulation_options\n",
    "\n",
    "        return df_out\n",
    "\n",
    "    def save(self, file_path):\n",
    "        pass\n"
   ]
  },
  {
   "cell_type": "markdown",
   "id": "6e5d03f1-6701-452b-842a-2a442981be72",
   "metadata": {},
   "source": [
    "Datetime should be in second: we can use datetime_to_seconds from modelitool. Moreover, data are in minutes, we should resample them to 5min samples."
   ]
  },
  {
   "cell_type": "code",
   "execution_count": null,
   "id": "ba1e5281-33e2-4dc0-8c95-3781c91a8b66",
   "metadata": {},
   "outputs": [],
   "source": [
    "from modelitool.combitabconvert import datetime_to_seconds"
   ]
  },
  {
   "cell_type": "code",
   "execution_count": null,
   "id": "3d84b5c3-2cd1-4386-82d3-0502d2a420d2",
   "metadata": {},
   "outputs": [],
   "source": [
    "simulation_df.loc[:,\"time_sec\"] = datetime_to_seconds(simulation_df.index)\n",
    "simulation_df_resample = simulation_df.resample(\"5min\").mean()"
   ]
  },
  {
   "cell_type": "markdown",
   "id": "d0981477-2656-4d20-aa61-b0120ffa482e",
   "metadata": {},
   "source": [
    "Now, let's define: \n",
    "- simulation options, with starttime, endtime, and a dataframe for boundary conditions\n",
    "- a dictionary, containing values for ou different parameters"
   ]
  },
  {
   "cell_type": "code",
   "execution_count": null,
   "id": "6a9a53ab-ce49-46f2-bc25-0025cc1e2793",
   "metadata": {},
   "outputs": [],
   "source": [
    "second_index = datetime_to_seconds(simulation_df_resample.index)"
   ]
  },
  {
   "cell_type": "code",
   "execution_count": null,
   "id": "d8237e46-b6e4-46b4-b982-3b7489dd536e",
   "metadata": {},
   "outputs": [],
   "source": [
    "simulation_options_PYTH={\n",
    "    \"dataframe\":simulation_df_resample,\n",
    "    \"startTime\": second_index[0],\n",
    "    \"endTime\": second_index[-1],  \n",
    "}"
   ]
  },
  {
   "cell_type": "code",
   "execution_count": null,
   "id": "8fd0dc25-1aa1-4974-84df-04925b3adca6",
   "metadata": {},
   "outputs": [],
   "source": [
    "parameter_dict_PYTH = {\n",
    "    \"R_ext\": 0.04/S_wall,       \n",
    "    \"R_int\": 0.13/S_wall,      \n",
    "    \"R_concrete\": 1 / (lambda_concrete / ep_concrete) / 2 / S_wall,   \n",
    "    \"R_ins\": 1 / (lambda_ins / ep_ins) / 2 / S_wall, \n",
    "    \"C_ins\": rho_ins*ep_ins*S_wall*sc_ins,  \n",
    "    \"C_concrete\": rho_concrete*ep_concrete*S_wall*sc_concrete,       \n",
    "    \"alpha\": alpha,       \n",
    "    \"S_wall\": S_wall,         \n",
    "    \"epsilon\": epsilon,\n",
    "    'fview': fview\n",
    "}"
   ]
  },
  {
   "cell_type": "markdown",
   "id": "8cc6b842-009b-42e2-8e74-af91c6d8c14b",
   "metadata": {},
   "source": [
    "We can now instantiate the model and run the simulation. "
   ]
  },
  {
   "cell_type": "code",
   "execution_count": null,
   "id": "bb55d6b1-93ea-4e9c-a16c-9a058e28289f",
   "metadata": {},
   "outputs": [],
   "source": [
    "simu_PYTH = OpaqueWallSimple()\n",
    "\n",
    "init_res_PYTH = simu_PYTH.simulate(\n",
    "    parameter_dict=parameter_dict_PYTH, \n",
    "    simulation_options=simulation_options_PYTH\n",
    ")"
   ]
  },
  {
   "cell_type": "markdown",
   "id": "fd810131-bf4d-428f-9a4b-d44d109a923e",
   "metadata": {},
   "source": [
    "Let's compare results to measurement:"
   ]
  },
  {
   "cell_type": "code",
   "execution_count": null,
   "id": "66d734e5-7981-480b-a7e7-122b5b4e485f",
   "metadata": {},
   "outputs": [],
   "source": [
    "#renaming\n",
    "copy_res = init_res_PYTH\n",
    "copy_res.index = copy_res.index.tz_localize(None)\n",
    "\n",
    "copy_res = copy_res.rename(columns={\n",
    "    \"T_concrete\": \"T_concrete_PYTHON\",\n",
    "    \"T_interface\": \"T_interface_PYTHON\",\n",
    "    \"T_ins\": \"T_insulation_PYTHON\",\n",
    "})"
   ]
  },
  {
   "cell_type": "code",
   "execution_count": null,
   "id": "37878c86-ee1a-4e30-ac73-99527a2e0849",
   "metadata": {},
   "outputs": [],
   "source": [
    "measure_comp = pd.concat([\n",
    "    simulation_df_resample[[\"T_interface\", \"T_ins\"]], \n",
    "    copy_res[[\"T_interface_PYTHON\", \"T_insulation_PYTHON\" ]]], axis = 1)\n",
    "\n",
    "color_map = {\n",
    "    \"T_interface\": \"darkblue\", \n",
    "    \"T_interface_PYTHON\": \"blue\", \n",
    "    \"T_ins\": \"darkgreen\", \n",
    "    \"T_insulation_PYTHON\": \"green\" \n",
    "}\n",
    "\n",
    "fig = px.line(measure_comp)\n",
    "\n",
    "for trace in fig.data:\n",
    "    trace_name = trace.name\n",
    "    if trace_name in color_map:\n",
    "        trace.line.color = color_map[trace_name]\n",
    "        \n",
    "fig.show()\n"
   ]
  },
  {
   "cell_type": "markdown",
   "id": "43ae00ca-c5ac-4119-a493-3ec7533fbf26",
   "metadata": {},
   "source": [
    "Not so good. A sensitivity analysis should be performed to \"rank\" the parameters by order of influence on the error between measured temperature and model prediction.\n"
   ]
  },
  {
   "cell_type": "markdown",
   "id": "56c2c6a4-7060-435b-b472-8887eb7de5c3",
   "metadata": {},
   "source": [
    "# 3. Sensitivity analysis"
   ]
  },
  {
   "cell_type": "markdown",
   "id": "8ea43749",
   "metadata": {
    "jp-MarkdownHeadingCollapsed": true
   },
   "source": [
    "## 3.1. Error function\n",
    "The chosen error function is the CV_RMSE. The formula for CV_RMSE is given by:\n",
    "\n",
    "$$\n",
    "CV\\_RMSE = \\frac{RMSE}{\\bar{y}}\n",
    "$$\n",
    "\n",
    "Where:\n",
    "- *RMSE* is the root mean squared error,\n",
    "- *bar{y}* is the mean of the observed values.\n",
    "\n",
    "The RMSE is calculated as:\n",
    "\n",
    "$$\n",
    "RMSE = \\sqrt{\\frac{1}{n} \\sum_{i=1}^{n} (y_i - \\hat{y}_i)^2}\n",
    "$$\n",
    "\n",
    "Where:\n",
    "- *n* is the number of observations,\n",
    "- *y_i* is the observed value for the \\( i \\)-th observation,\n",
    "- *hat{y}_i* is the predicted value for the \\( i \\)-th observation.\n",
    "\n",
    "The CV_RMSE measures the variation of the RMSE relative to the mean of the observed values. It provides a standardized measure of the error, which can be useful for comparing the performance of different models across different datasets.\n"
   ]
  },
  {
   "cell_type": "markdown",
   "id": "7657f01c-e20b-4255-903d-64a72f7026b4",
   "metadata": {},
   "source": [
    "## 3.2. Tested parameters\n",
    "\n",
    "The chosen parameters are all the model parameters θ=(R_concrete,R_ins,C_ins,C_concrete,alpha,epsilon, R_ext, R_int ). They must be described using a dictionary.\n",
    "As you can see, simulation results are very inaccurate and give very high temperatures.  We should use the measurement to obtain optimal values of parameters. "
   ]
  },
  {
   "cell_type": "code",
   "execution_count": null,
   "id": "50986366",
   "metadata": {},
   "outputs": [],
   "source": [
    "from corrai.base.parameter import Parameter"
   ]
  },
  {
   "cell_type": "code",
   "execution_count": null,
   "id": "46855032",
   "metadata": {},
   "outputs": [],
   "source": [
    "high_conf = 0.25\n",
    "low_conf = 0.8\n",
    "\n",
    "coef = high_conf\n",
    "\n",
    "params = [\n",
    "    {\n",
    "        Parameter.NAME: 'R_concrete',\n",
    "        Parameter.INTERVAL: ((1-coef)*0.109, (1+coef) * 0.109),\n",
    "        Parameter.TYPE: \"Real\",\n",
    "    },\n",
    "    {\n",
    "        Parameter.NAME: 'R_ins',\n",
    "        Parameter.INTERVAL: ((1-coef) * 0.322, (1+coef)  * 0.322),\n",
    "        Parameter.TYPE: \"Real\",\n",
    "    },\n",
    "    {\n",
    "        Parameter.NAME: 'C_ins',\n",
    "        Parameter.INTERVAL: ((1-coef) * 31850, (1+coef)  * 31850),\n",
    "        Parameter.TYPE: \"Real\",\n",
    "    },\n",
    "    {\n",
    "        Parameter.NAME: 'C_concrete',\n",
    "        Parameter.INTERVAL: ((1-coef) * 2956800, (1+coef)  * 2956800),\n",
    "        Parameter.TYPE: \"Real\",\n",
    "    },\n",
    "\n",
    "    {\n",
    "        Parameter.NAME: 'alpha',\n",
    "        Parameter.INTERVAL: (0.1,0.6),\n",
    "        Parameter.TYPE: \"Real\",\n",
    "    },\n",
    "    {\n",
    "        Parameter.NAME: 'epsilon',\n",
    "        Parameter.INTERVAL: (0.2, 0.9),\n",
    "        Parameter.TYPE: \"Real\",\n",
    "    }, \n",
    "    {\n",
    "        Parameter.NAME: 'R_ext',\n",
    "        Parameter.INTERVAL: ((1-coef) * 0.04/S_wall, (1+coef)  * 0.04/S_wall),\n",
    "        Parameter.TYPE: \"Real\",\n",
    "    }, \n",
    "    {\n",
    "        Parameter.NAME: 'R_int',\n",
    "        Parameter.INTERVAL: ((1-coef) * 0.13/S_wall, (1+coef)  * 0.13/S_wall),\n",
    "        Parameter.TYPE: \"Real\",\n",
    "    }, \n",
    "]"
   ]
  },
  {
   "cell_type": "markdown",
   "id": "0021577e",
   "metadata": {},
   "source": [
    "## 3.3. Problem description\n",
    "We can now use a <code>SAnalysis</code> to set-up the study, requiring a sensitivity method. \n",
    "\n",
    "*Note: for now, only <code>SOBOL</code>, <code>FAST</code>, <code>RBD_FAST</code>, \n",
    "and <code>MORRIS</code> methods are implemented.*"
   ]
  },
  {
   "cell_type": "code",
   "execution_count": null,
   "id": "9d148433-4023-48a1-99cf-27e976902554",
   "metadata": {},
   "outputs": [],
   "source": [
    "from corrai.sensitivity import SAnalysis, Method"
   ]
  },
  {
   "cell_type": "markdown",
   "id": "02fdd2c2-a17e-4be0-ae17-d81fce890990",
   "metadata": {},
   "source": [
    "### 3.1.A MORRIS method"
   ]
  },
  {
   "cell_type": "markdown",
   "id": "02b5798a-6f68-4f3d-925b-74e22d0a966b",
   "metadata": {},
   "source": [
    "Let's try a first screening using <code>MORRIS</code> method."
   ]
  },
  {
   "cell_type": "code",
   "execution_count": null,
   "id": "9fed65a4",
   "metadata": {},
   "outputs": [],
   "source": [
    "sa_study = SAnalysis(\n",
    "    parameters_list=params,\n",
    "    method=Method.MORRIS,\n",
    ")"
   ]
  },
  {
   "cell_type": "markdown",
   "id": "3ccfece4",
   "metadata": {},
   "source": [
    "Then we draw a sample of parameters to be simulated. Each method has its sampling method. Please see SALib documentation for further explanation (https://salib.readthedocs.io/en/latest/index.html)\n",
    "\n",
    "Note that: \n",
    "- Convergence properties of the Sobol' sequence is only valid if\n",
    "        `N` (100) is equal to `2^n`.\n",
    "        N (int) – The number of samples to generate. Ideally a power of 2 and <= skip_values.\n",
    "- Convergence properties of the Fast' method is only valid if sample size N > 4M^2 (M=4 by default)"
   ]
  },
  {
   "cell_type": "code",
   "execution_count": null,
   "id": "4fa6b009",
   "metadata": {},
   "outputs": [],
   "source": [
    "sa_study.draw_sample(\n",
    "    n=20, \n",
    ")"
   ]
  },
  {
   "cell_type": "code",
   "execution_count": null,
   "id": "cd1a8d60-eacf-47d4-b06b-c028f5ee94d6",
   "metadata": {},
   "outputs": [],
   "source": [
    "len(sa_study.sample)"
   ]
  },
  {
   "cell_type": "markdown",
   "id": "ab1910c7",
   "metadata": {},
   "source": [
    "The sample is available as a 2d array <code>sa_study.sample</code>. Lines are simulations\n",
    "to run and columns are parameters values.\n",
    "\n",
    "Let's run the simulations. **CAREFUL depending on your computer and on the number of samples, it can be long.**"
   ]
  },
  {
   "cell_type": "code",
   "execution_count": null,
   "id": "948e2f6f",
   "metadata": {},
   "outputs": [],
   "source": [
    "import warnings\n",
    "\n",
    "sa_study.evaluate(\n",
    "    model = simu_PYTH, \n",
    "    simulation_options=simulation_options_PYTH,\n",
    ")"
   ]
  },
  {
   "cell_type": "markdown",
   "id": "c64118a4",
   "metadata": {},
   "source": [
    "We can plot all simulations in one graph and compare the simulated internal temperature to measured T_int. Argument <code>show_legends</code> can be set to True if you want see associated parameters values."
   ]
  },
  {
   "cell_type": "code",
   "execution_count": null,
   "id": "6354669b",
   "metadata": {},
   "outputs": [],
   "source": [
    "from corrai.sensitivity import plot_sample"
   ]
  },
  {
   "cell_type": "code",
   "execution_count": null,
   "id": "51888ea7",
   "metadata": {},
   "outputs": [],
   "source": [
    "plot_sample(\n",
    "    sample_results=sa_study.sample_results,\n",
    "    ref=simulation_df_resample[\"T_ins\"],\n",
    "    indicator=\"T_ins\",\n",
    "    show_legends=False,\n",
    "    y_label=\"Temperature [K]\",\n",
    "    x_label=\"Time [s]\",\n",
    ")"
   ]
  },
  {
   "cell_type": "markdown",
   "id": "9e0991a3",
   "metadata": {},
   "source": [
    "This graph can be very instructive as at some moments, simulations are far from measurements. It show that whatever the values of our parameters, it still does not fit reality: this is either due to a problem of measurement, or to our modeling approach (physical inconsistency, physical phenomenon not properly taken into account, etc.).\n",
    "\n",
    "We can also look at results using a parallel coordinate plot, with <code>plot_pcp</code>, for all parameter values and for  an indicator. It displays how the variation of the parameters has an impact on one of the model output. \n",
    " \n",
    "The chosen indicator (for instance output T_wall_i.T,  calculated temperature in one of the hybrid wall layers) must be aggragated though the aggragation_method argument (Default to mean)."
   ]
  },
  {
   "cell_type": "markdown",
   "id": "cb644f64",
   "metadata": {},
   "source": [
    "Now that all simulations are run, we can analyze these results regarding an indicator with method <code>analyze</code>. We can either choose an aggregation method on Ti (for instance the average temperature throughout the timerange of simulations), or an aggregation function between predicted and measured temperatures."
   ]
  },
  {
   "cell_type": "code",
   "execution_count": null,
   "id": "50a70d7b",
   "metadata": {},
   "outputs": [],
   "source": [
    "from corrai.metrics import cv_rmse, nmbe\n",
    "\n",
    "sa_study.analyze(\n",
    "    indicator=\"T_ins\",\n",
    "    reference_df=simulation_df_resample[\"T_ins\"],\n",
    "    agg_method=cv_rmse,\n",
    ")"
   ]
  },
  {
   "cell_type": "markdown",
   "id": "1cd5f4b9",
   "metadata": {},
   "source": [
    "We can now have a look at the sensitivity analysis results.\n",
    "They are stored in <code>sensitivity_results</code>. It holds the output formatted\n",
    "by <code>SALib</code>."
   ]
  },
  {
   "cell_type": "code",
   "execution_count": null,
   "id": "d67f1322-1a33-45db-a372-6d04a4782d1b",
   "metadata": {},
   "outputs": [],
   "source": [
    "sa_study.sensitivity_results"
   ]
  },
  {
   "cell_type": "markdown",
   "id": "a6170804-698f-4de7-a3d6-ec95efbad311",
   "metadata": {},
   "source": [
    "According to the method used, we can sum the indices of partial or total order. You can do it manually or use method <code>calculate_sensitivity_indicators</code>."
   ]
  },
  {
   "cell_type": "code",
   "execution_count": null,
   "id": "867fca03",
   "metadata": {},
   "outputs": [],
   "source": [
    "sa_study.calculate_sensitivity_indicators()"
   ]
  },
  {
   "cell_type": "markdown",
   "id": "416eb1cb-9f75-4ca8-a5df-97b432bdc43a",
   "metadata": {},
   "source": [
    "For <code>MORRIS</code> method, two indices, µj* for the mean of the absolute values of these effects and σj for the standard deviation of these effects, are calculated as follows:\n",
    "\n",
    "$$\n",
    "mu_{j}^{*} = \\frac{1}{r} \\sum_{i=1}^{r} E_{ij}\n",
    "$$\n",
    "\n",
    "$$\n",
    "sigma_{j} = \\sqrt{\\frac{1}{r-1} \\sum_{i=1}^{r} (E_{ij} - \\mu_{j}^{*})^2}\n",
    "$$"
   ]
  },
  {
   "cell_type": "markdown",
   "id": "c56681c5-9ebd-4c87-a861-b9391a258623",
   "metadata": {},
   "source": [
    "The highter $mu_{j}$, the more the parameter $j$ contributes to an uncertain output, and the higher $sigma_{j}$, the more pronounced the interaction effects between the model parameters are. Plotting $sigma_{j}$ against $mu_{j}^{}$ is often used to distinguish factors with negligible, linear, and/or interaction effects."
   ]
  },
  {
   "cell_type": "code",
   "execution_count": null,
   "id": "a7e927aa",
   "metadata": {},
   "outputs": [],
   "source": [
    "from corrai.sensitivity import plot_morris_scatter \n",
    "plot_morris_scatter(salib_res=sa_study.sensitivity_results, title='Elementary effects', unit='J', autosize=True) "
   ]
  },
  {
   "cell_type": "markdown",
   "id": "58f0fd6f-fb2e-4b5b-adb8-4a00fc1ec4ae",
   "metadata": {},
   "source": [
    "Besides this visual interpretation, it is also possible to calculate the Euclidean distance $d$ to the origin to obtain the total effect of the uncertain parameter:"
   ]
  },
  {
   "cell_type": "code",
   "execution_count": null,
   "id": "253b79b9-83b0-43fa-a6fd-44cbbad3255b",
   "metadata": {},
   "outputs": [],
   "source": [
    "# from corrai.sensitivity import plot_morris_st_bar\n",
    "# plot_morris_st_bar(sa_study.sensitivity_results)"
   ]
  },
  {
   "cell_type": "markdown",
   "id": "c304a822-5f90-4927-9443-3f2b95185b7a",
   "metadata": {},
   "source": [
    "Five parameters seem to have more impact on the error than other: $alpha$, $R_{ins}$, $epsilon$, $R_{ext}$, and $R_{concrete}$. \n",
    "Let's check if it is consistant with <code>SOBOL</code> method."
   ]
  },
  {
   "cell_type": "markdown",
   "id": "80dc43ff-34fa-4e2e-84a0-881c4e133a8e",
   "metadata": {},
   "source": [
    "### 3.1.A SOBOL method"
   ]
  },
  {
   "cell_type": "code",
   "execution_count": null,
   "id": "d940998f-792c-4db4-b568-0513f24b5ae3",
   "metadata": {},
   "outputs": [],
   "source": [
    "sa_study = SAnalysis(\n",
    "    parameters_list=params,\n",
    "    method=Method.SOBOL,\n",
    ")"
   ]
  },
  {
   "cell_type": "code",
   "execution_count": null,
   "id": "83d0e92c-0199-431f-91cb-d3d59eac5854",
   "metadata": {},
   "outputs": [],
   "source": [
    "sa_study.draw_sample(\n",
    "    n=2**8, \n",
    ")\n",
    "len(sa_study.sample)"
   ]
  },
  {
   "cell_type": "code",
   "execution_count": null,
   "id": "4c8ce417-fc45-47f0-a369-329158484cf2",
   "metadata": {},
   "outputs": [],
   "source": [
    "sa_study.evaluate(\n",
    "    model = simu_PYTH, \n",
    "    simulation_options=simulation_options_PYTH,\n",
    ")"
   ]
  },
  {
   "cell_type": "code",
   "execution_count": null,
   "id": "815383bb-23e2-41ad-936e-b408d0b71266",
   "metadata": {},
   "outputs": [],
   "source": [
    "sa_study.analyze(\n",
    "    indicator=\"T_ins\",\n",
    "    reference_df=simulation_df_resample[\"T_ins\"],\n",
    "    agg_method=cv_rmse,\n",
    ")"
   ]
  },
  {
   "cell_type": "code",
   "execution_count": null,
   "id": "a82c4ba7-7044-4ec0-bd5a-a9bce247ea3b",
   "metadata": {},
   "outputs": [],
   "source": [
    "sa_study.calculate_sensitivity_indicators()"
   ]
  },
  {
   "cell_type": "markdown",
   "id": "2d6cdc9a",
   "metadata": {},
   "source": [
    "The sum of all the indices should be close to 1. Also, the mean confidence interval should be very low. In that case, results of the sensitivity analysis can be considered as robust."
   ]
  },
  {
   "cell_type": "code",
   "execution_count": null,
   "id": "071e0dd3",
   "metadata": {},
   "outputs": [],
   "source": [
    "from corrai.sensitivity import plot_sobol_st_bar\n",
    "plot_sobol_st_bar(sa_study.sensitivity_results)"
   ]
  },
  {
   "cell_type": "markdown",
   "id": "eda62e0d",
   "metadata": {},
   "source": [
    "For analyses other than Sobol or Morris, you can plot results using: "
   ]
  },
  {
   "cell_type": "code",
   "execution_count": null,
   "id": "4bacc8ba",
   "metadata": {},
   "outputs": [],
   "source": [
    "# import plotly.graph_objects as go\n",
    "\n",
    "# # Retrieve results\n",
    "# S1 = sa_study.sensitivity_results['S1']\n",
    "# S1_conf = sa_study.sensitivity_results['S1_conf']\n",
    "# names = sa_study.sensitivity_results['names']\n",
    "\n",
    "# fig = go.Figure()\n",
    "\n",
    "# fig.add_trace(go.Bar(\n",
    "#     x=names,\n",
    "#     y=S1,\n",
    "#     error_y=dict(\n",
    "#         type='data',\n",
    "#         array=S1_conf,\n",
    "#         visible=True\n",
    "#     ),\n",
    "#     marker=dict(color='orange')  \n",
    "# ))\n",
    "\n",
    "# fig.update_layout(\n",
    "#     title='Sensitivity indices with error bars',\n",
    "#     xaxis=dict(title='Parameter'),\n",
    "#     yaxis=dict(title='Indices')\n",
    "# )\n",
    "\n",
    "# # Afficher le graphique\n",
    "# fig.show()\n"
   ]
  },
  {
   "cell_type": "markdown",
   "id": "9cef65b4",
   "metadata": {
    "jp-MarkdownHeadingCollapsed": true
   },
   "source": [
    "## 3.4 Conclusion on sensitivity analysis\n",
    "\n",
    "The sensitivity analysis allows us to rank the influence of uncertain parameter\n",
    "on an indicator. \n",
    "\n",
    "Results with Sobol are consistant with Morris.  $alpha$ is the most influencial parameters, followed by $R_{ins}$, $epsilon$, $R_{ext}$, and $R_{concrete}$\n",
    "\n",
    "In the following section, we will see how to use corrai to identify the\n",
    "optimal values for these parameters in order to fit the measurement."
   ]
  },
  {
   "cell_type": "markdown",
   "id": "7d0c13f3-4a23-4731-adec-a2f57d55b35b",
   "metadata": {},
   "source": [
    "# 4. Identification\n",
    "Now, we proceed to finding optimal values for these parameters by minimizing the coefficient of variation of root mean square error (cv_rmse) between one or several measured nodes, and one or several relevant outputs of our model.\n",
    "\n",
    "\n",
    "### Step-by-Step Process\n",
    "\n",
    "1. **Define the model and parameters**: by defining `OpaqueWallSimple`(this we already did) and specifying the parameters to be identify. Each parameter includes a name, an interval of possible values, a type, and an initial value.\n",
    "\n",
    "2. **Instantiate an objective function**: We create an instance of the `ObjectiveFunction` class, providing the model, simulation options, list of parameters, and indicators. The `scipy_obj_function` method of `ObjectiveFunction` will be used as the objective function for optimization. This method calculates the cv_rmse for the given parameter values.\n",
    "\n",
    "3. **Perform optimization**: We use the `minimize_scalar` function from `scipy.optimize` to minimize the objective function. Different methods can be chosen for optimization, such as Brent, bounded, and golden.\n"
   ]
  },
  {
   "cell_type": "markdown",
   "id": "c924aad5-9fa3-4df4-ac19-251152251c92",
   "metadata": {},
   "source": [
    "## 4.1. Objective function\n",
    "In parameter optimization, we aim to adjust certain model parameters to minimize the difference between simulated and observed data. The objective function is a scalar function that quantifies this difference. In this case, the CV_RMSE (Coefficient of Variation of Root Mean Square Error) is used as a measure of how well the model output matches the reference measurements.\n",
    "\n",
    "**How the ObjectiveFunction Class Works** : The ObjectiveFunction class simplifies the process of optimizing model parameters by providing a structured way to:\n",
    "\n",
    "- Run simulations: For a given set of parameters, the model is simulated over the input data.\n",
    "- Calculate error metrics (e.g., CV_RMSE): The model output is compared to the reference measurements, and a scalar error metric is calculated (such as the CV_RMSE).\n",
    "Optimize: The class can then be used with optimization algorithms (like scipy.optimize or pymoo) to adjust the model parameters in order to minimize the error metric.\n",
    "Attributes of the ObjectiveFunction Class\n",
    "\n",
    "To do so, the  `ObjectiveFunction` class is designed to facilitate the optimization of model parameters using `scipy.optimize` or `pymoo` optimization methods by encapsulating the logic for simulation and indicator calculation. The `ObjectiveFunction` class takes a model, simulation options, a list of parameters to be calibrated, and a list of indicators as input. It provides methods to calculate the objective function, which can be used by optimization routines to find the optimal parameters.\n",
    "\n",
    "### Attributes\n",
    "\n",
    "- **model**: The model to be calibrated.\n",
    "- **simulation_options**: A dictionary containing simulation options, including input data.\n",
    "- **param_list**: A list of dictionaries specifying the parameters to be calibrated.\n",
    "- **indicators**: A list of indicators to be used in the objective function.\n",
    "- **agg_methods_dict**: A dictionary specifying aggregation methods for each indicator (optional).\n",
    "- **reference_dict**: A dictionary mapping indicators to reference columns in `reference_df` (optional).\n",
    "- **reference_df**: A DataFrame containing reference data for the indicators (optional).\n",
    "- **custom_ind_dict**: A dictionary for custom indicators (optional).\n",
    "\n",
    "Before we start using optimization functions, we need to instantiate the `ObjectiveFunction` with the appropriate parameters and indicators.\n",
    "Let's import `ObjectiveFunction` first and define an anlysis daterange.\n"
   ]
  },
  {
   "cell_type": "code",
   "execution_count": null,
   "id": "805db524-c21d-4c33-811f-3d43c356ce92",
   "metadata": {},
   "outputs": [],
   "source": [
    "from corrai.sensitivity import ObjectiveFunction"
   ]
  },
  {
   "cell_type": "markdown",
   "id": "6617dd71-dc68-4222-9c9a-89b57e84ffa0",
   "metadata": {},
   "source": [
    "And define the analysis daterange. "
   ]
  },
  {
   "cell_type": "code",
   "execution_count": null,
   "id": "9f50a637-c468-4290-bbf1-34d667564189",
   "metadata": {},
   "outputs": [],
   "source": [
    "feat_train = simulation_df_resample"
   ]
  },
  {
   "cell_type": "markdown",
   "id": "e791ede0-e4df-4734-9813-766b6fd50efa",
   "metadata": {},
   "source": [
    "## 4.2. One-dimensional optimization problem"
   ]
  },
  {
   "cell_type": "markdown",
   "id": "7f97d2d8-d640-46bb-beb6-8fb66de1f2bb",
   "metadata": {},
   "source": [
    "First, we can try scalar functions optimization from scipy (different methods: brent, boulded, golden ... see documentation on scipy website).\n",
    "For Scypi, each objective function is minimized for optimization:\n",
    "- Here we chose as indicators the temperature calculated and measured within the wall insulation. Note this could be another node (a heat flux densitiy, another temperature node).\n",
    "- The identified parameter is  $alpha$."
   ]
  },
  {
   "cell_type": "markdown",
   "id": "91f213cd-7146-4da0-b726-3bd8529b5fe6",
   "metadata": {},
   "source": [
    "Let's define a reference dictionnary, setting observation and prediction to be used for the CV_RMSE calculation. (Here they have have the same name, so it can be confusing)"
   ]
  },
  {
   "cell_type": "code",
   "execution_count": null,
   "id": "82fb9a31-5d04-4e88-82f1-bf009b9d0087",
   "metadata": {},
   "outputs": [],
   "source": [
    "reference_dict = {\n",
    "    \"T_ins\": \"T_ins\",\n",
    "}"
   ]
  },
  {
   "cell_type": "markdown",
   "id": "e6ee2b33-523f-4303-9f03-e3b11b318889",
   "metadata": {},
   "source": [
    "An aggregation method for this node: "
   ]
  },
  {
   "cell_type": "code",
   "execution_count": null,
   "id": "a591eac9-4aa2-45bb-9cf9-fcb5c4619911",
   "metadata": {},
   "outputs": [],
   "source": [
    "from corrai.metrics import cv_rmse\n",
    "\n",
    "agg_methods_dict = {\n",
    "    \"T_ins\": cv_rmse,\n",
    "}"
   ]
  },
  {
   "cell_type": "markdown",
   "id": "d005ad68-bc83-4275-b742-ce7fd50c2eff",
   "metadata": {},
   "source": [
    "We also need to set which parameter should be calibrated."
   ]
  },
  {
   "cell_type": "code",
   "execution_count": null,
   "id": "e64f1e13-50bd-4761-9753-cd85fe5caf7e",
   "metadata": {},
   "outputs": [],
   "source": [
    "calibration_params = [\n",
    "    {\n",
    "        Parameter.NAME: 'alpha',\n",
    "        Parameter.INTERVAL: (0.1,0.6),\n",
    "        Parameter.TYPE: \"Real\",\n",
    "    },\n",
    "]"
   ]
  },
  {
   "cell_type": "markdown",
   "id": "9b958191-d13a-42b2-bb10-91fe8c8bf62d",
   "metadata": {},
   "source": [
    "We can now instanciate an objective function, using `ObjectiveFunction`."
   ]
  },
  {
   "cell_type": "code",
   "execution_count": null,
   "id": "23fe35fd-e335-4186-b097-ebc0f8a5f71e",
   "metadata": {},
   "outputs": [],
   "source": [
    "obj_func = ObjectiveFunction(\n",
    "    model=simu_PYTH,\n",
    "    simulation_options=simulation_options_PYTH,\n",
    "    param_list=calibration_params,\n",
    "    agg_methods_dict=agg_methods_dict,\n",
    "    indicators=[\"T_ins\"],\n",
    "    reference_df=feat_train,\n",
    "    reference_dict=reference_dict,\n",
    ")"
   ]
  },
  {
   "cell_type": "markdown",
   "id": "0f36a309-ad8f-4814-80f8-5ec36e15be7a",
   "metadata": {},
   "source": [
    "The `minimize_scalar` function in `scipy.optimize` is used for scalar function minimization, specifically for one-dimensional optimization problems. This function finds the minimum value of a scalar function over a specified interval. The main methods are `Brent`, `bounded`, and `golden`.\n",
    "\n",
    "The function returns an optimization result object that contains information about the optimization process and the final solution.\n",
    "\n",
    "- **Brent** :The Brent method uses Brent’s algorithm, which combines a parabolic interpolation with the golden section search. This method does not require the interval bounds.\n",
    "- **Golden** : Employs the golden section search method, which reduces the interval of uncertainty using the golden ratio. Simple and reliable for unimodal functions, but may be slower than Brent's method.\n",
    "- **Bounded** : Restricts the search to the specified bounds using a combination of golden section search and parabolic interpolation.\n",
    "Advantages: Ensures that the solution remains within the given bounds, making it ideal for constrained problems."
   ]
  },
  {
   "cell_type": "code",
   "execution_count": null,
   "id": "f9e3eacb-f57e-4a1f-92e4-edd76115a8bf",
   "metadata": {},
   "outputs": [],
   "source": [
    "from scipy.optimize import minimize_scalar"
   ]
  },
  {
   "cell_type": "code",
   "execution_count": null,
   "id": "16866e9e-b538-42ff-92a9-2ed32eff6be4",
   "metadata": {},
   "outputs": [],
   "source": [
    "import warnings\n",
    "warnings.filterwarnings('ignore', category=RuntimeWarning)\n",
    "\n",
    "result = minimize_scalar(\n",
    "    obj_func.scipy_obj_function, \n",
    "    bounds=obj_func.bounds,\n",
    "    method=\"Bounded\"\n",
    ")\n",
    "\n",
    "result"
   ]
  },
  {
   "cell_type": "markdown",
   "id": "cd3a1e48-55c8-47e1-b2ba-eced375fefe2",
   "metadata": {},
   "source": [
    "A solution is found with a value of 0.12 for alpha and 0.36 for the CV_RMSE. Let's check if the parameter value is close to the boundaries."
   ]
  },
  {
   "cell_type": "code",
   "execution_count": null,
   "id": "ac04baf9-e3cb-43b7-8b1c-eccd8a5940ce",
   "metadata": {},
   "outputs": [],
   "source": [
    "obj_func.bounds"
   ]
  },
  {
   "cell_type": "markdown",
   "id": "5b95aff0-2037-4967-80fa-d9784418209a",
   "metadata": {},
   "source": [
    "It is a bit close to 0.1 but not a the limit. Let's now run the simulation using this parameter value and compare with the initial simulation."
   ]
  },
  {
   "cell_type": "code",
   "execution_count": null,
   "id": "2ee2ca7d-f5f1-49c1-8ad3-25a873adb3c2",
   "metadata": {},
   "outputs": [],
   "source": [
    "parameter_names = [param[Parameter.NAME] for param in calibration_params]\n",
    "parameter_dict1 = {param_name: result.x for i, param_name in enumerate(parameter_names)}\n",
    "\n",
    "result_optim = simu_PYTH.simulate(\n",
    "    parameter_dict=parameter_dict1, \n",
    "    simulation_options=simulation_options_PYTH\n",
    ")"
   ]
  },
  {
   "cell_type": "code",
   "execution_count": null,
   "id": "ae134e1c-cd79-4afd-b151-e7d4251e0e38",
   "metadata": {},
   "outputs": [],
   "source": [
    "import plotly.graph_objects as go\n",
    "\n",
    "fig = go.Figure()\n",
    "\n",
    "fig.add_trace(go.Scatter(\n",
    "    x=init_res_PYTH.index,\n",
    "    y=simulation_df_resample[\"T_ins\"],\n",
    "    fill=None,\n",
    "    mode='lines',\n",
    "    line_color='green',\n",
    "    name=\"T_insulation - Measurement\"\n",
    "))\n",
    "\n",
    "fig.add_trace(go.Scatter(\n",
    "    x=init_res_PYTH.index,\n",
    "    y=init_res_PYTH[\"T_ins\"],\n",
    "    fill=None,\n",
    "    mode='lines',\n",
    "    line_color='orange',\n",
    "    name=\"T_insulation - Initial results\"\n",
    "))\n",
    "\n",
    "fig.add_trace(go.Scatter(\n",
    "    x=init_res_PYTH.index,\n",
    "    y=result_optim[\"T_ins\"],\n",
    "    fill=None,\n",
    "    mode='lines',\n",
    "    line_color='brown',\n",
    "    name=\"T_insulation - Optimization results\"\n",
    "))\n",
    "\n",
    "\n",
    "fig.update_layout(\n",
    "    title='Optimization vs. Measurement ',\n",
    "    xaxis_title='Date',\n",
    "    yaxis_title='Temperature [K]')\n",
    "\n",
    "fig.show()"
   ]
  },
  {
   "cell_type": "markdown",
   "id": "38ca13cf-593c-4137-aa8c-776fc534ceb7",
   "metadata": {},
   "source": [
    "Results are closer to measurements but still far off."
   ]
  },
  {
   "cell_type": "markdown",
   "id": "d5d1e1fd-6fa7-4d8e-afb9-69709af84e02",
   "metadata": {},
   "source": [
    "## 4.3. Multi- objectives and parameters optimization"
   ]
  },
  {
   "cell_type": "markdown",
   "id": "ed943c5b-a23f-4a85-9ccd-ebb5e9f95618",
   "metadata": {},
   "source": [
    "Let's use Pymoo, integrated into `MyProblem` class of corrAI.\n",
    "Note that for Pymoo as well, each objective function is supposed to be minimized, and each constraint needs to be provided in the form of ≤0.\n",
    "\n",
    "For multiobjectives and new parametres, we need to redefine the objective function. \n",
    "Here, we can add the interferace temperature (between insulation and concrete panels) as an observation. "
   ]
  },
  {
   "cell_type": "code",
   "execution_count": null,
   "id": "0f30dffb-9097-4f8a-9746-3b4edb2dfa27",
   "metadata": {},
   "outputs": [],
   "source": [
    "from corrai.metrics import cv_rmse\n",
    "\n",
    "agg_methods_dict = {\n",
    "    \"T_ins\": cv_rmse,\n",
    "    \"T_interface\": cv_rmse,\n",
    "}"
   ]
  },
  {
   "cell_type": "code",
   "execution_count": null,
   "id": "6af3d37f-569c-40d9-85a1-bd65a8f48f01",
   "metadata": {},
   "outputs": [],
   "source": [
    "reference_dict = {\n",
    "    \"T_ins\": \"T_ins\",\n",
    "    \"T_interface\": \"T_interface\"\n",
    "}"
   ]
  },
  {
   "cell_type": "markdown",
   "id": "2ee5a2f8-5ac1-4ca2-9120-079636517665",
   "metadata": {},
   "source": [
    "### 4.3.1. Few parameters"
   ]
  },
  {
   "cell_type": "code",
   "execution_count": null,
   "id": "2d37f2cd-3937-4360-8cb4-bde55b1e25e2",
   "metadata": {},
   "outputs": [],
   "source": [
    "coef = 0.5\n",
    "\n",
    "calibration_params = [\n",
    "    {\n",
    "        Parameter.NAME: 'R_concrete',\n",
    "        Parameter.INTERVAL: ((1-coef)*0.109, (1+coef) * 0.109),\n",
    "        Parameter.TYPE: \"Real\",\n",
    "    },\n",
    "    {\n",
    "        Parameter.NAME: 'R_ins',\n",
    "        Parameter.INTERVAL: ((1-coef) * 0.322, (1+coef)  * 0.322),\n",
    "        Parameter.TYPE: \"Real\",\n",
    "    },\n",
    "    {\n",
    "        Parameter.NAME: 'R_ext',\n",
    "        Parameter.INTERVAL: ((1-coef) * 0.04/S_wall, (1+coef)  * 0.04/S_wall),\n",
    "        Parameter.TYPE: \"Real\",\n",
    "    },  \n",
    "\n",
    "    {\n",
    "        Parameter.NAME: 'alpha',\n",
    "        Parameter.INTERVAL: (0.1,0.3), ## shorter interval, as 0.12 was found with scipy\n",
    "        Parameter.TYPE: \"Real\",\n",
    "    },\n",
    "]"
   ]
  },
  {
   "cell_type": "code",
   "execution_count": null,
   "id": "551eeb45-fde5-4afb-bae0-2128f08cb10d",
   "metadata": {},
   "outputs": [],
   "source": [
    "obj_func = ObjectiveFunction(\n",
    "    model=simu_PYTH,\n",
    "    simulation_options=simulation_options_PYTH,\n",
    "    param_list=calibration_params,\n",
    "    agg_methods_dict=agg_methods_dict,\n",
    "    indicators=[\"T_ins\", \"T_interface\"],\n",
    "    reference_df=feat_train,\n",
    "    reference_dict=reference_dict,\n",
    ")"
   ]
  },
  {
   "cell_type": "markdown",
   "id": "1b45cdf5-133a-4864-bd3b-b8199bb8c47f",
   "metadata": {},
   "source": [
    "Now let's instanciate MyProblem. For mixed parameters (integer, binary, choices between specific values, ...), you can use MyMixedProblem. \n",
    "If any, they should have been properly defined in calibration_params, with the <code>Parameter.TYPE</code>."
   ]
  },
  {
   "cell_type": "code",
   "execution_count": null,
   "id": "ff9c4d22",
   "metadata": {},
   "outputs": [],
   "source": [
    "from corrai.multi_optimize import MyProblem \n",
    "\n",
    "problem = MyProblem(\n",
    "    parameters=calibration_params,\n",
    "    obj_func_list=[obj_func],\n",
    "    func_list=[],\n",
    "    function_names=[\"T_ins\", \"T_interface\"], #measurement\n",
    "    constraint_names=[],\n",
    ")"
   ]
  },
  {
   "cell_type": "markdown",
   "id": "e3eeb4cf-85e5-475c-83fb-275747ff5f62",
   "metadata": {},
   "source": [
    "For a two objective problem, we choose here **NSGA2**, as a well-known multi-objective optimization algorithm based on non-dominated sorting and crowding.\n",
    "List of algorithms here https://pymoo.org/algorithms/list.html#nb-algorithms-list.\n",
    "\n",
    "If the verbose=True, some printouts during the algorithm’s execution are provided. This can very from algorithm to algorithm. Here, we execute NSGA2 on a problem where pymoo has no knowledge about the optimum. Each line represents one iteration. The first two columns are the current generation counter and the number of evaluations so far. For constrained problems, the next two columns show the minimum constraint violation (cv (min)) and the average constraint violation (cv (avg)) in the current population. This is followed by the number of non-dominated solutions (n_nds) and two more metrics which represents the movement in the objective space."
   ]
  },
  {
   "cell_type": "code",
   "execution_count": null,
   "id": "2c163ee3-b514-46de-8eea-3bda9f783bfd",
   "metadata": {},
   "outputs": [],
   "source": [
    "from pymoo.algorithms.moo.nsga2 import NSGA2\n",
    "from pymoo.optimize import minimize\n",
    "from pymoo.operators.crossover.pntx import TwoPointCrossover\n",
    "from pymoo.termination import get_termination\n",
    "from pymoo.algorithms.moo.nsga2 import NSGA2\n",
    "from pymoo.operators.crossover.sbx import SBX\n",
    "from pymoo.operators.mutation.pm import PM\n",
    "from pymoo.operators.sampling.rnd import FloatRandomSampling"
   ]
  },
  {
   "cell_type": "code",
   "execution_count": null,
   "id": "4514641c-e91d-4be0-900b-4ba6c33a1728",
   "metadata": {},
   "outputs": [],
   "source": [
    "algorithm = NSGA2(\n",
    "    pop_size=50,\n",
    "    #n_offsprings=10,\n",
    "    #sampling=FloatRandomSampling(),\n",
    "    crossover=SBX(prob=0.9, eta=15),\n",
    "    mutation=PM(eta=20),\n",
    "    eliminate_duplicates=True\n",
    ")"
   ]
  },
  {
   "cell_type": "markdown",
   "id": "e874bc6a-84c5-4eae-94b7-be049d660c66",
   "metadata": {},
   "source": [
    "Here, we will run 15 generation with a population of 50."
   ]
  },
  {
   "cell_type": "code",
   "execution_count": null,
   "id": "5f2bda52-237a-45f1-bb22-dc31bef2df34",
   "metadata": {
    "scrolled": true
   },
   "outputs": [],
   "source": [
    "termination = get_termination(\"n_gen\", 15)\n",
    "\n",
    "res = minimize(problem,\n",
    "               algorithm,\n",
    "               termination,\n",
    "               seed=42,\n",
    "               verbose=True)\n",
    "\n",
    "print(\"Best solution found: \\nX = %s\\nF = %s\" % (res.X, res.F))"
   ]
  },
  {
   "cell_type": "markdown",
   "id": "3646199b-4610-4308-ac9a-f7126e2c9f52",
   "metadata": {},
   "source": [
    "Let's visualize the objectives functions results."
   ]
  },
  {
   "cell_type": "code",
   "execution_count": null,
   "id": "425e2753-d8f6-41b6-be03-82a186b71f6b",
   "metadata": {},
   "outputs": [],
   "source": [
    "from pymoo.visualization.scatter import Scatter\n",
    "Scatter().add(res.F).show()"
   ]
  },
  {
   "cell_type": "markdown",
   "id": "10743041-3b9b-496c-a12d-d6acc18a26a2",
   "metadata": {},
   "source": [
    "For a bi-objective problem,and helping us chosing the best set of parameters value, wethen use the decomposition method called Augmented Scalarization Function (ASF), a well-known metric in the multi-objective optimization literature.\n",
    "Let us assume the are equally important by setting the weights to 0.5 and 0.5 and setting these"
   ]
  },
  {
   "cell_type": "code",
   "execution_count": null,
   "id": "d99723ed-ceac-4f8a-911c-d73b82c37a0e",
   "metadata": {},
   "outputs": [],
   "source": [
    "from pymoo.decomposition.asf import ASF\n",
    "F = res.F\n",
    "approx_ideal = F.min(axis=0)\n",
    "approx_nadir = F.max(axis=0)\n",
    "nF = (F - approx_ideal) / (approx_nadir - approx_ideal)\n",
    "\n",
    "fl = nF.min(axis=0)\n",
    "fu = nF.max(axis=0)\n",
    "weights = np.array([0.5, 0.5])\n",
    "decomp = ASF()\n",
    "\n",
    "i = decomp.do(nF, 1/weights).argmin()\n",
    "\n",
    "parameter_names = [param[Parameter.NAME] for param in calibration_params]\n",
    "parameter_dict = {param_name: res.X[i][j] for j, param_name in enumerate(parameter_names)}\n",
    "\n",
    "print(\n",
    "    \"Best regarding ASF: Point \\ni = %s\\nF = %s\" % (i,  F[i]),\n",
    "    parameter_dict\n",
    ")\n"
   ]
  },
  {
   "cell_type": "markdown",
   "id": "38a02b93",
   "metadata": {},
   "source": [
    "The estimated parameters seem consistent with our expectations. We can compare the profile of measured indoor temperature with the output that the model predicts given the identified optimal parameters. "
   ]
  },
  {
   "cell_type": "code",
   "execution_count": null,
   "id": "d3fc33a1",
   "metadata": {},
   "outputs": [],
   "source": [
    "result_optim = simu_PYTH.simulate(\n",
    "    parameter_dict=parameter_dict, \n",
    "    simulation_options=simulation_options_PYTH,\n",
    ")"
   ]
  },
  {
   "cell_type": "code",
   "execution_count": null,
   "id": "faaaf9ea-899f-4735-a42c-b71e422c8808",
   "metadata": {},
   "outputs": [],
   "source": [
    "import plotly.graph_objects as go\n",
    "\n",
    "fig = go.Figure()\n",
    "\n",
    "fig.add_trace(go.Scatter(\n",
    "    x=init_res_PYTH.index,\n",
    "    y=simulation_df_resample[\"T_ins\"],\n",
    "    fill=None,\n",
    "    mode='lines',\n",
    "    line_color='green',\n",
    "    name=\"T_insulation - Measurement\"\n",
    "))\n",
    "\n",
    "fig.add_trace(go.Scatter(\n",
    "    x=init_res_PYTH.index,\n",
    "    y=init_res_PYTH[\"T_ins\"],\n",
    "    fill=None,\n",
    "    mode='lines',\n",
    "    line_color='orange',\n",
    "    name=\"T_insulation - Initial results\"\n",
    "))\n",
    "\n",
    "\n",
    "fig.add_trace(go.Scatter(\n",
    "    x=init_res_PYTH.index,\n",
    "    y=result_optim[\"T_ins\"],\n",
    "    fill=None,\n",
    "    mode='lines',\n",
    "    line_color='brown',\n",
    "    name=\"T_insulation - Optimization results\"\n",
    "))\n",
    "\n",
    "\n",
    "fig.update_layout(\n",
    "    title='Optimization vs. Measurement ',\n",
    "    xaxis_title='Date',\n",
    "    yaxis_title='Temperature [K]')\n",
    "\n",
    "fig.show()"
   ]
  },
  {
   "cell_type": "code",
   "execution_count": null,
   "id": "2267f589-18c9-4a93-a0a5-a2f9de4827f7",
   "metadata": {},
   "outputs": [],
   "source": [
    "import plotly.graph_objects as go\n",
    "\n",
    "fig = go.Figure()\n",
    "\n",
    "\n",
    "fig.add_trace(go.Scatter(\n",
    "    x=init_res_PYTH.index,\n",
    "    y=simulation_df_resample[\"T_interface\"],\n",
    "    fill=None,\n",
    "    mode='lines',\n",
    "    line_color='green',\n",
    "    name=\"T_interface - Measurement\"\n",
    "))\n",
    "\n",
    "fig.add_trace(go.Scatter(\n",
    "    x=init_res_PYTH.index,\n",
    "    y=init_res_PYTH[\"T_interface\"],\n",
    "    fill=None,\n",
    "    mode='lines',\n",
    "    line_color='orange',\n",
    "    name=\"T_interface - Initial results\"\n",
    "))\n",
    "\n",
    "fig.add_trace(go.Scatter(\n",
    "    x=init_res_PYTH.index,\n",
    "    y=result_optim[\"T_interface\"],\n",
    "    fill=None,\n",
    "    mode='lines',\n",
    "    line_color='brown',\n",
    "    name=\"T_interface - Optimization results\"\n",
    "))\n",
    "\n",
    "fig.update_layout(\n",
    "    title='Optimization vs. Measurement ',\n",
    "    xaxis_title='Date',\n",
    "    yaxis_title='Temperature [K]')\n",
    "\n",
    "fig.show()"
   ]
  },
  {
   "cell_type": "markdown",
   "id": "827e5116-5083-459a-9038-f97290fe2e59",
   "metadata": {},
   "source": [
    "### 4.3.1. All parameters"
   ]
  },
  {
   "cell_type": "markdown",
   "id": "51c35e8a-c0a3-4083-99d6-8c14152ac282",
   "metadata": {},
   "source": [
    "We can try to identify all parameters at once, with larger intervals."
   ]
  },
  {
   "cell_type": "code",
   "execution_count": null,
   "id": "553b5d25-2d73-4d02-9276-de2a1e9c8855",
   "metadata": {
    "scrolled": true
   },
   "outputs": [],
   "source": [
    "coef = 0.99\n",
    "\n",
    "calibration_params = [\n",
    "    {\n",
    "        Parameter.NAME: 'R_concrete',\n",
    "        Parameter.INTERVAL: ((1-coef)*0.109, (1+coef) * 0.109),\n",
    "        Parameter.TYPE: \"Real\",\n",
    "    },\n",
    "    {\n",
    "        Parameter.NAME: 'R_ins',\n",
    "        Parameter.INTERVAL: ((1-coef) * 0.322, (1+coef)  * 0.322),\n",
    "        Parameter.TYPE: \"Real\",\n",
    "    },\n",
    "    {\n",
    "        Parameter.NAME: 'C_ins',\n",
    "        Parameter.INTERVAL: ((1-coef) * 31850, (1+coef)  * 31850),\n",
    "        Parameter.TYPE: \"Real\",\n",
    "    },\n",
    "    {\n",
    "        Parameter.NAME: 'C_concrete',\n",
    "        Parameter.INTERVAL: ((1-coef) * 2956800, (1+coef)  * 2956800),\n",
    "        Parameter.TYPE: \"Real\",\n",
    "    },\n",
    "\n",
    "    {\n",
    "        Parameter.NAME: 'alpha',\n",
    "        Parameter.INTERVAL: (0.1,0.6),\n",
    "        Parameter.TYPE: \"Real\",\n",
    "    },\n",
    "    {\n",
    "        Parameter.NAME: 'epsilon',\n",
    "        Parameter.INTERVAL: (0.2, 0.9),\n",
    "        Parameter.TYPE: \"Real\",\n",
    "    }, \n",
    "    {\n",
    "        Parameter.NAME: 'R_ext',\n",
    "        Parameter.INTERVAL: ((1-coef) * 0.04/S_wall, (1+coef)  * 0.04/S_wall),\n",
    "        Parameter.TYPE: \"Real\",\n",
    "    }, \n",
    "    {\n",
    "        Parameter.NAME: 'R_int',\n",
    "        Parameter.INTERVAL: ((1-coef) * 0.13/S_wall, (1+coef)  * 0.13/S_wall),\n",
    "        Parameter.TYPE: \"Real\",\n",
    "    }, \n",
    "]\n",
    "\n",
    "obj_func = ObjectiveFunction(\n",
    "    model=simu_PYTH,\n",
    "    simulation_options=simulation_options_PYTH,\n",
    "    param_list=calibration_params,\n",
    "    agg_methods_dict=agg_methods_dict,\n",
    "    indicators=[\"T_ins\", \"T_interface\"],\n",
    "    reference_df=feat_train,\n",
    "    reference_dict=reference_dict,\n",
    ")\n",
    "\n",
    "\n",
    "problem = MyProblem(\n",
    "    parameters=calibration_params,\n",
    "    obj_func_list=[obj_func],\n",
    "    func_list=[],\n",
    "    function_names=[\"T_ins\", \"T_interface\"], #measurement\n",
    "    constraint_names=[],\n",
    ")\n",
    "\n",
    "algorithm = NSGA2(\n",
    "    pop_size=50,\n",
    "    #n_offsprings=10,\n",
    "    #sampling=FloatRandomSampling(),\n",
    "    crossover=SBX(prob=0.9, eta=15),\n",
    "    mutation=PM(eta=20),\n",
    "    eliminate_duplicates=True\n",
    ")\n",
    "\n",
    "termination = get_termination(\"n_gen\", 15)\n",
    "\n",
    "res = minimize(problem,\n",
    "               algorithm,\n",
    "               termination,\n",
    "               verbose=True)\n",
    "\n",
    "print(\"Best solution found: \\nX = %s\\nF = %s\" % (res.X, res.F))"
   ]
  },
  {
   "cell_type": "code",
   "execution_count": null,
   "id": "971091e9-4cf5-42a3-bee0-08a1d8bf3513",
   "metadata": {},
   "outputs": [],
   "source": [
    "from pymoo.visualization.scatter import Scatter\n",
    "Scatter().add(res.F).show()"
   ]
  },
  {
   "cell_type": "code",
   "execution_count": null,
   "id": "8e6e1059-2d1f-406a-b8f3-bf8b49c07cb3",
   "metadata": {},
   "outputs": [],
   "source": [
    "from pymoo.decomposition.asf import ASF\n",
    "F = res.F\n",
    "approx_ideal = F.min(axis=0)\n",
    "approx_nadir = F.max(axis=0)\n",
    "nF = (F - approx_ideal) / (approx_nadir - approx_ideal)\n",
    "\n",
    "fl = nF.min(axis=0)\n",
    "fu = nF.max(axis=0)\n",
    "weights = np.array([0.9, 0.1])\n",
    "decomp = ASF()\n",
    "\n",
    "i = decomp.do(nF, 1/weights).argmin()\n",
    "\n",
    "parameter_names = [param[Parameter.NAME] for param in calibration_params]\n",
    "parameter_dict2 = {param_name: res.X[i][j] for j, param_name in enumerate(parameter_names)}\n",
    "\n",
    "print(\"Best regarding ASF: Point \\ni = %s\\nF = %s\" % (i, F[i]),\n",
    "      parameter_dict2\n",
    "     )"
   ]
  },
  {
   "cell_type": "code",
   "execution_count": null,
   "id": "643e3379-786c-4867-95b9-c2d00f1f1dac",
   "metadata": {},
   "outputs": [],
   "source": [
    "result_optim2 = simu_PYTH.simulate(\n",
    "    parameter_dict=parameter_dict2, \n",
    "    simulation_options=simulation_options_PYTH,\n",
    ")"
   ]
  },
  {
   "cell_type": "code",
   "execution_count": null,
   "id": "81ae1ae8-0e1f-4ed9-a189-bdc221ae5461",
   "metadata": {},
   "outputs": [],
   "source": [
    "import plotly.graph_objects as go\n",
    "\n",
    "fig = go.Figure()\n",
    "\n",
    "fig.add_trace(go.Scatter(\n",
    "    x=init_res_PYTH.index,\n",
    "    y=simulation_df_resample[\"T_ins\"],\n",
    "    fill=None,\n",
    "    mode='lines',\n",
    "    line_color='green',\n",
    "    name=\"T_insulation - Measurement\"\n",
    "))\n",
    "\n",
    "fig.add_trace(go.Scatter(\n",
    "    x=init_res_PYTH.index,\n",
    "    y=init_res_PYTH[\"T_ins\"],\n",
    "    fill=None,\n",
    "    mode='lines',\n",
    "    line_color='orange',\n",
    "    name=\"T_insulation - Initial results\"\n",
    "))\n",
    "\n",
    "\n",
    "fig.add_trace(go.Scatter(\n",
    "    x=init_res_PYTH.index,\n",
    "    y=result_optim[\"T_ins\"],\n",
    "    fill=None,\n",
    "    mode='lines',\n",
    "    line_color='brown',\n",
    "    name=\"T_insulation - Optimization results 1\"\n",
    "))\n",
    "\n",
    "fig.add_trace(go.Scatter(\n",
    "    x=init_res_PYTH.index,\n",
    "    y=result_optim2[\"T_ins\"],\n",
    "    fill=None,\n",
    "    mode='lines',\n",
    "    line_color='black',\n",
    "    name=\"T_insulation - Optimization results 2\"\n",
    "))\n",
    "\n",
    "fig.update_layout(\n",
    "    title='Optimization vs. Measurement ',\n",
    "    xaxis_title='Date',\n",
    "    yaxis_title='Temperature [K]')\n",
    "\n",
    "fig.show()"
   ]
  },
  {
   "cell_type": "markdown",
   "id": "ba66eb98-2754-448b-bc4b-b720e61ec68d",
   "metadata": {},
   "source": [
    "### Validation set\n",
    "An important step is to check identified parameters on validation set. Let's try on an new period using the last identified values."
   ]
  },
  {
   "cell_type": "code",
   "execution_count": null,
   "id": "70c65b0d-acc6-4c24-aed7-8bb0dd639ad0",
   "metadata": {},
   "outputs": [],
   "source": [
    "validation_set = reference_df.loc[\"2024-09-09 00:00\":\"2024-09-14 00:00\"]\n",
    "validation_set.loc[:,\"time_sec\"] = datetime_to_seconds(validation_set.index)\n",
    "\n",
    "validation_set = validation_set.resample('5min').mean()\n",
    "second_index = datetime_to_seconds(validation_set.index)\n",
    "\n",
    "new_simulation_options_PYTH={\n",
    "    \"dataframe\":validation_set,\n",
    "    \"startTime\": second_index[0],\n",
    "    \"endTime\": second_index[-1],  \n",
    "}"
   ]
  },
  {
   "cell_type": "code",
   "execution_count": null,
   "id": "894736ea-46b7-4c6d-83bd-c03d75c8301b",
   "metadata": {},
   "outputs": [],
   "source": [
    "validation_results = simu_PYTH.simulate(\n",
    "    parameter_dict2,\n",
    "    new_simulation_options_PYTH\n",
    ")"
   ]
  },
  {
   "cell_type": "code",
   "execution_count": null,
   "id": "23c833ab-a029-4556-8e13-d65cef556ba1",
   "metadata": {},
   "outputs": [],
   "source": [
    "import plotly.graph_objects as go\n",
    "\n",
    "fig = go.Figure()\n",
    "\n",
    "fig.add_trace(go.Scatter(\n",
    "    x=validation_results.index,\n",
    "    y=validation_results[\"T_ins\"] ,\n",
    "    fill=None,\n",
    "    mode='lines',\n",
    "    line_color='orange',\n",
    "    name=\"T_insulation - Validation result\"\n",
    "))\n",
    "\n",
    "fig.add_trace(go.Scatter(\n",
    "    x=validation_results.index,\n",
    "    y=validation_set[\"T_ins\"],\n",
    "    fill=None,\n",
    "    mode='lines',\n",
    "    line_color='green',\n",
    "    name=\"T_insulation - Measurement\"\n",
    "))\n",
    "\n",
    "fig.update_layout(\n",
    "    title='Simulation vs. Measurement ',\n",
    "    xaxis_title='Date',\n",
    "    yaxis_title='Temperature [K]')\n",
    "\n",
    "fig.show()"
   ]
  },
  {
   "cell_type": "code",
   "execution_count": null,
   "id": "d591c7f3-da49-42e0-a52d-8026ec150fc0",
   "metadata": {},
   "outputs": [],
   "source": [
    "cv_rmse(\n",
    "    validation_results[\"T_ins\"],\n",
    "    validation_set[\"T_ins\"]\n",
    ")"
   ]
  },
  {
   "cell_type": "code",
   "execution_count": null,
   "id": "20ac0fd8-03a8-4955-aa7b-3196bbd173c4",
   "metadata": {},
   "outputs": [],
   "source": []
  }
 ],
 "metadata": {
  "kernelspec": {
   "display_name": "Python 3 (ipykernel)",
   "language": "python",
   "name": "python3"
  },
  "language_info": {
   "codemirror_mode": {
    "name": "ipython",
    "version": 3
   },
   "file_extension": ".py",
   "mimetype": "text/x-python",
   "name": "python",
   "nbconvert_exporter": "python",
   "pygments_lexer": "ipython3",
   "version": "3.10.13"
  }
 },
 "nbformat": 4,
 "nbformat_minor": 5
}
