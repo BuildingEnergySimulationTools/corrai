{
 "cells": [
  {
   "cell_type": "code",
   "execution_count": null,
   "id": "398f247c",
   "metadata": {},
   "outputs": [],
   "source": [
    "from pathlib import Path"
   ]
  },
  {
   "cell_type": "markdown",
   "id": "553f8dc4",
   "metadata": {},
   "source": [
    "***Notebooks are written for Jupyter and might not display well in Github***\n",
    "\n",
    "\n",
    "# Loading and processing measured data with MeasuredDats"
   ]
  },
  {
   "cell_type": "markdown",
   "id": "3b85508d",
   "metadata": {},
   "source": [
    "The aim of this tutorial is to provide a complete workflow from measured data treatment using **CorrAI** <code>MeasuredDats</code>.\n",
    "\n",
    "## Use case\n",
    "\n",
    "Measurements come from a \"real scale\" benchmark. The Nobatek **BEF** (Banc d'Essais Façade)\n",
    " provides experimental cells to test building façade solutions. The heat exchanges\n",
    " in a cell are limited on 5 of its faces. The 6th face is dedicated to the tested solution.\n",
    "  Internal temperature and hydrometry conditions can be controlled or monitored.\n",
    "External conditions are measured (temperatures and solar radiation).\n",
    "\n",
    "The experimental setup is presented in the following pictures:\n",
    "\n",
    "| Figure 1: picture of the benchmark | Figure 2: wall layers from the inside (right) to the outside (left) |\n",
    "| :---: | :---: |\n",
    "|<img src=\"images/etics_pict.png\"  height=\"300\"> | <img src=\"images/etics_sch.png\"  height=\"300\"> |\n",
    "\n",
    "The stars represent the sensors positions. For each position 2 sensors are used providing two measures.\n",
    "\n",
    "- Measure campaign spans from the 07/06/2017 to the 20/06/2017\n",
    "- Acquisition timestep is probably 1min\n"
   ]
  },
  {
   "cell_type": "markdown",
   "id": "3768a5bb",
   "metadata": {},
   "source": [
    "# Measured data analysis and correction"
   ]
  },
  {
   "cell_type": "markdown",
   "id": "61f9bac0",
   "metadata": {},
   "source": [
    "Measured data are loaded using <code>pandas</code> python library"
   ]
  },
  {
   "cell_type": "code",
   "execution_count": null,
   "id": "5ba6c97b",
   "metadata": {},
   "outputs": [],
   "source": [
    "import pandas as pd"
   ]
  },
  {
   "cell_type": "code",
   "execution_count": null,
   "id": "21aeb02e",
   "metadata": {},
   "outputs": [],
   "source": [
    "raw_data = pd.read_csv(\n",
    "    Path(r\"resources/tuto_data.csv\"),\n",
    "    sep=\",\",\n",
    "    index_col=0,\n",
    "    parse_dates=True\n",
    ")"
   ]
  },
  {
   "cell_type": "markdown",
   "id": "3250c929",
   "metadata": {},
   "source": [
    "Plotting the raw temperatures gives precious information on the dataset"
   ]
  },
  {
   "cell_type": "code",
   "execution_count": null,
   "id": "fc901bec",
   "metadata": {},
   "outputs": [],
   "source": [
    "raw_data['T_ext'].plot()"
   ]
  },
  {
   "cell_type": "markdown",
   "id": "99064541",
   "metadata": {},
   "source": [
    "At first sight, the dataset looks ok. It doesn't mean it's clean. Missing values or incorrect variation are not always visible on a graph. The following steps are proposed.\n",
    "\n",
    "#### 1- Identify anomalies:\n",
    "- __upper__ and __lower__ values as boundaries. Measured values outside the interval are considered wrong\n",
    "- upper and lower \"__rates__\". Measured value increasing beyond or below a defined threshold are considered wrong\n",
    "\n",
    "These boundaries are set depending on the measured physical phenomenon.\n",
    "Of course power and temperature will be configured differently.\n",
    "\n",
    "#### 2- Missing data interpolation\n",
    "Physical model don't like missing values, thus for each sensor we provide a method\n",
    "to interpolate wrong data. Here we choose a linear interpolation between missing point.\n",
    " Errors at the beginning or at the end of the time series are filled with first or last correct value\n",
    "\n",
    "#### 3- Reducing dataset size\n",
    "Finally, a 1-minute acquisition timestep provides a heavy dataset.\n",
    "We provide an aggregation method to _resample_ the dataset"
   ]
  },
  {
   "cell_type": "code",
   "execution_count": null,
   "id": "8c38cb7b",
   "metadata": {},
   "outputs": [],
   "source": [
    "from corrai.measure import MeasuredDats"
   ]
  },
  {
   "cell_type": "code",
   "execution_count": null,
   "id": "ee32ac52",
   "metadata": {},
   "outputs": [],
   "source": [
    "my_data = MeasuredDats(\n",
    "    data = raw_data,\n",
    "    data_type_dict = {\n",
    "        \"temperatures\": [\n",
    "            'T_Wall_Ins_1', 'T_Wall_Ins_2', 'T_Ins_Ins_1', 'T_Ins_Ins_2',\n",
    "            'T_Ins_Coat_1', 'T_Ins_Coat_2', 'T_int_1', 'T_int_2', 'T_ext', 'T_garde'\n",
    "        ],\n",
    "        \"illuminance\": [\"Lux_CW\"],\n",
    "        \"radiation\": [\"Sol_rad\"]\n",
    "    },\n",
    "    corr_dict = {\n",
    "        \"temperatures\": {\n",
    "            \"minmax\": {\n",
    "                \"upper\": 100,\n",
    "                \"lower\": -20\n",
    "            },\n",
    "            \"derivative\": {\n",
    "                \"upper_rate\": 2,\n",
    "                \"lower_rate\": 0,\n",
    "            },\n",
    "            \"fill_nan\": [\n",
    "                \"linear_interpolation\",\n",
    "                \"bfill\",\n",
    "                \"ffill\"\n",
    "            ],\n",
    "            \"resample\": 'mean',\n",
    "        },\n",
    "        \"illuminance\": {\n",
    "            \"minmax\": {\n",
    "                \"upper\": 1000,\n",
    "                \"lower\": 0,\n",
    "            },\n",
    "            \"derivative\": {\n",
    "                \"upper_rate\": 10E8, # Specifying high value is a way to discard correction\n",
    "                \"lower_rate\": -1, # Specifying negative value is a way to discard correction\n",
    "            },\n",
    "            \"fill_nan\": [\n",
    "                \"linear_interpolation\",\n",
    "                \"bfill\",\n",
    "                \"ffill\"\n",
    "            ],\n",
    "            \"resample\": 'mean',\n",
    "        },\n",
    "        \"radiation\": {\n",
    "            \"minmax\": {\n",
    "                \"upper\": 1000,\n",
    "                \"lower\": 0,\n",
    "            },\n",
    "            \"derivative\": {\n",
    "                \"upper_rate\": 10E8, # Specifying high value is a way to discard correction\n",
    "                \"lower_rate\": -1, # Specifying negative value is a way to discard correction\n",
    "            },\n",
    "            \"fill_nan\": [\n",
    "                \"linear_interpolation\",\n",
    "                \"bfill\",\n",
    "                \"ffill\"\n",
    "            ],\n",
    "            \"resample\": 'mean',\n",
    "        }\n",
    "    }\n",
    ")"
   ]
  },
  {
   "cell_type": "markdown",
   "source": [
    "The <code>plot</code> method can be used to plot the data.\n",
    "\n",
    "Provide a <code>list</code> to the argument <code>cols</code> to specify the entry you want to plot.\n",
    "\n",
    "A new y axis will be created for each data type."
   ],
   "metadata": {
    "collapsed": false
   }
  },
  {
   "cell_type": "code",
   "execution_count": null,
   "outputs": [],
   "source": [
    "my_data.columns"
   ],
   "metadata": {
    "collapsed": false
   }
  },
  {
   "cell_type": "code",
   "execution_count": null,
   "outputs": [],
   "source": [
    "my_data.plot(\n",
    "    cols=['T_Wall_Ins_1', 'Sol_rad', 'Lux_CW'],\n",
    "    begin='2018-04-15',\n",
    "    end='2018-04-18',\n",
    "    title='Plot uncorrected data',\n",
    ")"
   ],
   "metadata": {
    "collapsed": false
   }
  },
  {
   "cell_type": "markdown",
   "source": [
    "Plotted data are the <code>corrected_data</code>. Use <code>plot_raw=True</code> to display raw data. This is useful to assess the impact of the correction and of the resampling methods\n",
    "\n",
    "For now no corrections have been applied, so <code>corrected_data</code> is equal to <code>data</code>"
   ],
   "metadata": {
    "collapsed": false
   }
  },
  {
   "cell_type": "markdown",
   "id": "efea3932",
   "metadata": {},
   "source": [
    "\n",
    "The object <code>my_data</code> contains the original dataset and methode configuration for the correction.\n",
    "\n",
    "The <code>correction_journal</code> properties holds information on the data.\n",
    "\n",
    "Let's have a look"
   ]
  },
  {
   "cell_type": "code",
   "execution_count": null,
   "id": "26c4db7c",
   "metadata": {
    "scrolled": false
   },
   "outputs": [],
   "source": [
    "my_data.correction_journal"
   ]
  },
  {
   "cell_type": "markdown",
   "id": "814cb603",
   "metadata": {},
   "source": [
    "Before correction, the journal shows that ~2% of the data are missing for the temperature sensor and ~3% for external temperature, \"garde\" temperature and solar radiation. it corresponds to data having a timestamp, but with missing value. In this specific case, this is not related to sensors errors. 2 distinct acquisition device were used to perform the measurement. The merging of the data from the two devices created troubles in timestamp \"alignment\". Also measurement stopped a bit earlier for the second device.\n",
    "\n",
    "#### 1- Identify anomalies:\n",
    "Now let's apply the remove anomalies method to delete invalid data according to the specifications"
   ]
  },
  {
   "cell_type": "code",
   "execution_count": null,
   "id": "386abd88",
   "metadata": {},
   "outputs": [],
   "source": [
    "my_data.remove_anomalies()"
   ]
  },
  {
   "cell_type": "markdown",
   "id": "1eed9525",
   "metadata": {},
   "source": [
    "Let's have a look at the <code>correction_journal</code>.\n",
    "Not all of it, as it stores every correction \"effect\". It will get big rapidly.\n",
    "First we want to see the new percentage of missing data after correction"
   ]
  },
  {
   "cell_type": "code",
   "execution_count": null,
   "id": "e31dbf3e",
   "metadata": {},
   "outputs": [],
   "source": [
    "my_data.correction_journal[\"remove_anomalies\"][\"missing_values\"][\"Percent_of_missing\"]"
   ]
  },
  {
   "cell_type": "markdown",
   "id": "a08fd878",
   "metadata": {},
   "source": [
    "It looks like the applied corrections removed several data.\n",
    "For example, the sensors measuring the cell internal temperature have now up to __4.5%__ of missing data.\n",
    "\n",
    "Few corrections were applied to the outside temperature sensor.\n",
    "\n",
    "The journal of correction holds further information on the gaps of data.\n",
    "For example if we want to know more about the missing values of <code>T_int_1</code>"
   ]
  },
  {
   "cell_type": "code",
   "execution_count": null,
   "id": "f0a01c87",
   "metadata": {},
   "outputs": [],
   "source": [
    "my_data.correction_journal[\"remove_anomalies\"][\"gaps_stats\"][\"T_int_1\"]"
   ]
  },
  {
   "cell_type": "markdown",
   "id": "8c0b3f59",
   "metadata": {},
   "source": [
    "- There are 11233 gaps.\n",
    "- The size of 75% of these gaps do not exceed 1 timestep (~1min)\n",
    "- The biggest is 1h\n",
    "\n",
    "It is also possible to \"aggregate\" the gaps in to know when at least one of the data is missing"
   ]
  },
  {
   "cell_type": "code",
   "execution_count": null,
   "id": "724533ce",
   "metadata": {},
   "outputs": [],
   "source": [
    "my_data.correction_journal[\"remove_anomalies\"][\"gaps_stats\"][\"combination\"]"
   ]
  },
  {
   "cell_type": "markdown",
   "id": "61c767b8",
   "metadata": {},
   "source": [
    "- There are 28066 gaps (~10% of the dataset).\n",
    "- The size of 75% of these gaps do not exceed 1 timestep (~1min)\n",
    "- The biggest gap is 1h\n",
    "\n",
    "There is not a lot of difference. It looks like the values are missing at the same timestamps.\n",
    "\n",
    "This is a good news, it means that there are a lot of periods with all data available"
   ]
  },
  {
   "cell_type": "markdown",
   "source": [
    "The plotting method <code>plot_gaps</code> can be used to visualize where the gap happened.\n",
    "\n",
    "This dataset holds a lot of values, sol we just plot the entry <code>'T_int_1'</code> that is supposed to have the more gaps\n",
    "\n",
    "We are interested in gaps lasting more than 15 minutes."
   ],
   "metadata": {
    "collapsed": false
   }
  },
  {
   "cell_type": "code",
   "execution_count": null,
   "outputs": [],
   "source": [
    "import datetime as dt\n",
    "my_data.plot_gaps(cols=['T_Wall_Ins_1', 'Sol_rad', 'Lux_CW'],begin='2018-03-25', end='2018-03-25', gaps_timestep=dt.timedelta(minutes=15))"
   ],
   "metadata": {
    "collapsed": false
   }
  },
  {
   "cell_type": "markdown",
   "source": [
    "There seem to be only 1 gap greater than 15 minutes, it happens the 2018-03-25 between ~02:00 and ~3:00.\n",
    "This is the gap we identified in the correction journal."
   ],
   "metadata": {
    "collapsed": false
   }
  },
  {
   "cell_type": "markdown",
   "source": [
    "We may want to access the new corrected data set to perform further investigations. It is available at <code>corrected_data</code> in <code>MeasuredDats</code> object.\n",
    "\n",
    "_Note that the original data set is left untouched in <code>data</code>_"
   ],
   "metadata": {
    "collapsed": false
   }
  },
  {
   "cell_type": "markdown",
   "id": "4e5a7b15",
   "metadata": {},
   "source": [
    "#### 2- Missing data interpolation\n",
    "Fill the missing data using specified interpolation and <code>fill_nan()</code> methods"
   ]
  },
  {
   "cell_type": "code",
   "execution_count": null,
   "id": "3d41c440",
   "metadata": {},
   "outputs": [],
   "source": [
    "my_data.fill_nan()"
   ]
  },
  {
   "cell_type": "markdown",
   "id": "c68c870f",
   "metadata": {},
   "source": [
    "Once again lets ahe a look to the <code>correction_journal</code>"
   ]
  },
  {
   "cell_type": "code",
   "execution_count": null,
   "id": "5ca472de",
   "metadata": {},
   "outputs": [],
   "source": [
    "my_data.correction_journal[\"fill_nan\"][\"missing_values\"][\"Percent_of_missing\"]"
   ]
  },
  {
   "cell_type": "markdown",
   "id": "16ccf064",
   "metadata": {},
   "source": [
    "Wow, perfect dataset !\n",
    "\n",
    "Be careful 0 data missing doesn't mean 0 problem.\n",
    " If you had a crappy dataset, it is still crappy.\n",
    " You just filled the gaps by copying values or drawing lines between (_what seems to be_) valid points"
   ]
  },
  {
   "cell_type": "markdown",
   "id": "6b3effa3",
   "metadata": {},
   "source": [
    "#### 3- Reducing dataset size\n",
    "As we said earlier 1min timestep is too small.\n",
    "Regarding the physical phenomenon involved here, we could say that 5min is ok.\n",
    "\n",
    "So lets resample the dataset to this value"
   ]
  },
  {
   "cell_type": "code",
   "execution_count": null,
   "id": "262da474",
   "metadata": {},
   "outputs": [],
   "source": [
    "my_data.resample(\"5T\")"
   ]
  },
  {
   "cell_type": "markdown",
   "source": [
    "Let's have a look at our corrected data versus the raw data.\n",
    "\n",
    "We select a period around the gap we identified (from the 2018-03-24 to the 2018-03-26)"
   ],
   "metadata": {
    "collapsed": false
   }
  },
  {
   "cell_type": "code",
   "execution_count": null,
   "outputs": [],
   "source": [
    "my_data.plot(\n",
    "    title=\"Raw data versus corrected data\",\n",
    "    cols=['T_int_1'],\n",
    "    begin='2018-03-25 00:00:00',\n",
    "    end='2018-03-25 05:00:00',\n",
    "    plot_raw=True)"
   ],
   "metadata": {
    "collapsed": false
   }
  },
  {
   "cell_type": "markdown",
   "source": [
    "On the above graph you can see the effects of mean resampling, that diminishes the number of points and smooths out the data.\n",
    "\n",
    "The gap have been filled using linear interpolation at the required timestep.\n",
    "\n",
    "It is important to compare your data before and after applying the correction methods. For example, resampling with a large timestep can lead to a loss of information"
   ],
   "metadata": {
    "collapsed": false
   }
  }
 ],
 "metadata": {
  "kernelspec": {
   "display_name": "Python 3",
   "language": "python",
   "name": "python3"
  },
  "language_info": {
   "codemirror_mode": {
    "name": "ipython",
    "version": 3
   },
   "file_extension": ".py",
   "mimetype": "text/x-python",
   "name": "python",
   "nbconvert_exporter": "python",
   "pygments_lexer": "ipython3",
   "version": "3.8.8"
  }
 },
 "nbformat": 4,
 "nbformat_minor": 5
}
