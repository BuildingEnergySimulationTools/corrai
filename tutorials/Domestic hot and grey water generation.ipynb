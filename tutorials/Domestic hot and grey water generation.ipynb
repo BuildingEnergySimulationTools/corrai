{
 "cells": [
  {
   "cell_type": "code",
   "execution_count": null,
   "id": "398f247c",
   "metadata": {},
   "outputs": [],
   "source": [
    "from pathlib import Path\n",
    "import pandas as pd\n",
    "import datetime as dt"
   ]
  },
  {
   "cell_type": "markdown",
   "id": "3768a5bb",
   "metadata": {},
   "source": [
    "# Tutorial for generating domestic hot water and grey water profiles \n",
    "This tutorial uses the DHWaterComsumption and GreyWaterConsumption method from <code>tsgenerator</code> in **CorrAI**. It aims at showing how to calculate the domestic hot and cold water consumption, using different methods."
   ]
  },
  {
   "cell_type": "markdown",
   "id": "3b8df705",
   "metadata": {},
   "source": [
    "# Domestic hot water\n",
    "First, let us generate DHW consumption, either calculated with RE2020 or COSTIC coefficients.\n",
    "\n",
    "### Load class\n",
    "First, load the class <code>DHWaterConsumption</code> for timeseries generation"
   ]
  },
  {
   "cell_type": "code",
   "execution_count": null,
   "id": "a2f7695c",
   "metadata": {},
   "outputs": [],
   "source": [
    "from corrai.tsgenerator import DomesticWaterConsumption"
   ]
  },
  {
   "cell_type": "markdown",
   "id": "7c533aa9",
   "metadata": {},
   "source": [
    "Set the start and the end of your study"
   ]
  },
  {
   "cell_type": "code",
   "execution_count": null,
   "id": "902f6c7d",
   "metadata": {},
   "outputs": [],
   "source": [
    "start = dt.datetime(2023, 1, 1, 0, 0)\n",
    "end   = dt.datetime(2024, 1, 1, 0, 0)"
   ]
  },
  {
   "cell_type": "markdown",
   "id": "7af554ee",
   "metadata": {},
   "source": [
    "### Set parameters\n",
    "Set various parameters, such as volume of water used for showers (L) and flow rates (L/min), time spent (min) for showers, etc."
   ]
  },
  {
   "cell_type": "code",
   "execution_count": null,
   "id": "f395a079",
   "metadata": {},
   "outputs": [],
   "source": [
    "n_dwellings=15\n",
    "v_per_dwelling=112\n",
    "ratio_bath_shower=1\n",
    "t_shower=7\n",
    "d_shower=8\n",
    "s_tot_building=481.4\n",
    "s_moy_dwelling=60\n",
    "n_people_per_dwelling=2"
   ]
  },
  {
   "cell_type": "markdown",
   "id": "f2909b63",
   "metadata": {},
   "source": [
    "### RE2020 case\n",
    "The formula taken into account in RT2020 for domestic hot water consumption calculates linear consumptions per hour spread over 5 hours. It is based on a product of given coefficients (dhw.coefficients), that differ from hour to hour, weekday to weekend, and month to month\n",
    "\n",
    "Let's create an object specifying the calculation method to \"RE2020\". \n",
    "Mandatory argument is <code>n_dwellings</code>."
   ]
  },
  {
   "cell_type": "code",
   "execution_count": null,
   "id": "b0156e5b",
   "metadata": {},
   "outputs": [],
   "source": [
    "dhw = DomesticWaterConsumption(\n",
    "    n_dwellings=n_dwellings,\n",
    "    v_per_dwelling=v_per_dwelling,\n",
    "    ratio_bath_shower=ratio_bath_shower,\n",
    "    t_shower=t_shower,\n",
    "    d_shower=d_shower,\n",
    "    s_tot_building=s_tot_building,\n",
    "    s_moy_dwelling=s_moy_dwelling,\n",
    "    n_people_per_dwelling=n_people_per_dwelling,\n",
    "    method= \"RE2020\",\n",
    ")"
   ]
  },
  {
   "cell_type": "markdown",
   "id": "eb02ddce",
   "metadata": {},
   "source": [
    "Now we can get the shower consumption distribution for the entire building (L/h) "
   ]
  },
  {
   "cell_type": "code",
   "execution_count": null,
   "id": "1b222ba5",
   "metadata": {},
   "outputs": [],
   "source": [
    "# Calculation consumption ECS\n",
    "df_re = dhw.re2020_shower_distribution(\n",
    "    start = start, \n",
    "    end = end\n",
    ")"
   ]
  },
  {
   "cell_type": "markdown",
   "id": "d7325bca",
   "metadata": {},
   "source": [
    "If wanted, you can get for all timesteps the calculated coefficients based on <code>dhw.coefficients</code> with:"
   ]
  },
  {
   "cell_type": "code",
   "execution_count": null,
   "id": "62ca3c6f",
   "metadata": {},
   "outputs": [],
   "source": [
    "# [optional to run] RE2020 coefficients\n",
    "RE2020_coef = dhw.get_coefficient_calc_from_period(\n",
    "        start = start, \n",
    "        end = end,\n",
    ")\n",
    "RE2020_coef"
   ]
  },
  {
   "cell_type": "markdown",
   "id": "664bde42",
   "metadata": {},
   "source": [
    "Plot the flow rate of hot water related to showers for a few days in may. "
   ]
  },
  {
   "cell_type": "code",
   "execution_count": null,
   "id": "f08bde61",
   "metadata": {},
   "outputs": [],
   "source": [
    "import plotly.graph_objects as go\n",
    "\n",
    "fig = go.Figure()\n",
    "fig.add_trace(go.Scatter(\n",
    "    x=df_re.loc[\"2023-05-01\":\"2023-05-07\"].index,\n",
    "    y=df_re['Q_ECS_RE2020'],\n",
    "    fill=None,\n",
    "    mode='lines',\n",
    "    line_color='rgba(250,120,50,1)',\n",
    "))\n",
    "\n",
    "fig.update_layout(\n",
    "    title='DHW consumtion using RE2020 calculation',\n",
    "    xaxis_title='Time',\n",
    "    yaxis_title='[L/h]')\n",
    "\n",
    "fig.show()"
   ]
  },
  {
   "cell_type": "markdown",
   "id": "471e631b",
   "metadata": {},
   "source": [
    "In reality, the consumptions are much more spread out over the day.\n",
    "\n",
    "### COSTIC Case\n",
    "\n",
    "Using measurement data given in « Guide technique les besoins en eau chaude sanitaire », new coefficients were calculated by the COSTIC (https://www.costic.com/) to provide more realistic hourly DHW distribution.\n"
   ]
  },
  {
   "cell_type": "code",
   "execution_count": null,
   "id": "5443ecfc",
   "metadata": {},
   "outputs": [],
   "source": [
    "dhw = DomesticWaterConsumption(\n",
    "    n_dwellings=n_dwellings,\n",
    "    v_per_dwelling=v_per_dwelling,\n",
    "    ratio_bath_shower=ratio_bath_shower,\n",
    "    t_shower=t_shower,\n",
    "    d_shower=d_shower,\n",
    "    s_tot_building=s_tot_building,\n",
    "    s_moy_dwelling=s_moy_dwelling,\n",
    "    n_people_per_dwelling=n_people_per_dwelling,\n",
    "    method= \"COSTIC\",\n",
    ")"
   ]
  },
  {
   "cell_type": "code",
   "execution_count": null,
   "id": "e78b63b7",
   "metadata": {},
   "outputs": [],
   "source": [
    "# DHW consumption\n",
    "df_costic = dhw.costic_shower_distribution(\n",
    "        start = start, \n",
    "        end = end,\n",
    ")\n",
    "df_costic"
   ]
  },
  {
   "cell_type": "code",
   "execution_count": null,
   "id": "07652723",
   "metadata": {},
   "outputs": [],
   "source": [
    "import plotly.graph_objects as go\n",
    "\n",
    "fig = go.Figure()\n",
    "fig.add_trace(go.Scatter(\n",
    "    x=df_costic.loc[\"2023-05-01\":\"2023-05-07\"].index,\n",
    "    y=df_costic['Q_ECS_COSTIC'],\n",
    "    fill=None,\n",
    "    mode='lines',\n",
    "    line_color='gold',\n",
    "#     name=\"DHW consumtion\"\n",
    "))\n",
    "\n",
    "fig.update_layout(\n",
    "    title='DHW consumtion using COSTIC coefficients',\n",
    "    xaxis_title='Time',\n",
    "    yaxis_title='[L/h]')\n",
    "\n",
    "fig.show()"
   ]
  },
  {
   "cell_type": "markdown",
   "id": "191c5a99",
   "metadata": {},
   "source": [
    "The consumption is hourly calculated. For realistic peaks in the DHW, you can create random distribution per minute using <code>costic_random_shower_distribution</code>.\n",
    "\n",
    "Argument <code>optional_columns</code> (default=False) returns additional columns :\n",
    "- number of showers\n",
    "- cumulative time of showers/minutes\n",
    "\n",
    "\n",
    "Option <code>seed</code> allows to have the same \"random\" distribution over again in case you want to regenerate the file with the same values."
   ]
  },
  {
   "cell_type": "code",
   "execution_count": null,
   "id": "fb415f47",
   "metadata": {
    "scrolled": true
   },
   "outputs": [],
   "source": [
    "df_rand = dhw.costic_random_shower_distribution(\n",
    "        start = start, \n",
    "        end = end,\n",
    "        optional_columns = True, \n",
    "        seed = 42\n",
    ")\n",
    "df_rand"
   ]
  },
  {
   "cell_type": "code",
   "execution_count": null,
   "id": "28ba7e25",
   "metadata": {},
   "outputs": [],
   "source": [
    "import plotly.graph_objects as go\n",
    "\n",
    "fig = go.Figure()\n",
    "fig.add_trace(go.Scatter(\n",
    "    x=df_rand.loc[\"2023-05-01\":\"2023-05-07\"].index,\n",
    "    y=df_rand['Q_ECS_COSTIC_rd'],\n",
    "    fill=None,\n",
    "    mode='lines',\n",
    "    line_color='darkblue',\n",
    "#     name=\"DHW consumtion\"\n",
    "))\n",
    "\n",
    "fig.update_layout(\n",
    "    title='DHW consumtion using COSTIC coefficients with random distribution',\n",
    "    xaxis_title='Time',\n",
    "    yaxis_title='[L/h]')\n",
    "\n",
    "fig.show()"
   ]
  },
  {
   "cell_type": "markdown",
   "id": "61c767b8",
   "metadata": {},
   "source": [
    "### Plot all data\n",
    "Let's compare all three methods."
   ]
  },
  {
   "cell_type": "code",
   "execution_count": null,
   "id": "d0075e99",
   "metadata": {
    "pycharm": {
     "name": "#%%\n"
    },
    "scrolled": false
   },
   "outputs": [],
   "source": [
    "from plotly.subplots import make_subplots\n",
    "\n",
    "# Create figure with secondary y-axis\n",
    "fig = make_subplots(specs=[[{\"secondary_y\": True}]])\n",
    "\n",
    "fig.add_trace(go.Scatter(\n",
    "    x=df_rand.loc[\"2023-05-01\":\"2023-05-03\"].index,\n",
    "    y=df_rand[\"Q_ECS_COSTIC_rd\"],\n",
    "    name = 'consoECS_COSTIC_random', \n",
    "    line_color='rgba(0,0,139,0.5)',\n",
    "),secondary_y=True)\n",
    "\n",
    "fig.add_trace(go.Scatter(\n",
    "    x=df_re.loc[\"2023-05-01\":\"2023-05-03\"].index,\n",
    "    y=df_re['Q_ECS_RE2020'],\n",
    "    name = 'RE2020', \n",
    "    fill = 'tozeroy',\n",
    "    line_color='rgba(250,120,50,1)',\n",
    "    fillcolor='rgba(250,120,50,0.8)',\n",
    "),secondary_y=False)\n",
    "\n",
    "fig.add_trace(go.Scatter(\n",
    "    x=df_costic.loc[\"2023-05-01\":\"2023-05-03\"].index,\n",
    "    y=df_costic[\"Q_ECS_COSTIC\"],\n",
    "    name = 'consoECS_COSTIC', \n",
    "    line_color='gold',\n",
    "),secondary_y=False)\n",
    "\n",
    "\n",
    "fig.update_layout(\n",
    "    title='DHW consumption (two axes)',\n",
    "    xaxis_title='Date',\n",
    "    yaxis_title='[L/h]',\n",
    ")\n"
   ]
  },
  {
   "cell_type": "markdown",
   "id": "ffb97463",
   "metadata": {},
   "source": [
    "## Grey waters from appliances\n",
    "Now, let's get the grey waters for the same period from appliances such as the dish washer or the washing machine."
   ]
  },
  {
   "cell_type": "markdown",
   "id": "a7ea7019",
   "metadata": {},
   "source": [
    "You can set parameters such as :\n",
    "- Volume of water used for dish or washing machine in L (<code>v_water_dish</code> or <code>v_water_clothes</code>)\n",
    "- Number of cycles per person per year (<code>cycles_clothes_pers</code> or <code>cycles_dish_pers</code>)\n",
    "- Duration of cycles in hour (<code>duration_dish</code> or <code>duration_clothes</code>)\n",
    "- <code>dish_washer</code>: Whether the household has a dishwasher. Defaults to True.\n",
    "- <code>washing_machine</code>: Whether the household has washing machine. Defaults to True.\n"
   ]
  },
  {
   "cell_type": "code",
   "execution_count": null,
   "id": "4047888f",
   "metadata": {},
   "outputs": [],
   "source": [
    "appliances_waters = dhw.appliances_water_distribution(start, end, seed = 42)\n",
    "appliances_waters"
   ]
  },
  {
   "cell_type": "code",
   "execution_count": null,
   "id": "119cfef9",
   "metadata": {
    "pycharm": {
     "name": "#%%\n"
    }
   },
   "outputs": [],
   "source": [
    "# Create figure\n",
    "fig = make_subplots(specs=[[{\"secondary_y\": True}]])\n",
    "\n",
    "fig.add_trace(go.Scatter(\n",
    "    x=appliances_waters.loc[\"2023-05-01\":\"2023-05-15\"].index,\n",
    "    y=appliances_waters[\"Q_dish\"],\n",
    "    name = 'Dish washer', \n",
    "    line_color='darkblue',\n",
    "),secondary_y=False)\n",
    "\n",
    "fig.add_trace(go.Scatter(\n",
    "    x=appliances_waters.loc[\"2023-05-01\":\"2023-05-15\"].index,\n",
    "    y=appliances_waters[\"Q_washer\"],\n",
    "    name = 'Q_washing machine', \n",
    "    line_color='gold',\n",
    "),secondary_y=False)\n",
    "\n",
    "fig.update_layout(\n",
    "    title='Grey water consumption',\n",
    "    xaxis_title='Date',\n",
    "    yaxis_title='[L/h]',\n",
    ")\n"
   ]
  },
  {
   "cell_type": "markdown",
   "id": "f126b842",
   "metadata": {},
   "source": [
    "## Domestic cold waters\n",
    "Finally, we can calculate the cold water usage, such as washbasin, cooking, sink dish, and sink cleaning. "
   ]
  },
  {
   "cell_type": "markdown",
   "id": "c5a78a59",
   "metadata": {},
   "source": [
    "You can set percentages of usages of all cold water for :\n",
    "- Showers with <code>percent_showers</code> (default to 40%) \n",
    "- Washbasin with <code>percent_washbasin</code> (default to 13%) \n",
    "- Cooking with <code>percent_cook</code> (default to 7%) \n",
    "- Dished with <code>percent_dishes</code> (default to 4%) \n",
    "- Cleaning with <code>percent_cleaning</code> (default to 6%) \n",
    "\n",
    "**CAREFUL, this code takes much longer than the previous ones (expect a few minutes for an entire year)**\n",
    "Let's try for a few days in july."
   ]
  },
  {
   "cell_type": "code",
   "execution_count": null,
   "id": "47d4ffb3",
   "metadata": {},
   "outputs": [],
   "source": [
    "start2 = dt.datetime(2023, 7, 1, 0, 0)\n",
    "end2 = dt.datetime(2023, 7, 20, 0, 0)\n",
    "\n",
    "cold_waters = dhw.costic_random_cold_water_distribution(start2, end2, seed = 42)\n",
    "cold_waters"
   ]
  },
  {
   "cell_type": "markdown",
   "id": "eeb32c7a",
   "metadata": {},
   "source": [
    "# Concatenate all Data "
   ]
  },
  {
   "cell_type": "markdown",
   "id": "42c3a69c",
   "metadata": {},
   "source": [
    "Resample hourly flow rates to new frequency (here 1 minute)"
   ]
  },
  {
   "cell_type": "code",
   "execution_count": null,
   "id": "ab910f1f",
   "metadata": {},
   "outputs": [],
   "source": [
    "from corrai.tsgenerator import resample_flow_rate\n",
    "\n",
    "df = pd.DataFrame({\n",
    "    \"COSTIC_shower\": df_costic[\"Q_ECS_COSTIC\"],\n",
    "    \"RE2020_shower\": df_re[\"Q_ECS_RE2020\"],   \n",
    "    \"appliance_dish\": appliances_waters[\"Q_dish\"],\n",
    "    \"appliance_washer\": appliances_waters[\"Q_washer\"],\n",
    "})\n",
    "\n",
    "new_freq = '1T'\n",
    "df_resampled = resample_flow_rate(df, new_freq)"
   ]
  },
  {
   "cell_type": "markdown",
   "id": "ead2c788",
   "metadata": {},
   "source": [
    "Concatenate minute flow rates (random distributions)"
   ]
  },
  {
   "cell_type": "code",
   "execution_count": null,
   "id": "ea233d6b",
   "metadata": {},
   "outputs": [],
   "source": [
    "df_random = pd.DataFrame({\n",
    "    \"COSTIC_rd_shower\": df_rand[\"Q_ECS_COSTIC_rd\"],\n",
    "    \"COSTIC_rd_washbasin\": cold_waters[\"Q_washbasin_COSTIC_rd\"],\n",
    "    \"COSTIC_rd_cook\": cold_waters[\"Q_sink_cook_COSTIC_rd\"],\n",
    "    \"COSTIC_rd_dishes\": cold_waters[\"Q_sink_dishes_COSTIC_rd\"],\n",
    "    \"COSTIC_rd_cleaning\": cold_waters[\"Q_sink_cleaning_COSTIC_rd\"],\n",
    "}) "
   ]
  },
  {
   "cell_type": "markdown",
   "id": "9a3001e3",
   "metadata": {},
   "source": [
    "Concatenate all data"
   ]
  },
  {
   "cell_type": "code",
   "execution_count": null,
   "id": "03e71ce1",
   "metadata": {},
   "outputs": [],
   "source": [
    "df_all = pd.concat([df_resampled, df_random], axis = 1)\n",
    "df_all = df_all.truncate(before=df_all.index[0], after=df_all.index[-1] - pd.Timedelta(days=1))"
   ]
  },
  {
   "cell_type": "markdown",
   "id": "5b9a1153",
   "metadata": {},
   "source": [
    "Plot all data for one day"
   ]
  },
  {
   "cell_type": "code",
   "execution_count": null,
   "id": "2aae9ff7",
   "metadata": {},
   "outputs": [],
   "source": [
    "import plotly.express as px\n",
    "\n",
    "start2 = dt.datetime(2023, 7, 16, 0, 0)\n",
    "end2 = dt.datetime(2023, 7, 16, 23, 0)\n",
    "\n",
    "df_jan = df_all.loc[start2:end2]\n",
    "px.line(df_jan)"
   ]
  },
  {
   "cell_type": "markdown",
   "id": "95c6dd28",
   "metadata": {},
   "source": [
    "#### Powers based on delta temperatures\n",
    "Now, let's estimate the required thermal power (in kW) to heat up the water. Function <code>calculate_power</code> takes as required arguments :\n",
    "- a dataframe with flow rates in L/h \n",
    "- the targetted temperature delta (K)\n",
    "\n",
    "Note that the function is applied to all data at once here (hence with a unique deltaT, while they actually depend on the water usage). For more accuracy, it would be best to apply the function to each usage, with specific deltas."
   ]
  },
  {
   "cell_type": "code",
   "execution_count": null,
   "id": "7a44978b",
   "metadata": {},
   "outputs": [],
   "source": [
    "from corrai.tsgenerator import calculate_power\n",
    "\n",
    "# delta of temperature\n",
    "deltaT_COSTIC = 55-13 \n",
    "deltaT_RE2020 = 40-16\n",
    "Cp_eau = 4186\n",
    "\n",
    "# Create dataframe with hot waters only\n",
    "powers = df_all[\n",
    "    [\n",
    "        \"COSTIC_shower\",\n",
    "        \"COSTIC_rd_shower\",\n",
    "        \"RE2020_shower\",\n",
    "        \"appliance_dish\",\n",
    "        \"appliance_washer\",\n",
    "    ]\n",
    "]\n",
    "\n",
    "powers = calculate_power(powers, deltaT_COSTIC, Cp_eau)"
   ]
  },
  {
   "cell_type": "markdown",
   "id": "283dccdb",
   "metadata": {},
   "source": [
    "Calculate the annual power consumption per person and usage (KWh)"
   ]
  },
  {
   "cell_type": "code",
   "execution_count": null,
   "id": "b9107d54",
   "metadata": {},
   "outputs": [],
   "source": [
    "powers.sum()/n_dwellings/n_people_per_dwelling"
   ]
  },
  {
   "cell_type": "code",
   "execution_count": null,
   "id": "d3d20e63",
   "metadata": {},
   "outputs": [],
   "source": []
  }
 ],
 "metadata": {
  "kernelspec": {
   "display_name": "Python 3 (ipykernel)",
   "language": "python",
   "name": "python3"
  },
  "language_info": {
   "codemirror_mode": {
    "name": "ipython",
    "version": 3
   },
   "file_extension": ".py",
   "mimetype": "text/x-python",
   "name": "python",
   "nbconvert_exporter": "python",
   "pygments_lexer": "ipython3",
   "version": "3.9.16"
  }
 },
 "nbformat": 4,
 "nbformat_minor": 5
}
