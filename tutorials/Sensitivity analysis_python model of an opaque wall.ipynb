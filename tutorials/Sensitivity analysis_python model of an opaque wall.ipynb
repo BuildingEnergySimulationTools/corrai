{
 "cells": [
  {
   "cell_type": "markdown",
   "id": "fe658bc78054a398",
   "metadata": {},
   "source": [
    "This tutorial can be found and ran in the GITHUB libray corrAI: https://github.com/BuildingEnergySimulationTools/corrai"
   ]
  },
  {
   "cell_type": "markdown",
   "id": "d62323ea2b70844",
   "metadata": {},
   "source": [
    "---\n",
    "# Characterisation method tutorial\n",
    "\n",
    "The aim of this tutorial is to provide tools for sensitivity analyses of models using **CorrAI** modules. It contains several parts: \n",
    "\n",
    "1. **Model definition**: presentation of the test case used here, and definition of a mathematical model describing it.\n",
    "  \n",
    "2. **Measurement import**: Loading of measurements performed on a test benchto serve as reference data for comparison with the model.\n",
    "\n",
    "3. **Performing sensitivity analysis**: Sensitivity analysis conducted to identify materials properties which have an influence on the discrepancy between model outputs and measured phenomenon\n",
    "---\n"
   ]
  },
  {
   "cell_type": "markdown",
   "id": "4ed710c97edd95e1",
   "metadata": {},
   "source": [
    "# 1. Model definition"
   ]
  },
  {
   "cell_type": "markdown",
   "id": "49fdc09f8bf34966",
   "metadata": {},
   "source": [
    "## Use case presentation\n",
    "\n",
    "A \"real-scale\" test bench is used. The **O3BET** (or in this example BEF test bench in Anglet, France) offers experimental conditions to evaluate building façade solutions. Heat exchanges in a cell are restricted on five of its faces, while the sixth face is dedicated to the tested solution. Internal temperature and humidity conditions can be controlled or monitored. External conditions, including temperatures and solar radiation, are measured.\n",
    "\n",
    "The tested technology here is a green façade, coupled wiht insulated panels. The experimental setup is presented in the following picture: one cell is equiped with the technology (right one) and another serves as a reference (insulation only).\n",
    "\n",
    "<div style=\"text-align: center;\">\n",
    "  <img src=\"images/cladding.png\" style=\"height:200px; margin-right:10px;\">\n",
    "  <img src=\"images/BEF_facades.jpeg\" style=\"height:200px;\"><br>\n",
    " <em>Figure : Pictures of reference wall and vegatal wall installation </em>\n",
    "</div>\n",
    "\n",
    "Sensors (heatflux density meters, thermocouples, RTD) are positioned in several parts: in the middle of insulation panels, between insulation and concrete layers, between leaves, in substrates, indoor. Climatic conditions (external temperature, incident solar radiation) are also monitored.\n",
    "\n",
    "\n",
    "<div style=\"text-align: center;\">\n",
    "  <img src=\"images/sensors.png\" style=\"height:300px;\"><br>\n",
    "  <em>Figure : Sensors installation scheme</em>\n",
    "</div>\n",
    "\n",
    "- Measure campaign spans from  april 2024 to october 2024\n",
    "- Acquisition timestep is 60 secondes minimum."
   ]
  },
  {
   "cell_type": "markdown",
   "id": "f19fd128-6cc0-4fcc-bcfa-1dcd34e4aaa5",
   "metadata": {},
   "source": [
    "## Description of the proposed model "
   ]
  },
  {
   "cell_type": "markdown",
   "id": "3e4ee318-e7ed-4acd-bea2-eabf9c532a0f",
   "metadata": {},
   "source": [
    "The following framework is proposed to identify the **REFERENCE** wall thermal conductivity.\n",
    "\n",
    "For this example we propose a resistance/capacity approach. Based on electrical circuit analogy, each layer of the wall is modeled by two resistances and a capacity:\n",
    "\n",
    "\n",
    "| Figure : RC model|\n",
    "| :---: |\n",
    "| <img src=\"images/RC_model.png\"  style=\"height:400px;\">   | \n",
    "\n",
    "\n",
    "Note that it is recommended to start with a **very simple** model (e.g., one resistance, one capacity with only Text and Tint as boundary conditions) and gradually make it more complex as you identify parameters. For the sake of this tutorial, the proposed model is already a bit detailed.\n",
    "\n",
    "\n",
    "The following is a brief description of the thermal model:\n",
    "\n",
    "- Each wall layer is modeled by 2 thermal resistances and a capacity.\n",
    "    - Resistances to create a gradiant and better resolution of distribution of heat flow : $ R_1 = R_2 = \\frac{ep_{layer}}{lambda_{layer} \\times 2} $ \n",
    "    - Capacity in the middle of both our layers, representing its thermal mass and ability to store heat. : $ C = ep_{layer} \\times rho_{layer} \\times cap_{layer} $\n",
    " \n",
    "- Inside and outside convection/conduction transfers are model as a constant value thermal resistance.\n",
    "\n",
    "- Infrared transfers are considered :\n",
    "    - With the sky, with $ T_{sky} = 0.0552T_{ext}^{1.5} $ as the sky is a significant source of infrared radiation, especially at night. This radiation can have a considerable impact on the thermal behavior of the system, influencing both heating and cooling processes\n",
    "    - With the surrounding considered to be at $ T_{ext} $ as surroundings or environment also emit infrared radiation\n",
    "\n",
    "- Short wave solar radiation heat flux is computed $Sw_{gain} = Pyr \\times \\alpha_{coat} $ with $Pyr$ the measured solar radiation onthe wall (W/m²) and  $\\alpha_{coat}$ the coating solar absorbtion coefficient.\n",
    "\n",
    "- Temperatures $ T_{ext}$ and $T_{int} $ are boundary conditions.  $ T_{int}$ represents the temperature within the controlled environment of the system.\n",
    "\n",
    "Here are somes theoretical parameters for the model:"
   ]
  },
  {
   "cell_type": "code",
   "id": "536c528c698d62a",
   "metadata": {},
   "source": [
    "# Surface of the tested wall\n",
    "S_wall =  7\n",
    "\n",
    "# Thickness of layer\n",
    "ep_concrete = 0.200 #m\n",
    "ep_ins = 0.140 #m\n",
    "\n",
    "# Conductivity of layer\n",
    "lambda_concrete = 0.13 # (W/mK)\n",
    "lambda_ins = 0.031 # W/(mK)\n",
    "\n",
    "# Density of layer\n",
    "rho_concrete = 2400 # kg/m3 \n",
    "rho_ins = 32.5  # kg/m3\"\n",
    "\n",
    "\n",
    "sc_concrete = 880 # J/kg.K\n",
    "sc_ins = 1000 # J/kg.K\n",
    "\n",
    "# solar paremetesr\n",
    "alpha = 0.2 # absorption coefficient\n",
    "epsilon = 0.8 # emissivity \n",
    "fview = 0.5 # view factor of tested wall"
   ],
   "outputs": [],
   "execution_count": null
  },
  {
   "metadata": {},
   "cell_type": "markdown",
   "source": [
    "## Defining a Simulator in corrAI\n",
    "\n",
    "The  following `OpaqueWallSimple` class implements a simplified wall heat transfer model, written purely in Python, and compatible with corrAI. It follows the `Model` interface, which guarantees that it can be used in calibration, sensitivity analysis, and optimization workflows and ensures a common interface across different model types: Pure Python models, FMU models (via `ModelicaFmuModel`), Modelica models (via [modelitool](https://github.com/BuildingEnergySimulationTools/modelitool))...\n",
    "\n",
    "A valid simulator must implement the following concepts:\n",
    "\n",
    "- **`simulate(property_dict, simulation_options, simulation_kwargs)`**\n",
    "  Main entry point. Runs the simulation and returns results as a `pandas.DataFrame` indexed by time.\n",
    "\n",
    "- **`property_dict`**\n",
    "  Dictionary of model parameters `{property_name: value}`.\n",
    "  These overwrite default values to perform calibration, parameter sweeps, or optimization.\n",
    "Here, the wall is described by default physical properties, which can be overridden at runtime :\n",
    "\n",
    "| Parameter      | Description                                | Unit   |\n",
    "|----------------|--------------------------------------------|--------|\n",
    "| **R_ext**      | External thermal resistance                | K/W    |\n",
    "| **R_int**      | Internal thermal resistance                | K/W    |\n",
    "| **R_concrete** | Concrete thermal resistance                | K/W    |\n",
    "| **R_ins**      | Insulation thermal resistance              | K/W    |\n",
    "| **C_concrete** | Heat capacity of concrete                  | J/K    |\n",
    "| **C_ins**      | Heat capacity of insulation                | J/K    |\n",
    "| **alpha**      | Solar absorption coefficient               | -      |\n",
    "| **S_wall**     | Wall surface area                          | m²     |\n",
    "| **epsilon**    | Emissivity                                 | -      |\n",
    "| **fview**      | View factor to the sky/ambient             | -      |\n",
    "\n",
    "\n",
    "- **`simulation_options`**\n",
    "  Dictionary of simulation environment settings (time span, timestep, input data).\n",
    "  Defines how the model will be executed, and what external conditions are applied. Here, the model requires a dataframe containing environmental inputs:\n",
    "\n",
    "| Input        | Description                          | Unit  |\n",
    "|:------------:|:------------------------------------:|:-----:|\n",
    "| **time_sec** | Simulation time                      |   s   |\n",
    "| **T_ext**    | Outdoor air temperature              |  °C   |\n",
    "| **T_int**    | Indoor air temperature               |  °C   |\n",
    "| **Pyr**      | Solar radiation from pyranometer     | W/m²  |\n",
    "\n",
    "\n",
    "\n",
    "By always structuring models with these inputs and outputs, any simulator (FMU, Modelica, or Python) can be plugged into the corrAI workflow without rewriting downstream code.\n",
    "\n",
    "The simulation returns a `pandas.DataFrame` with T_concrete, T_interface, T_ins."
   ],
   "id": "bbfcb2748f2bb20f"
  },
  {
   "cell_type": "code",
   "id": "1f574968-5e84-4ab2-abd2-d93270bf0aea",
   "metadata": {},
   "source": [
    "import numpy as np\n",
    "import pandas as pd\n",
    "from corrai.base.model import Model\n",
    "\n",
    "class OpaqueWallSimple(Model):\n",
    "    def simulate(\n",
    "        self,\n",
    "        property_dict: dict,\n",
    "        simulation_options: dict,\n",
    "        simulation_kwargs: dict | None = None,\n",
    "    ) -> pd.DataFrame:\n",
    "\n",
    "        default_parameters = {\n",
    "            \"R_ext\": 0.005,\n",
    "            \"R_int\": 0.01,\n",
    "            \"R_concrete\": 0.10,\n",
    "            \"R_ins\": 0.32,\n",
    "            \"C_concrete\": 2.95e6,\n",
    "            \"C_ins\": 3.64e4,\n",
    "            \"alpha\": 0.2,\n",
    "            \"S_wall\": 7,\n",
    "            \"epsilon\": 0.4,\n",
    "            \"fview\": 0.5,\n",
    "        }\n",
    "        parameters = {**default_parameters, **property_dict}\n",
    "\n",
    "        R_ext       = parameters[\"R_ext\"]\n",
    "        R_int       = parameters[\"R_int\"]\n",
    "        R_concrete  = parameters[\"R_concrete\"]\n",
    "        R_ins       = parameters[\"R_ins\"]\n",
    "        C_concrete  = parameters[\"C_concrete\"]\n",
    "        C_ins       = parameters[\"C_ins\"]\n",
    "        alpha       = parameters[\"alpha\"]\n",
    "        S_wall      = parameters[\"S_wall\"]\n",
    "        epsilon     = parameters[\"epsilon\"]\n",
    "        fview       = parameters[\"fview\"]\n",
    "\n",
    "        sigma = 5.67e-8  # W/m^2/K^4\n",
    "\n",
    "        df = simulation_options[\"dataframe\"]\n",
    "        time  = df[\"time_sec\"].values\n",
    "        T_ext = df[\"T_ext\"].values\n",
    "        T_int = df[\"T_int\"].values\n",
    "        Q_rad = df[\"Pyr\"].values\n",
    "\n",
    "        startTime = simulation_options.get(\"startTime\", time[0])\n",
    "        stopTime  = simulation_options.get(\"stopTime\",  time[-1])\n",
    "\n",
    "        mask  = (time >= startTime) & (time <= stopTime)\n",
    "        time  = time[mask]\n",
    "        T_ext = T_ext[mask]\n",
    "        T_int = T_int[mask]\n",
    "        Q_rad = Q_rad[mask]\n",
    "\n",
    "        # init\n",
    "        T_se        = np.zeros(len(time))\n",
    "        T_concrete  = np.zeros(len(time))\n",
    "        T_ins       = np.zeros(len(time))\n",
    "        T_interface = np.zeros(len(time))\n",
    "        T_si        = np.zeros(len(time))\n",
    "        T_sky       = np.zeros(len(time))\n",
    "\n",
    "        T_se[0]        = T_ext[0]\n",
    "        T_concrete[0]  = 299 - 273.15\n",
    "        T_ins[0]       = T_int[0]\n",
    "        T_interface[0] = (T_ins[0] + T_concrete[0]) / 2\n",
    "        T_si[0]        = T_int[0]\n",
    "        T_sky[0]       = T_int[0]\n",
    "\n",
    "        for t in range(1, len(time)):\n",
    "            dt = time[t] - time[t - 1]\n",
    "\n",
    "            T_sky[t] = 0.0552 * (T_ext[t] ** 1.5)\n",
    "\n",
    "            Q_rad_sky = epsilon * fview * sigma * (T_se[t - 1] ** 4 - T_sky[t] ** 4) * S_wall\n",
    "            Q_rad_amb = epsilon * fview * sigma * (T_se[t - 1] ** 4 - T_ext[t - 1] ** 4) * S_wall\n",
    "            Q_rad_dir = Q_rad[t - 1] * alpha * S_wall\n",
    "\n",
    "            T_se[t] = (\n",
    "                T_ext[t - 1] / R_ext\n",
    "                + T_ins[t - 1] / (R_ins / 2)\n",
    "                + Q_rad_dir - Q_rad_sky - Q_rad_amb\n",
    "            ) / (1 / R_ext + 1 / (R_ins / 2))\n",
    "\n",
    "            T_interface[t] = (\n",
    "                T_ins[t - 1] / (R_ins / 2) + T_concrete[t - 1] / (R_concrete / 2)\n",
    "            ) / (1 / (R_concrete / 2) + 1 / (R_ins / 2))\n",
    "\n",
    "            T_si[t] = (\n",
    "                T_int[t - 1] / R_int + T_concrete[t - 1] / (R_concrete / 2)\n",
    "            ) / (1 / R_int + 1 / (R_concrete / 2))\n",
    "\n",
    "            T_ins[t] = T_ins[t - 1] + dt / C_ins * (\n",
    "                (T_se[t] - T_ins[t - 1]) / (R_ins / 2)\n",
    "                + (T_interface[t] - T_ins[t - 1]) / (R_ins / 2)\n",
    "            )\n",
    "\n",
    "            T_concrete[t] = T_concrete[t - 1] + dt / C_concrete * (\n",
    "                (T_interface[t] - T_concrete[t - 1]) / (R_concrete / 2)\n",
    "                + (T_si[t] - T_concrete[t - 1]) / (R_concrete / 2)\n",
    "            )\n",
    "\n",
    "        # output\n",
    "        df_out = pd.DataFrame(\n",
    "            {\n",
    "                \"T_concrete\":  T_concrete,\n",
    "                \"T_interface\": T_interface,\n",
    "                \"T_ins\":       T_ins,\n",
    "            },\n",
    "            index=df.index[mask],\n",
    "        )\n",
    "        self.simulation_options = simulation_options\n",
    "        return df_out"
   ],
   "outputs": [],
   "execution_count": null
  },
  {
   "cell_type": "markdown",
   "id": "21e9de06-7c25-475a-b48d-f598c3ade9ce",
   "metadata": {},
   "source": [
    "We can try to run. Let's create dummy data:\n",
    "- T_ext: a daily sinusoidal variation around 20°C (e.g., min 15°C at night, max 30°C during the day).\n",
    "- T_int: more stable indoor temperature (e.g. around 22°C ±1).\n",
    "- Pyr: global solar radiation in the form of a bell curve (0 at night, max around midday at ~800 W/m²)."
   ]
  },
  {
   "cell_type": "code",
   "id": "ce77813f073f7e13",
   "metadata": {},
   "source": [
    "import numpy as np\n",
    "import pandas as pd\n",
    "\n",
    "def create_typical_input_df(day_seconds: int = 86400, step: int = 300) -> pd.DataFrame:\n",
    "    time = np.arange(0, day_seconds + step, step)\n",
    "    T_ext = 22.5 + 7.5 * np.sin(2 * np.pi * (time / day_seconds - 0.25))\n",
    "    T_int = 22 + 0.5 * np.sin(2 * np.pi * time / day_seconds)\n",
    "    Pyr = 800 * np.maximum(0, np.sin(np.pi * time / day_seconds))\n",
    "\n",
    "    df = pd.DataFrame(\n",
    "        {\n",
    "            \"T_ext\": T_ext,\n",
    "            \"T_int\": T_int,\n",
    "            \"Pyr\": Pyr,\n",
    "            \"Pyr\": Pyr,\n",
    "        },\n",
    "        index=pd.Index(time, name=\"time_sec\")\n",
    "    )\n",
    "    df[\"time_sec\"]=df.index\n",
    "    return df\n",
    "df_typical = create_typical_input_df()\n",
    "df_typical.head()"
   ],
   "outputs": [],
   "execution_count": null
  },
  {
   "cell_type": "markdown",
   "id": "5ab5f4fc-889b-4f29-9428-39d94e3c6d44",
   "metadata": {},
   "source": [
    "Now, let's define: \n",
    "- **simulation options**, with start-time, end-time, and a dataframe for boundary conditions\n",
    "- **a dictionary**, containing values for our different parameters"
   ]
  },
  {
   "cell_type": "code",
   "id": "71b2a7cf44a5deb4",
   "metadata": {},
   "source": [
    "sim_opt ={\n",
    "    \"dataframe\":df_typical,\n",
    "    \"startTime\": df_typical.index[0],\n",
    "    \"endTime\": df_typical.index[-1],  \n",
    "}"
   ],
   "outputs": [],
   "execution_count": null
  },
  {
   "cell_type": "code",
   "id": "58ae79a228160f5",
   "metadata": {},
   "source": [
    "param_dict = {\n",
    "    \"R_ext\": 0.04/S_wall,       \n",
    "    \"R_int\": 0.13/S_wall,      \n",
    "    \"R_concrete\": 1 / (lambda_concrete / ep_concrete) / 2 / S_wall,   \n",
    "    \"R_ins\": 1 / (lambda_ins / ep_ins) / 2 / S_wall, \n",
    "    \"C_ins\": rho_ins*ep_ins*S_wall*sc_ins,  \n",
    "    \"C_concrete\": rho_concrete*ep_concrete*S_wall*sc_concrete,       \n",
    "    \"alpha\": alpha,       \n",
    "    \"S_wall\": S_wall,         \n",
    "    \"epsilon\": epsilon,\n",
    "    'fview': fview\n",
    "}"
   ],
   "outputs": [],
   "execution_count": null
  },
  {
   "cell_type": "code",
   "id": "a2a5619d-1a3a-4d2a-8e5c-0dbfe6f7fa80",
   "metadata": {},
   "source": [
    "model = OpaqueWallSimple()\n",
    "model.simulate(\n",
    "    property_dict = param_dict, \n",
    "    simulation_options=sim_opt\n",
    ")"
   ],
   "outputs": [],
   "execution_count": null
  },
  {
   "cell_type": "markdown",
   "id": "cad4938a77f4a783",
   "metadata": {},
   "source": [
    "# 2. Measurement import\n",
    "Let's now load  the reference cell measurement data on python that will be used as boundary conditions. Note that although the data loaded here should have be cleaned beforhand, it is always important to check it before using it for analyses."
   ]
  },
  {
   "cell_type": "markdown",
   "id": "5d96fa61-978c-45a5-be16-8fd7145fa0cc",
   "metadata": {},
   "source": [
    "## Loading the dataframe"
   ]
  },
  {
   "cell_type": "code",
   "id": "59473d207b322155",
   "metadata": {},
   "source": [
    "import pandas as pd\n",
    "import numpy as np\n",
    "import os\n",
    "import plotly.express as px\n",
    "from pathlib import Path\n",
    "pd.options.mode.chained_assignment = None  # default='warn'\n",
    "\n",
    "TUTORIAL_DIR = Path(os.getcwd()).as_posix()"
   ],
   "outputs": [],
   "execution_count": null
  },
  {
   "cell_type": "code",
   "id": "6d01322236314e2b",
   "metadata": {},
   "source": [
    "reference_df = pd.read_csv(\n",
    "    Path(TUTORIAL_DIR) / \"resources/tuto_data_SA.csv\",\n",
    "    index_col=0,\n",
    "    sep=\";\",\n",
    "    decimal=\".\",\n",
    "    parse_dates=True\n",
    ")"
   ],
   "outputs": [],
   "execution_count": null
  },
  {
   "cell_type": "code",
   "id": "8a81862b0c17b1b4",
   "metadata": {},
   "source": [
    "reference_df.head()"
   ],
   "outputs": [],
   "execution_count": null
  },
  {
   "cell_type": "markdown",
   "id": "019ca4ac-1752-46e1-93c4-a66ad3c8cbbc",
   "metadata": {},
   "source": [
    "## Check missing or inconsistent data"
   ]
  },
  {
   "cell_type": "code",
   "id": "5a3e4bb69c962f76",
   "metadata": {},
   "source": [
    "reference_df.isna().any().any()"
   ],
   "outputs": [],
   "execution_count": null
  },
  {
   "cell_type": "markdown",
   "id": "3da1cce8d7320cb5",
   "metadata": {},
   "source": [
    "There seems to be no missing data. Let's first plot all data to check if nothing stands out. Although data was cleaned (supposedly, some measurement errors and irregularities might have been missed in the process."
   ]
  },
  {
   "cell_type": "code",
   "id": "bed89b439bf7437",
   "metadata": {},
   "source": [
    "px.line(reference_df)"
   ],
   "outputs": [],
   "execution_count": null
  },
  {
   "cell_type": "markdown",
   "id": "c579c990290e894c",
   "metadata": {},
   "source": [
    "Here we can see that one of the temperature sensors installed in the insulation panels stopped measuring on september 7th. Only T_ins_2 will be used as the insulation temperature."
   ]
  },
  {
   "cell_type": "code",
   "id": "b84fb1e0db1d3855",
   "metadata": {},
   "source": [
    "reference_df.loc[:,\"T_ins\"] = reference_df['T_ins_2'] # middle of insulation temperature\n",
    "reference_df.loc[:,\"T_int\"] =reference_df[['Tint_1', 'Tint_2']].mean(axis=1) # indoor temperature\n",
    "reference_df.loc[:,\"T_interface\"] =  reference_df[['T_interface_1', 'T_interface_2']].mean(axis=1) # interface temperature, between insulation and concrete panels"
   ],
   "outputs": [],
   "execution_count": null
  },
  {
   "cell_type": "markdown",
   "id": "185a08dd-5af9-4f16-b596-611e11e6a773",
   "metadata": {},
   "source": [
    "## Run the model with real boundary conditions"
   ]
  },
  {
   "cell_type": "markdown",
   "id": "6b4ea7c50fac69a0",
   "metadata": {},
   "source": [
    "Let's rerun the model with real measurements, now. The following simulation period contans a short period with both sunny and cloudy days."
   ]
  },
  {
   "cell_type": "code",
   "id": "342da2f0046b008a",
   "metadata": {},
   "source": [
    "simulation_df = reference_df.loc[\"2024-09-04 00:00\":\"2024-09-09 00:00\"]"
   ],
   "outputs": [],
   "execution_count": null
  },
  {
   "cell_type": "markdown",
   "id": "e3db40a5-0c49-48ef-9002-f83eb164c4d9",
   "metadata": {},
   "source": [
    "To create a \"time_sec\" column used by the model, we can use the following function:"
   ]
  },
  {
   "cell_type": "code",
   "id": "2f8d425878b94320",
   "metadata": {},
   "source": [
    "import datetime as dt\n",
    "\n",
    "def datetime_to_seconds(index_datetime):\n",
    "    time_start = dt.datetime(index_datetime[0].year, 1, 1, tzinfo=dt.timezone.utc)\n",
    "    new_index = index_datetime.to_frame().diff().squeeze()\n",
    "    new_index.iloc[0] = dt.timedelta(\n",
    "        seconds=index_datetime[0].timestamp() - time_start.timestamp()\n",
    "    )\n",
    "    sec_dt = [elmt.total_seconds() for elmt in new_index]\n",
    "    return list(pd.Series(sec_dt).cumsum())"
   ],
   "outputs": [],
   "execution_count": null
  },
  {
   "cell_type": "code",
   "id": "c1c3f01e-ec04-4c58-80b9-87732551dbe5",
   "metadata": {},
   "source": [
    "simulation_df[\"time_sec\"] = datetime_to_seconds(simulation_df.index)\n",
    "\n",
    "sim_opt ={\n",
    "    \"dataframe\":simulation_df,\n",
    "    \"startTime\":simulation_df[\"time_sec\"].iloc[0],\n",
    "    \"endTime\": simulation_df[\"time_sec\"].iloc[-1],  \n",
    "}"
   ],
   "outputs": [],
   "execution_count": null
  },
  {
   "cell_type": "code",
   "id": "a3d96c7e-f6d6-429c-88fe-b0816620d342",
   "metadata": {},
   "source": [
    "model = OpaqueWallSimple()\n",
    "init_res = model.simulate(\n",
    "    property_dict = param_dict, \n",
    "    simulation_options=sim_opt\n",
    ")"
   ],
   "outputs": [],
   "execution_count": null
  },
  {
   "cell_type": "markdown",
   "id": "8e2d5abe27a2cf9b",
   "metadata": {},
   "source": "Let's compare results of simulation to measurement:"
  },
  {
   "cell_type": "code",
   "id": "4d225f8a2dcdd2b6",
   "metadata": {},
   "source": [
    "init_res.index = init_res.index.tz_localize(None)\n",
    "init_res = init_res.rename(columns={\n",
    "    \"T_concrete\": \"T_concrete_PYTHON\",\n",
    "    \"T_interface\": \"T_interface_PYTHON\",\n",
    "    \"T_ins\": \"T_insulation_PYTHON\",\n",
    "})\n",
    "measure_comp = pd.concat([\n",
    "    simulation_df[[\"T_interface\", \"T_ins\"]], \n",
    "    init_res[[\"T_interface_PYTHON\", \"T_insulation_PYTHON\" ]]], axis = 1)\n",
    "\n",
    "color_map = {\n",
    "    \"T_interface\": \"darkblue\", \n",
    "    \"T_interface_PYTHON\": \"blue\", \n",
    "    \"T_ins\": \"darkgreen\", \n",
    "    \"T_insulation_PYTHON\": \"green\" \n",
    "}\n",
    "\n",
    "import plotly.graph_objects as go\n",
    "from plotly.subplots import make_subplots\n",
    "\n",
    "fig = make_subplots(rows=1, cols=2, subplot_titles=(\"Interface layer\", \"Insulation layer\"))\n",
    "\n",
    "color_map = {\n",
    "    \"T_interface\": \"darkblue\", \n",
    "    \"T_interface_PYTHON\": \"blue\", \n",
    "    \"T_ins\": \"darkgreen\", \n",
    "    \"T_insulation_PYTHON\": \"green\" \n",
    "}\n",
    "for col in [\"T_interface\", \"T_interface_PYTHON\"]:\n",
    "    fig.add_trace(\n",
    "        go.Scatter(x=measure_comp.index, y=measure_comp[col], mode=\"lines\",\n",
    "                   name=col, line=dict(color=color_map[col])),\n",
    "        row=1, col=1\n",
    "    )\n",
    "for col in [\"T_ins\", \"T_insulation_PYTHON\"]:\n",
    "    fig.add_trace(\n",
    "        go.Scatter(x=measure_comp.index, y=measure_comp[col], mode=\"lines\",\n",
    "                   name=col, line=dict(color=color_map[col])),\n",
    "        row=1, col=2\n",
    "    )\n",
    "fig.update_layout(\n",
    "    title=\"Comparaison Python vs Measurement\",\n",
    "    width=1000,\n",
    "    height=500,\n",
    "    legend=dict(orientation=\"h\", yanchor=\"bottom\", y=-0.2, xanchor=\"center\", x=0.5)\n",
    ")\n",
    "\n",
    "fig.show()"
   ],
   "outputs": [],
   "execution_count": null
  },
  {
   "cell_type": "markdown",
   "id": "ec5e69a99a60a6dd",
   "metadata": {},
   "source": [
    "Not  good. A sensitivity analysis should be performed to rank the parameters by order of influence on the error between measured temperature and model prediction.\n"
   ]
  },
  {
   "cell_type": "markdown",
   "id": "ccdfb5cca982ee18",
   "metadata": {},
   "source": [
    "# 3. Sensitivity analysis\n",
    "It is very important to know how our defined parameters have an influence on the model prediction. Therefore, we use a sensitivity analysis to \"rank\" the parameter by order of influence\n",
    "on the model error. "
   ]
  },
  {
   "cell_type": "markdown",
   "id": "e46bcafc7717aa5a",
   "metadata": {},
   "source": [
    "## Error function\n",
    "The chosen error function is the CV_RMSE. The formula for CV_RMSE is given by:\n",
    "\n",
    "$$\n",
    "CV\\_RMSE = \\frac{RMSE}{\\bar{y}}\n",
    "$$\n",
    "\n",
    "Where:\n",
    "- *RMSE* is the root mean squared error,\n",
    "- *bar{y}* is the mean of the observed values.\n",
    "\n",
    "The RMSE is calculated as:\n",
    "\n",
    "$$\n",
    "RMSE = \\sqrt{\\frac{1}{n} \\sum_{i=1}^{n} (y_i - \\hat{y}_i)^2}\n",
    "$$\n",
    "\n",
    "Where:\n",
    "- *n* is the number of observations,\n",
    "- *y_i* is the observed value for the \\( i \\)-th observation,\n",
    "- *hat{y}_i* is the predicted value for the \\( i \\)-th observation.\n",
    "\n",
    "The CV_RMSE measures the variation of the RMSE relative to the mean of the observed values. It provides a standardized measure of the error, which can be useful for comparing the performance of different models across different datasets.\n",
    "Here, we can chose the error function as the CV_RMSE between measured temperature(s) and model prediction."
   ]
  },
  {
   "cell_type": "markdown",
   "id": "da0b289ff76e21de",
   "metadata": {},
   "source": [
    "## Tested parameters\n",
    "\n",
    "The chosen parameters are the following model parameters : R_concrete, R_ins, C_ins, C_concrete, alpha, epsilon, R_ext, R_int.\n",
    "\n",
    "\n",
    "Each decision variable of the optimization problem must be described using a `Parameter` object.\n",
    "A parameter specifies:\n",
    "* `name` — The variable name (string, must be unique within the problem).\n",
    "* `ptype` — Variable type, one of:\n",
    "    * `\"Real\" `— Continuous real number\n",
    "    * `\"Integer\"` — Discrete integer\n",
    "    * `\"Binary\"` — Boolean, domain {False, True} (set automatically if no domain is given)\n",
    "    *` \"Choice\"` — Categorical variable with a fixed set of discrete options\n",
    "* `Domain definition` — Choose exactly one of:\n",
    "    * ` interval=(lo, hi) `— Lower and upper bounds (for \"Real\" and \"Integer\", optional for \"Binary\" if you want (0,1))\n",
    "    * ` values=(v1, v2, …)` — Explicit list/tuple of allowed values (for \"Choice\", and optionally for \"Integer\", \"Real\", or \"Binary\")\n",
    "*` Optional fields`:\n",
    "    * `init_value` — Initial value (or tuple/list of initial values for batch runs); must be within the defined domain\n",
    "    * `relabs` — `\"Absolute\"` or `\"Relative\"` (or a boolean flag, depending on usage in your model)\n",
    "    * `model_property` — String or tuple specifying the corresponding property in the simulation/model\n",
    "    * `min_max_interval` — Optional extra bounds for use in analysis/validation"
   ]
  },
  {
   "cell_type": "code",
   "id": "8f8e2bab5b874374",
   "metadata": {},
   "source": "from corrai.base.parameter import Parameter",
   "outputs": [],
   "execution_count": null
  },
  {
   "cell_type": "code",
   "id": "64dfc055e9c59627",
   "metadata": {},
   "source": [
    "frac_p = 0.40 # 20%\n",
    "frac_conv = 0.60 # 40%\n",
    "\n",
    "params = [\n",
    "    Parameter(\n",
    "        name='R_concrete',\n",
    "        interval=(1-frac_p, 1+frac_p),\n",
    "        ptype=\"Real\",\n",
    "        init_value=1 / (lambda_concrete / ep_concrete) / 2 / S_wall,\n",
    "        relabs=\"Relative\",\n",
    "        model_property='R_concrete',\n",
    "    ),\n",
    "    Parameter(\n",
    "        name='R_ins',\n",
    "        interval=(1-frac_p, 1+frac_p),\n",
    "        init_value=1 / (lambda_ins / ep_ins) / 2 / S_wall,\n",
    "        relabs=\"Relative\",\n",
    "        ptype=\"Real\",\n",
    "        model_property='R_ins',\n",
    "    ),\n",
    "    Parameter(\n",
    "        name='C_ins',\n",
    "        interval=(1-frac_p, 1+frac_p),\n",
    "        init_value=rho_ins*ep_ins*S_wall*sc_ins,\n",
    "        relabs=\"Relative\",\n",
    "        ptype=\"Real\",\n",
    "        model_property='C_ins',\n",
    "    ),\n",
    "    Parameter(\n",
    "        name='C_concrete',\n",
    "        interval=(1-frac_p, 1+frac_p),\n",
    "        init_value=rho_concrete*ep_concrete*S_wall*sc_concrete,\n",
    "        relabs=\"Relative\",\n",
    "        ptype=\"Real\",\n",
    "        model_property='C_concrete',\n",
    "    ),\n",
    "    Parameter(\n",
    "        name='alpha',\n",
    "        interval=(0.1, 0.6),\n",
    "        ptype=\"Real\",\n",
    "        model_property='alpha',\n",
    "    ),\n",
    "    Parameter(\n",
    "        name='epsilon',\n",
    "        interval=(0.2, 0.9),\n",
    "        ptype=\"Real\",\n",
    "        model_property='epsilon',\n",
    "    ),\n",
    "    Parameter(\n",
    "        name='R_ext',\n",
    "        init_value= 0.04/S_wall,\n",
    "        interval=(1-frac_conv, 1+frac_conv),\n",
    "        ptype=\"Real\",\n",
    "        relabs=\"Relative\",\n",
    "        model_property='R_ext',\n",
    "    ),\n",
    "    Parameter(\n",
    "        name='R_int',\n",
    "        init_value= 0.13/S_wall,\n",
    "        interval=(1-frac_conv, 1+frac_conv),\n",
    "        ptype=\"Real\",\n",
    "        relabs=\"Relative\",\n",
    "        model_property='R_int',\n",
    "    ),\n",
    "]"
   ],
   "outputs": [],
   "execution_count": null
  },
  {
   "cell_type": "markdown",
   "id": "3c70d720457ec5a9",
   "metadata": {},
   "source": [
    "## Sensitivity analysis methods\n",
    "We can now load from `corrai.sensitivity` module a sensitivity method.\n",
    "\n",
    "*Note: for now, only <code>SOBOL</code>, <code>FAST</code>, <code>RBD_FAST</code>, \n",
    "and <code>MORRIS</code> methods are implemented.*"
   ]
  },
  {
   "cell_type": "markdown",
   "id": "204bb3136c2d6d5b",
   "metadata": {},
   "source": [
    "### MORRIS method"
   ]
  },
  {
   "cell_type": "markdown",
   "id": "bd08f44deb200457",
   "metadata": {},
   "source": [
    "We should start off with a screening using <code>MORRIS</code> method."
   ]
  },
  {
   "cell_type": "markdown",
   "id": "71c9b5fa64936e4a",
   "metadata": {},
   "source": [
    "For <code>MORRIS</code> method, two indices, µj* for the mean of the absolute values of these effects and σj for the standard deviation of these effects, are calculated as follows:\n",
    "\n",
    "$$\n",
    "mu_{j}^{*} = \\frac{1}{r} \\sum_{i=1}^{r} E_{ij}\n",
    "$$\n",
    "\n",
    "$$\n",
    "sigma_{j} = \\sqrt{\\frac{1}{r-1} \\sum_{i=1}^{r} (E_{ij} - \\mu_{j}^{*})^2}\n",
    "$$"
   ]
  },
  {
   "cell_type": "markdown",
   "id": "d057bfd1-76ee-414a-acc4-c518c907a4be",
   "metadata": {},
   "source": [
    "Let's resample the data to 5 minute-steps. "
   ]
  },
  {
   "cell_type": "code",
   "id": "ccab3e5e-49cb-4eb4-b461-8eb51e0046e2",
   "metadata": {},
   "source": [
    "simulation_df_resample = simulation_df.resample(\"5min\").mean()\n",
    "simulation_df_resample[\"time_sec\"] = datetime_to_seconds(simulation_df_resample.index)\n",
    "\n",
    "sim_opt ={\n",
    "    \"dataframe\":simulation_df_resample,\n",
    "    \"startTime\":simulation_df_resample[\"time_sec\"].iloc[0],\n",
    "    \"endTime\": simulation_df_resample[\"time_sec\"].iloc[-1],  \n",
    "}"
   ],
   "outputs": [],
   "execution_count": null
  },
  {
   "cell_type": "code",
   "id": "a9ef9dae1e1b2296",
   "metadata": {},
   "source": [
    "from corrai.sensitivity import MorrisSanalysis\n",
    "\n",
    "sa_study = MorrisSanalysis(\n",
    "    parameters=params,\n",
    "    model=model,\n",
    "    simulation_options=sim_opt,\n",
    ")"
   ],
   "outputs": [],
   "execution_count": null
  },
  {
   "cell_type": "code",
   "id": "8ed249dc6495c87e",
   "metadata": {},
   "source": [
    "sa_study.add_sample(N=2**6, n_cpu=-1)"
   ],
   "outputs": [],
   "execution_count": null
  },
  {
   "metadata": {},
   "cell_type": "markdown",
   "source": "First, we can plot all simulations in one graph and compare the simulated internal temperature to measured T_int. Argument <code>show_legends</code> can be set to True if you want see associated parameters values.",
   "id": "d00ae88ab5626060"
  },
  {
   "metadata": {},
   "cell_type": "code",
   "source": [
    "sa_study.sampler.plot_sample(\n",
    "    indicator=\"T_ins\",\n",
    "    reference_timeseries = simulation_df_resample[\"T_ins\"],\n",
    "    x_label=\"time\",\n",
    "    y_label=\"simulated temperature of T_ins [°C]\",\n",
    "    show_legends=False\n",
    ")"
   ],
   "id": "9947412501c04aff",
   "outputs": [],
   "execution_count": null
  },
  {
   "cell_type": "markdown",
   "id": "d068e11a7572ee9c",
   "metadata": {},
   "source": "First, we can first take a look on the parallel coordinate plot of all parameter values and one of the simulation outputs aggregated according to a chosen aggregation method:This graph can be very instructive as at some moments, simulations are far from measurements. It show that whatever the values of our parameters, it still does not fit reality: this is either due to a problem of measurement, or to our modeling approach (physical inconsistency, physical phenomenon not properly taken into account, etc.).\n"
  },
  {
   "cell_type": "markdown",
   "id": "b9a30a39-9ae7-4bf0-92b2-ca1e5ef68cd7",
   "metadata": {},
   "source": [
    "Let's perform a **Morris sensitivity analysis** on the following indicator: cv_rmse on `T_ins`. \n",
    "The `analyze()` method computes Sobol indices based on a chosen performance metric—in this case, the **cv_rmse**—by comparing model predictions of `T_ins` against the provided reference time series (measured or baseline data)."
   ]
  },
  {
   "cell_type": "code",
   "id": "3cb2bc12ba38b9af",
   "metadata": {},
   "source": [
    "res_analysis = sa_study.analyze(\n",
    "    indicator=\"T_ins\",\n",
    "    method=\"cv_rmse\",\n",
    "    reference_time_series=simulation_df_resample[\"T_ins\"],\n",
    ")\n",
    "res_analysis[\"cv_rmse_T_ins\"]"
   ],
   "outputs": [],
   "execution_count": null
  },
  {
   "cell_type": "markdown",
   "id": "ccd6dc275855f2be",
   "metadata": {},
   "source": [
    "The highter $mu_{j}$, the more the parameter $j$ contributes to an uncertain output, and the higher $sigma_{j}$, the more pronounced the interaction effects between the model parameters are. Plotting $sigma_{j}$ against $mu_{j}^{}$ is often used to distinguish factors with negligible, linear, and/or interaction effects."
   ]
  },
  {
   "cell_type": "code",
   "id": "345e88c76ddfeebd",
   "metadata": {},
   "source": [
    "sa_study.plot_scatter(\n",
    "    indicator=\"T_ins\",\n",
    "    method=\"cv_rmse\",\n",
    "    reference_time_series=simulation_df_resample[\"T_ins\"],\n",
    ")"
   ],
   "outputs": [],
   "execution_count": null
  },
  {
   "cell_type": "markdown",
   "id": "6a4ceb844b59ab20",
   "metadata": {},
   "source": [
    "Besides this visual interpretation, it is also possible to calculate the Euclidean distance $d$ to the origin to obtain the total effect of the uncertain parameters:"
   ]
  },
  {
   "cell_type": "code",
   "id": "9a387a5d3c8c5cc1",
   "metadata": {},
   "source": [
    "sa_study.plot_bar(\n",
    "    indicator=\"T_ins\",\n",
    "    method=\"cv_rmse\",\n",
    "    reference_time_series=simulation_df_resample[\"T_ins\"],\n",
    ")"
   ],
   "outputs": [],
   "execution_count": null
  },
  {
   "cell_type": "markdown",
   "id": "76b78d1d9e64eca",
   "metadata": {},
   "source": [
    "Five parameters seem to have more impact on the error than other: $alpha$, $R_{ext}$, $R_{ins}$,  and $R_{concrete}$. \n",
    "Let's check if these results are consistant with <code>SOBOL</code> method."
   ]
  },
  {
   "cell_type": "markdown",
   "id": "f8e6cd080e0732af",
   "metadata": {},
   "source": [
    "### SOBOL method"
   ]
  },
  {
   "cell_type": "code",
   "id": "cba431b6fc562b4e",
   "metadata": {},
   "source": [
    "from corrai.sensitivity import SobolSanalysis"
   ],
   "outputs": [],
   "execution_count": null
  },
  {
   "cell_type": "code",
   "id": "2c00547d792def6c",
   "metadata": {},
   "source": [
    "sa_study = SobolSanalysis(\n",
    "    parameters=params,\n",
    "    model=model,\n",
    "    simulation_options=sim_opt,\n",
    ")"
   ],
   "outputs": [],
   "execution_count": null
  },
  {
   "cell_type": "markdown",
   "id": "4fe53d7e43bada10",
   "metadata": {},
   "source": [
    "The method add sample draw a sample of parameters to be simulated. Each method has its sampling method. Please see SALib documentation for further explanation (https://salib.readthedocs.io/en/latest/index.html)\n",
    "\n",
    "Note that:\n",
    "- Convergence properties of the Sobol' sequence is only valid if\n",
    "        `N` (100) is equal to `2^n`.\n",
    "        N (int) – The number of samples to generate. Ideally a power of 2 and <= skip_values.\n",
    "- Convergence properties of the Fast' method is only valid if sample size N > 4M^2 (M=4 by default)"
   ]
  },
  {
   "cell_type": "code",
   "id": "23e24bd8271d28e5",
   "metadata": {},
   "source": "sa_study.add_sample(N=2**7,  n_cpu=-1)",
   "outputs": [],
   "execution_count": null
  },
  {
   "cell_type": "markdown",
   "id": "990ac0bb9acddf35",
   "metadata": {},
   "source": "As for MORRIS, we can perform a **Sobol sensitivity analysis** on the following indicator: cv_rmse on `T_ins` ."
  },
  {
   "cell_type": "code",
   "id": "f5c2a855e8324d1d",
   "metadata": {},
   "source": [
    "res_analysis =sa_study.analyze(\n",
    "    indicator=\"T_ins\",\n",
    "    method=\"cv_rmse\",\n",
    "    reference_time_series=simulation_df_resample[\"T_ins\"],\n",
    ")\n",
    "print(\"Sum of S1 indices is\", res_analysis[\"cv_rmse_T_ins\"][\"S1\"].sum())"
   ],
   "outputs": [],
   "execution_count": null
  },
  {
   "cell_type": "markdown",
   "id": "3305230bc9a51f3d",
   "metadata": {},
   "source": [
    "The `plot_bar()` method displays the Sobol sensitivity indices as a bar chart, allowing a quick comparison of parameter importance.\n",
    "It uses the aggregated results from the `analyze()` step (e.g., based on `cv_rmse`) and shows  first-order indices for each parameter, making it easy to identify which parameters most influence the chosen performance metric.\n",
    "\n",
    "The sum of all the indices should be close to 1. Also, the mean confidence interval should be very low. In that case, results of the sensitivity analysis can be considered as robust."
   ]
  },
  {
   "cell_type": "code",
   "id": "e53ad52d3a6e9896",
   "metadata": {},
   "source": [
    "sa_study.plot_bar(\n",
    "    indicator=\"T_ins\",\n",
    "    method=\"cv_rmse\",\n",
    "    reference_time_series=simulation_df_resample[\"T_ins\"],\n",
    ")"
   ],
   "outputs": [],
   "execution_count": null
  },
  {
   "cell_type": "markdown",
   "id": "fd866b363245ec8",
   "metadata": {},
   "source": [
    "The parameter alpha appears to have the most influence on the model errors. This impact is calculated on the overall error, but will depend on the time of the day. Let's observe the parameters' impact dynamically with a 15minutes frequency.\n",
    "\n",
    "The `plot_dynamic_metric()` method extends the analysis to a frequency view of the selected performance metric.\n",
    "Here, we apply it to `T_ins` using the `cv_rmse` metric, comparing model output against the `reference_time_series` at regular intervals.\n",
    "\n",
    "Key arguments:\n",
    "- **`freq`**: Controls the temporal resolution for aggregation (e.g., `freq=\"2h\"` computes sensitivity indices every two hours). This enables tracking how parameter influence changes over time.\n",
    "- **`method`**: The metric used for comparison (here, `cv_rmse` between model predictions and the reference).\n",
    "- **`reference_time_series`**: The baseline data against which each simulation is evaluated.\n",
    "\n",
    "This approach is particularly useful in dynamic systems, where parameter importance may vary significantly across different time periods.\n",
    "\n",
    "*Calculation can take time according to the number of simulations and frequency of data.*\n"
   ]
  },
  {
   "cell_type": "code",
   "id": "a31e489e8d7ee834",
   "metadata": {},
   "source": [
    "sa_study.plot_dynamic_metric(\"T_ins\", freq=\"2h\", method=\"cv_rmse\", reference_time_series=simulation_df_resample[\"T_ins\"] )"
   ],
   "outputs": [],
   "execution_count": null
  },
  {
   "metadata": {},
   "cell_type": "markdown",
   "source": "Finally, we can also take a look at the parallel coordinate plot of all parameter values and one of the simulation outputs aggregated according to a chosen aggregation method. This is a first step to foresee correct values of parameters to fit the measurement.",
   "id": "84e6f96f7d3746b9"
  },
  {
   "metadata": {},
   "cell_type": "code",
   "source": [
    "sa_study.plot_pcp(\n",
    "    indicator=\"T_ins\" ,\n",
    "    method=\"cv_rmse\",\n",
    "    reference_time_series=simulation_df_resample[\"T_ins\"],\n",
    ")"
   ],
   "id": "9ea5a609f200cdbf",
   "outputs": [],
   "execution_count": null
  },
  {
   "cell_type": "markdown",
   "id": "4c84cb82b435f019",
   "metadata": {},
   "source": [
    "# Conclusion on sensitivity analysis\n",
    "\n",
    "The sensitivity analysis allowed us to rank the influence of uncertain parameters\n",
    "on an indicator. \n",
    "\n",
    "Results with Sobol are consistant with Morris. $alpha$ is the most influencial parameters, followed by $R_{ext}$.\n",
    "\n",
    "In the Identification tutorial, modules of corrai are used to identify the\n",
    "optimal values for these parameters in order to fit the measurement. See : https://github.com/BuildingEnergySimulationTools/corrai/tutorials/Sensitivityanalysis for more details."
   ]
  },
  {
   "cell_type": "code",
   "id": "568bc28f10756902",
   "metadata": {},
   "source": [],
   "outputs": [],
   "execution_count": null
  }
 ],
 "metadata": {
  "kernelspec": {
   "display_name": "Python 3 (ipykernel)",
   "language": "python",
   "name": "python3"
  },
  "language_info": {
   "codemirror_mode": {
    "name": "ipython",
    "version": 3
   },
   "file_extension": ".py",
   "mimetype": "text/x-python",
   "name": "python",
   "nbconvert_exporter": "python",
   "pygments_lexer": "ipython3",
   "version": "3.12.11"
  }
 },
 "nbformat": 4,
 "nbformat_minor": 5
}
