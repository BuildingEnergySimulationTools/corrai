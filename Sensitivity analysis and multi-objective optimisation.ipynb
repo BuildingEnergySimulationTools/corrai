{
 "cells": [
  {
   "cell_type": "code",
   "execution_count": 1,
   "id": "b7f717e2",
   "metadata": {},
   "outputs": [],
   "source": [
    "%load_ext autoreload\n",
    "%autoreload 2"
   ]
  },
  {
   "cell_type": "code",
   "execution_count": 2,
   "id": "b28b6845",
   "metadata": {},
   "outputs": [],
   "source": [
    "import pandas as pd\n",
    "import numpy as np\n",
    "from pathlib import Path\n",
    "from modelitool.simulate import Simulator"
   ]
  },
  {
   "cell_type": "markdown",
   "id": "d7c01447",
   "metadata": {},
   "source": [
    "# Tutorial for sensivity analysis and parameters calibration \n",
    "This tutorial uses a practical example of linear state-space models to show how to use <code>SAnalysis</code> for sensitivity analyses, and pymoo problems for parameters optimization with **CorrAI**. "
   ]
  },
  {
   "cell_type": "markdown",
   "id": "e892896d",
   "metadata": {},
   "source": [
    "## Load experimental data\n",
    "The test study is an experimental test cell called the Armadillo Box: a demonstration building of 42 m² floor area, designed for the 2010 European Solar Decathlon by the ENSAG-GAIA-INES team. The envelope is a light wood framed construction with integrated insulation. Heating and cooling is performed by a “3 in 1” heat pump, and photovoltaic solar panels provide recharge for electric vehicles. \n",
    "Experimental data was retrieved from Simon Rouchier's github page https://github.com/srouchier/buildingenergygeeks and model.The building is monitored by a variety of sensors, but the present study only uses records of indoor temperature and prescribed heating power, in addition to weather data. "
   ]
  },
  {
   "cell_type": "code",
   "execution_count": 8,
   "id": "b5ffe358",
   "metadata": {},
   "outputs": [
    {
     "name": "stderr",
     "output_type": "stream",
     "text": [
      "C:\\Users\\thubert\\AppData\\Local\\Temp\\ipykernel_1504\\52302469.py:1: UserWarning: Could not infer format, so each element will be parsed individually, falling back to `dateutil`. To ensure parsing is consistent and as-expected, please specify a format.\n",
      "  df = pd.read_csv(\n"
     ]
    }
   ],
   "source": [
    "df = pd.read_csv(\n",
    "    Path(r\"C:/Users/thubert/PycharmProjects/corrai/tutorials/resources/statespace.csv\"),\n",
    "    sep=\",\",\n",
    "    index_col=0,\n",
    "    parse_dates=True, \n",
    "    decimal=\".\"\n",
    ")"
   ]
  },
  {
   "cell_type": "code",
   "execution_count": 10,
   "id": "5518d6ef",
   "metadata": {},
   "outputs": [],
   "source": [
    "df[\"time_sec\"] = df.index\n",
    "inputs = df[['time_sec','T_ext', 'P_hea', 'I_sol', 'T_int']]"
   ]
  },
  {
   "cell_type": "markdown",
   "id": "71a1a9a1",
   "metadata": {},
   "source": [
    "Time is in seconds, let's convert this index into dates using method <code>combitabconvert</code> from library modelitool."
   ]
  },
  {
   "cell_type": "code",
   "execution_count": 11,
   "id": "e180fc5e",
   "metadata": {},
   "outputs": [],
   "source": [
    "from modelitool.combitabconvert import seconds_to_datetime"
   ]
  },
  {
   "cell_type": "code",
   "execution_count": 12,
   "id": "fd541996",
   "metadata": {},
   "outputs": [
    {
     "data": {
      "text/html": [
       "<div>\n",
       "<style scoped>\n",
       "    .dataframe tbody tr th:only-of-type {\n",
       "        vertical-align: middle;\n",
       "    }\n",
       "\n",
       "    .dataframe tbody tr th {\n",
       "        vertical-align: top;\n",
       "    }\n",
       "\n",
       "    .dataframe thead th {\n",
       "        text-align: right;\n",
       "    }\n",
       "</style>\n",
       "<table border=\"1\" class=\"dataframe\">\n",
       "  <thead>\n",
       "    <tr style=\"text-align: right;\">\n",
       "      <th></th>\n",
       "      <th>time_sec</th>\n",
       "      <th>T_ext</th>\n",
       "      <th>P_hea</th>\n",
       "      <th>I_sol</th>\n",
       "      <th>T_int</th>\n",
       "    </tr>\n",
       "    <tr>\n",
       "      <th>Time</th>\n",
       "      <th></th>\n",
       "      <th></th>\n",
       "      <th></th>\n",
       "      <th></th>\n",
       "      <th></th>\n",
       "    </tr>\n",
       "  </thead>\n",
       "  <tbody>\n",
       "    <tr>\n",
       "      <th>2023-01-01 00:00:00</th>\n",
       "      <td>0.0</td>\n",
       "      <td>16.233909</td>\n",
       "      <td>0.0</td>\n",
       "      <td>13.817618</td>\n",
       "      <td>30.281172</td>\n",
       "    </tr>\n",
       "    <tr>\n",
       "      <th>2023-01-01 00:30:00</th>\n",
       "      <td>1800.0</td>\n",
       "      <td>15.836256</td>\n",
       "      <td>0.0</td>\n",
       "      <td>13.828211</td>\n",
       "      <td>30.209944</td>\n",
       "    </tr>\n",
       "    <tr>\n",
       "      <th>2023-01-01 01:00:00</th>\n",
       "      <td>3600.0</td>\n",
       "      <td>15.484294</td>\n",
       "      <td>0.0</td>\n",
       "      <td>13.814245</td>\n",
       "      <td>30.155675</td>\n",
       "    </tr>\n",
       "    <tr>\n",
       "      <th>2023-01-01 01:30:00</th>\n",
       "      <td>5400.0</td>\n",
       "      <td>15.272714</td>\n",
       "      <td>0.0</td>\n",
       "      <td>13.847024</td>\n",
       "      <td>30.086922</td>\n",
       "    </tr>\n",
       "    <tr>\n",
       "      <th>2023-01-01 02:00:00</th>\n",
       "      <td>7200.0</td>\n",
       "      <td>14.999161</td>\n",
       "      <td>0.0</td>\n",
       "      <td>13.841355</td>\n",
       "      <td>30.023879</td>\n",
       "    </tr>\n",
       "    <tr>\n",
       "      <th>...</th>\n",
       "      <td>...</td>\n",
       "      <td>...</td>\n",
       "      <td>...</td>\n",
       "      <td>...</td>\n",
       "      <td>...</td>\n",
       "    </tr>\n",
       "    <tr>\n",
       "      <th>2023-01-04 15:30:00</th>\n",
       "      <td>315000.0</td>\n",
       "      <td>27.917201</td>\n",
       "      <td>0.0</td>\n",
       "      <td>482.038910</td>\n",
       "      <td>30.177581</td>\n",
       "    </tr>\n",
       "    <tr>\n",
       "      <th>2023-01-04 16:00:00</th>\n",
       "      <td>316800.0</td>\n",
       "      <td>28.147587</td>\n",
       "      <td>0.0</td>\n",
       "      <td>389.229309</td>\n",
       "      <td>30.164632</td>\n",
       "    </tr>\n",
       "    <tr>\n",
       "      <th>2023-01-04 16:30:00</th>\n",
       "      <td>318600.0</td>\n",
       "      <td>28.504467</td>\n",
       "      <td>0.0</td>\n",
       "      <td>474.254730</td>\n",
       "      <td>30.145209</td>\n",
       "    </tr>\n",
       "    <tr>\n",
       "      <th>2023-01-04 17:00:00</th>\n",
       "      <td>320400.0</td>\n",
       "      <td>27.698600</td>\n",
       "      <td>0.0</td>\n",
       "      <td>380.483002</td>\n",
       "      <td>30.132256</td>\n",
       "    </tr>\n",
       "    <tr>\n",
       "      <th>2023-01-04 17:30:00</th>\n",
       "      <td>322200.0</td>\n",
       "      <td>27.792093</td>\n",
       "      <td>0.0</td>\n",
       "      <td>160.045059</td>\n",
       "      <td>30.108997</td>\n",
       "    </tr>\n",
       "  </tbody>\n",
       "</table>\n",
       "<p>180 rows × 5 columns</p>\n",
       "</div>"
      ],
      "text/plain": [
       "                     time_sec      T_ext  P_hea       I_sol      T_int\n",
       "Time                                                                  \n",
       "2023-01-01 00:00:00       0.0  16.233909    0.0   13.817618  30.281172\n",
       "2023-01-01 00:30:00    1800.0  15.836256    0.0   13.828211  30.209944\n",
       "2023-01-01 01:00:00    3600.0  15.484294    0.0   13.814245  30.155675\n",
       "2023-01-01 01:30:00    5400.0  15.272714    0.0   13.847024  30.086922\n",
       "2023-01-01 02:00:00    7200.0  14.999161    0.0   13.841355  30.023879\n",
       "...                       ...        ...    ...         ...        ...\n",
       "2023-01-04 15:30:00  315000.0  27.917201    0.0  482.038910  30.177581\n",
       "2023-01-04 16:00:00  316800.0  28.147587    0.0  389.229309  30.164632\n",
       "2023-01-04 16:30:00  318600.0  28.504467    0.0  474.254730  30.145209\n",
       "2023-01-04 17:00:00  320400.0  27.698600    0.0  380.483002  30.132256\n",
       "2023-01-04 17:30:00  322200.0  27.792093    0.0  160.045059  30.108997\n",
       "\n",
       "[180 rows x 5 columns]"
      ]
     },
     "execution_count": 12,
     "metadata": {},
     "output_type": "execute_result"
    }
   ],
   "source": [
    "inputs.index = seconds_to_datetime(inputs.index, ref_year=2023)\n",
    "inputs"
   ]
  },
  {
   "cell_type": "code",
   "execution_count": 16,
   "id": "4ebece6f-f643-446c-be33-fba74af2d2de",
   "metadata": {},
   "outputs": [
    {
     "data": {
      "text/html": [
       "<div>\n",
       "<style scoped>\n",
       "    .dataframe tbody tr th:only-of-type {\n",
       "        vertical-align: middle;\n",
       "    }\n",
       "\n",
       "    .dataframe tbody tr th {\n",
       "        vertical-align: top;\n",
       "    }\n",
       "\n",
       "    .dataframe thead th {\n",
       "        text-align: right;\n",
       "    }\n",
       "</style>\n",
       "<table border=\"1\" class=\"dataframe\">\n",
       "  <thead>\n",
       "    <tr style=\"text-align: right;\">\n",
       "      <th></th>\n",
       "      <th>T_ext</th>\n",
       "      <th>P_hea</th>\n",
       "      <th>I_sol</th>\n",
       "      <th>T_int</th>\n",
       "    </tr>\n",
       "    <tr>\n",
       "      <th>Time</th>\n",
       "      <th></th>\n",
       "      <th></th>\n",
       "      <th></th>\n",
       "      <th></th>\n",
       "    </tr>\n",
       "  </thead>\n",
       "  <tbody>\n",
       "    <tr>\n",
       "      <th>2023-01-01 00:00:00</th>\n",
       "      <td>16.233909</td>\n",
       "      <td>0.0</td>\n",
       "      <td>13.817618</td>\n",
       "      <td>30.281172</td>\n",
       "    </tr>\n",
       "    <tr>\n",
       "      <th>2023-01-01 00:30:00</th>\n",
       "      <td>15.836256</td>\n",
       "      <td>0.0</td>\n",
       "      <td>13.828211</td>\n",
       "      <td>30.209944</td>\n",
       "    </tr>\n",
       "    <tr>\n",
       "      <th>2023-01-01 01:00:00</th>\n",
       "      <td>15.484294</td>\n",
       "      <td>0.0</td>\n",
       "      <td>13.814245</td>\n",
       "      <td>30.155675</td>\n",
       "    </tr>\n",
       "    <tr>\n",
       "      <th>2023-01-01 01:30:00</th>\n",
       "      <td>15.272714</td>\n",
       "      <td>0.0</td>\n",
       "      <td>13.847024</td>\n",
       "      <td>30.086922</td>\n",
       "    </tr>\n",
       "    <tr>\n",
       "      <th>2023-01-01 02:00:00</th>\n",
       "      <td>14.999161</td>\n",
       "      <td>0.0</td>\n",
       "      <td>13.841355</td>\n",
       "      <td>30.023879</td>\n",
       "    </tr>\n",
       "    <tr>\n",
       "      <th>...</th>\n",
       "      <td>...</td>\n",
       "      <td>...</td>\n",
       "      <td>...</td>\n",
       "      <td>...</td>\n",
       "    </tr>\n",
       "    <tr>\n",
       "      <th>2023-01-04 15:30:00</th>\n",
       "      <td>27.917201</td>\n",
       "      <td>0.0</td>\n",
       "      <td>482.038910</td>\n",
       "      <td>30.177581</td>\n",
       "    </tr>\n",
       "    <tr>\n",
       "      <th>2023-01-04 16:00:00</th>\n",
       "      <td>28.147587</td>\n",
       "      <td>0.0</td>\n",
       "      <td>389.229309</td>\n",
       "      <td>30.164632</td>\n",
       "    </tr>\n",
       "    <tr>\n",
       "      <th>2023-01-04 16:30:00</th>\n",
       "      <td>28.504467</td>\n",
       "      <td>0.0</td>\n",
       "      <td>474.254730</td>\n",
       "      <td>30.145209</td>\n",
       "    </tr>\n",
       "    <tr>\n",
       "      <th>2023-01-04 17:00:00</th>\n",
       "      <td>27.698600</td>\n",
       "      <td>0.0</td>\n",
       "      <td>380.483002</td>\n",
       "      <td>30.132256</td>\n",
       "    </tr>\n",
       "    <tr>\n",
       "      <th>2023-01-04 17:30:00</th>\n",
       "      <td>27.792093</td>\n",
       "      <td>0.0</td>\n",
       "      <td>160.045059</td>\n",
       "      <td>30.108997</td>\n",
       "    </tr>\n",
       "  </tbody>\n",
       "</table>\n",
       "<p>180 rows × 4 columns</p>\n",
       "</div>"
      ],
      "text/plain": [
       "                         T_ext  P_hea       I_sol      T_int\n",
       "Time                                                        \n",
       "2023-01-01 00:00:00  16.233909    0.0   13.817618  30.281172\n",
       "2023-01-01 00:30:00  15.836256    0.0   13.828211  30.209944\n",
       "2023-01-01 01:00:00  15.484294    0.0   13.814245  30.155675\n",
       "2023-01-01 01:30:00  15.272714    0.0   13.847024  30.086922\n",
       "2023-01-01 02:00:00  14.999161    0.0   13.841355  30.023879\n",
       "...                        ...    ...         ...        ...\n",
       "2023-01-04 15:30:00  27.917201    0.0  482.038910  30.177581\n",
       "2023-01-04 16:00:00  28.147587    0.0  389.229309  30.164632\n",
       "2023-01-04 16:30:00  28.504467    0.0  474.254730  30.145209\n",
       "2023-01-04 17:00:00  27.698600    0.0  380.483002  30.132256\n",
       "2023-01-04 17:30:00  27.792093    0.0  160.045059  30.108997\n",
       "\n",
       "[180 rows x 4 columns]"
      ]
     },
     "execution_count": 16,
     "metadata": {},
     "output_type": "execute_result"
    }
   ],
   "source": [
    "inputs =inputs.drop('time_sec', axis=1)"
   ]
  },
  {
   "cell_type": "code",
   "execution_count": 18,
   "id": "eee57027-8b00-4d6a-bdff-ffb47caf982a",
   "metadata": {},
   "outputs": [],
   "source": [
    "# inputs[\"T_ext\"] = inputs[\"T_ext\"]+273.15\n",
    "# inputs[\"T_int\"] = inputs[\"T_int\"]+273.15"
   ]
  },
  {
   "cell_type": "code",
   "execution_count": 13,
   "id": "b57c7ee8-9f6c-45ce-a643-95a909d7e094",
   "metadata": {},
   "outputs": [],
   "source": [
    "from modelitool.combitabconvert import df_to_combitimetable"
   ]
  },
  {
   "cell_type": "code",
   "execution_count": 21,
   "id": "d5fc6870-6aea-429b-8a6a-af7d1fd80922",
   "metadata": {},
   "outputs": [],
   "source": [
    "# df_to_combitimetable(inputs, \"C:/Users/thubert/OneDrive - NOBATEK/02 Projets NBK/14_Metabuilding/WP5/Models/boundary_file.txt\")"
   ]
  },
  {
   "cell_type": "markdown",
   "id": "10cdd54f",
   "metadata": {},
   "source": [
    "## Create a model\n",
    "We consider a simple implementation of a resistance-capacitance model for the used case. A deterministic formulation (based on Chapter 11.3  Deterministic formulation of https://buildingenergygeeks.org/a-simple-rc-model-python.html), using explicit discretisation, is proposed. Indoor and envelope temperature at time t+1 are functions of varibales at time t: \n",
    "\n",
    "\n",
    "$$\n",
    "T_{i}(t+1) = T_{i}(t) + dt \\cdot C_{i} \\left( \\frac{1}{R_{i}}(T_{e} - T_{i}) + \\Phi_{h} + A_{i}\\Phi_{s} \\right)\n",
    "$$\n",
    "\n",
    "$$\n",
    "T_{e}(t+1) = T_{e}(t) + dt \\cdot C_{e} \\left( \\frac{1}{R_{i}}(T_{i} - T_{e}) + \\frac{1}{R_{o}}(T_{o} - T_{e})+A_{e}\\Phi_{s} \\right)\n",
    "$$\n",
    "\n",
    "Where:\n",
    "- *T_{i}(t+1)* is the internal temperature at time *t+1*,\n",
    "- *T_{i}(t)* is the internal temperature at time *t*,\n",
    "- *T_{e}* is the external temperature,\n",
    "- *dt* is the time step,\n",
    "- *Ci* and *Ce* are the heat capacitances of the interior and the envelope,\n",
    "- *Re* is the resistance between the envelope and the ambient air,\n",
    "- *Ri* is the resistance between the indoor temperature and the envelope,\n",
    "- *Phi_{h}* is the indoor heating power,\n",
    "- *Ai* and *Ae* are the solar gain coefficient of the interior and the envelope,\n",
    "- *Phi_{s}* is the global horizontal solar irrandiance.\n",
    "\n",
    "We define this model as a python class, inheriting from base class Model, with a method simulate. \n",
    "As inputs, it takes : \n",
    "- simulation options (here, let's say inputs of the models)\n",
    "- a parameter dictionary containing Ri,Ro,Ci,Ce,Ai,Ae"
   ]
  },
  {
   "cell_type": "code",
   "execution_count": null,
   "id": "14ef4283",
   "metadata": {},
   "outputs": [],
   "source": [
    "from corrai.base.model import Model\n",
    "import numpy as np\n",
    "\n",
    "class SimpleRC(Model):\n",
    "    \n",
    "    def simulate(self, parameter_dict, simulation_options):\n",
    "\n",
    "        Ri, Ro, Ci, Ce, Ai, Ae = parameter_dict.values()\n",
    "\n",
    "        df = simulation_options[\"dataframe\"]\n",
    "        time = df[\"time_sec\"].values\n",
    "        to   = df[\"T_ext\"].values\n",
    "        phi_h = df[\"P_hea\"].values\n",
    "        phi_s = df[\"I_sol\"].values\n",
    "\n",
    "        ti = np.zeros(len(time))\n",
    "        te = np.zeros(len(time))\n",
    "\n",
    "        ti[0] = df['T_int'][0]\n",
    "        te[0] = (Ri * to[0] + Ro * ti[0]) / (Ri + Ro)\n",
    "\n",
    "        for t in range(1, len(time)):\n",
    "            dt = time[t] - time[t-1]\n",
    "            ti[t] = ti[t-1] + dt / Ci * ((te[t-1] - ti[t-1]) / Ri + phi_h[t-1] + Ai * phi_s[t-1])\n",
    "            te[t] = te[t-1] + dt / Ce * ((ti[t-1] - te[t-1]) / Ri + (to[t-1] - te[t-1]) / Ro + Ae * phi_s[t-1])\n",
    "        \n",
    "        df_out = pd.DataFrame(ti, columns=[\"Ti\"], index=df.index)\n",
    "\n",
    "        return df_out"
   ]
  },
  {
   "cell_type": "markdown",
   "id": "c5b59e23",
   "metadata": {},
   "source": [
    "We can instanciate the model, and run it with initial values as guesses."
   ]
  },
  {
   "cell_type": "code",
   "execution_count": null,
   "id": "53578c08",
   "metadata": {},
   "outputs": [],
   "source": [
    "simulation_options={\n",
    "    \"dataframe\":inputs\n",
    "}"
   ]
  },
  {
   "cell_type": "code",
   "execution_count": null,
   "id": "87fcddf3",
   "metadata": {},
   "outputs": [],
   "source": [
    "parameter_dict={\n",
    "    \"Ri\":0.01,\n",
    "    \"Ro\":0.01,\n",
    "    \"Ci\":1e6,\n",
    "    \"Ce\":1e7,\n",
    "    \"Ai\":5,\n",
    "    \"Ae\":5\n",
    "}"
   ]
  },
  {
   "cell_type": "code",
   "execution_count": null,
   "id": "cf6f5c20",
   "metadata": {},
   "outputs": [],
   "source": [
    "simple_rc = SimpleRC()\n",
    "result = simple_rc.simulate(\n",
    "    parameter_dict=parameter_dict, \n",
    "    simulation_options=simulation_options\n",
    ")"
   ]
  },
  {
   "cell_type": "code",
   "execution_count": null,
   "id": "bd2b185f",
   "metadata": {},
   "outputs": [],
   "source": [
    "import plotly.graph_objects as go\n",
    "\n",
    "fig = go.Figure()\n",
    "\n",
    "\n",
    "fig.add_trace(go.Scatter(\n",
    "    x=result.index,\n",
    "    y=result[\"Ti\"],\n",
    "    mode='lines',\n",
    "    line_color='brown',\n",
    "    name=\"Model_results\"\n",
    "))\n",
    "\n",
    "fig.add_trace(go.Scatter(\n",
    "    x=result.index,\n",
    "    y=df[\"T_int\"],\n",
    "    fill='tonexty', \n",
    "    mode='lines',\n",
    "    line_color='orange',\n",
    "    name=\"Reference_measure\"\n",
    "))\n",
    "\n",
    "fig.update_layout(\n",
    "    title='Simulation result',\n",
    "    xaxis_title='Date',\n",
    "    yaxis_title='Temperature [°C]')\n",
    "\n",
    "fig.show()"
   ]
  },
  {
   "cell_type": "markdown",
   "id": "8ea43749",
   "metadata": {},
   "source": [
    "## Sensitity analysis\n",
    "We use first a sensitivity analysis to \"rank\" the parameters by order of influence on the error between measured temperature and model prediction.\n",
    "\n",
    "The chosen error function is the CV_RMSE. The formula for CV_RMSE is given by:\n",
    "\n",
    "$$\n",
    "CV\\_RMSE = \\frac{RMSE}{\\bar{y}}\n",
    "$$\n",
    "\n",
    "Where:\n",
    "- *RMSE* is the root mean squared error,\n",
    "- *bar{y}* is the mean of the observed values.\n",
    "\n",
    "The RMSE is calculated as:\n",
    "\n",
    "$$\n",
    "RMSE = \\sqrt{\\frac{1}{n} \\sum_{i=1}^{n} (y_i - \\hat{y}_i)^2}\n",
    "$$\n",
    "\n",
    "Where:\n",
    "- *n* is the number of observations,\n",
    "- *y_i* is the observed value for the \\( i \\)-th observation,\n",
    "- *hat{y}_i* is the predicted value for the \\( i \\)-th observation.\n",
    "\n",
    "The CV_RMSE measures the variation of the RMSE relative to the mean of the observed values. It provides a standardized measure of the error, which can be useful for comparing the performance of different models across different datasets.\n",
    "\n",
    "\n",
    "The chosen parameters are all the model parameters θ=(Ri,Ro,Ci,Ce,Ai,Ae). They must be described using a dictionary.\n",
    "\n",
    "As you can see, simulation results are very inaccurate and give very high temperatures.  We should use the measurement to obtain optimal values of parameters. "
   ]
  },
  {
   "cell_type": "code",
   "execution_count": null,
   "id": "50986366",
   "metadata": {},
   "outputs": [],
   "source": [
    "from corrai.base.parameter import Parameter"
   ]
  },
  {
   "cell_type": "code",
   "execution_count": null,
   "id": "46855032",
   "metadata": {},
   "outputs": [],
   "source": [
    "id_param = [\n",
    "    {Parameter.NAME: \"Ri\", Parameter.INTERVAL: (0.004, 0.006), Parameter.TYPE: \"Real\"},\n",
    "    {Parameter.NAME: \"Ro\", Parameter.INTERVAL: (0.045, 0.055), Parameter.TYPE: \"Real\"},\n",
    "    {Parameter.NAME: \"Ci\", Parameter.INTERVAL: (4e6, 7e6), Parameter.TYPE: \"Real\"},\n",
    "    {Parameter.NAME: \"Ce\", Parameter.INTERVAL: (1.3e7, 2.3e7), Parameter.TYPE: \"Real\"},\n",
    "    {Parameter.NAME: \"Ai\", Parameter.INTERVAL: (-2, 0.5), Parameter.TYPE: \"Real\"},\n",
    "    {Parameter.NAME: \"Ae\", Parameter.INTERVAL: (-2, 3), Parameter.TYPE: \"Real\"},\n",
    "]"
   ]
  },
  {
   "cell_type": "markdown",
   "id": "0021577e",
   "metadata": {},
   "source": [
    "We can now use a <code>SAnalysis</code> to set-up the study. We have to pass\n",
    "the <code>Simulator</code> previously describe, along with the corresponding\n",
    " problem description. A Sensitivity Analysis is also required. In this case we choose Sobol\n",
    ", as there is few uncertain parameter.\n",
    "\n",
    "*Note: for now only <code>SOBOL</code>, <code>FAST</code>, <code>RDB_FAST</code>, \n",
    "and <code>MORRIS</code> methods are implemented.*"
   ]
  },
  {
   "cell_type": "code",
   "execution_count": null,
   "id": "9fed65a4",
   "metadata": {},
   "outputs": [],
   "source": [
    "from corrai.sensitivity import SAnalysis, Method\n",
    "\n",
    "sa_study = SAnalysis(\n",
    "    parameters_list=id_param,\n",
    "    method=Method.RDB_FAST,\n",
    ")"
   ]
  },
  {
   "cell_type": "markdown",
   "id": "3ccfece4",
   "metadata": {},
   "source": [
    "We draw a sample of parameters to simulate. Each method has its sampling method.\n",
    "Please see SALib documentation for further explanation (https://salib.readthedocs.io/en/latest/index.html)\n",
    "\n",
    "Note: Convergence properties of the Sobol' sequence is only valid if\n",
    "        `N` (100) is equal to `2^n`.\n",
    "        N (int) – The number of samples to generate. Ideally a power of 2 and <= skip_values."
   ]
  },
  {
   "cell_type": "code",
   "execution_count": null,
   "id": "4fa6b009",
   "metadata": {},
   "outputs": [],
   "source": [
    "sa_study.draw_sample(\n",
    "    n=512, \n",
    "    sampling_kwargs={\n",
    "#         \"scramble\":True,\n",
    "#         \"skip_values\":2,\n",
    "#         \"calc_second_order\": True, \n",
    "#         \"seed\": 42\n",
    "    }\n",
    ")"
   ]
  },
  {
   "cell_type": "markdown",
   "id": "ab1910c7",
   "metadata": {},
   "source": [
    "The sample is available as a 2d array <code>sa_study.sample</code>. Lines are simulations\n",
    "to run and columns are parameters values.\n",
    "\n",
    "Let's run the simulations. **CAREFUL depending on your computer, it can take a long time (up to 30')**"
   ]
  },
  {
   "cell_type": "code",
   "execution_count": null,
   "id": "948e2f6f",
   "metadata": {},
   "outputs": [],
   "source": [
    "sa_study.evaluate(\n",
    "    model = simple_rc, \n",
    "    simulation_options=simulation_options,\n",
    "    n_cpu=1\n",
    ")"
   ]
  },
  {
   "cell_type": "markdown",
   "id": "c64118a4",
   "metadata": {},
   "source": [
    "We can plot all simulations in one graph and compare the simulated internal temperature to measured T_int. Argument <code>show_legends</code> can be set to True if you want see associated parameters values."
   ]
  },
  {
   "cell_type": "code",
   "execution_count": null,
   "id": "6354669b",
   "metadata": {},
   "outputs": [],
   "source": [
    "from corrai.sensitivity import plot_sample"
   ]
  },
  {
   "cell_type": "code",
   "execution_count": null,
   "id": "51888ea7",
   "metadata": {},
   "outputs": [],
   "source": [
    "plot_sample(\n",
    "    sample_results=sa_study.sample_results,\n",
    "    ref=inputs[\"T_int\"],\n",
    "    indicator=\"Ti\",\n",
    "    show_legends=True,\n",
    ")"
   ]
  },
  {
   "cell_type": "markdown",
   "id": "9e0991a3",
   "metadata": {},
   "source": [
    "We can also look at results using a parallel coordinate plots <code>plot_pcp</code> for all parameters values and an indicator. \n",
    " \n",
    "- A simple indicator would be the mean (by Default) of \"Ti\"\n",
    "- Or you can choose a reference and an aggregation method. \n",
    "\n",
    "For a small cv_rmse, values of parameters are  quite spread out on their intervals. It can mean that optimization might not be easy, as multiple values provide the same minimization. "
   ]
  },
  {
   "cell_type": "code",
   "execution_count": null,
   "id": "6e370821",
   "metadata": {},
   "outputs": [],
   "source": [
    "from corrai.sensitivity import plot_pcp\n",
    "from corrai.metrics import nmbe, cv_rmse\n",
    "\n",
    "plot_pcp(\n",
    "    sample_results=sa_study.sample_results,\n",
    "    parameters=id_param,\n",
    "    indicators=['Ti'],\n",
    "    reference=inputs[\"T_int\"],\n",
    "    reference_aggregation=nmbe,\n",
    ")"
   ]
  },
  {
   "cell_type": "markdown",
   "id": "cb644f64",
   "metadata": {},
   "source": [
    "Now that all simulations are run, we can analyze these results regarding an indicator with method <code>analyze</code>. We can either choose an aggregation method on Ti (for instance the average temperature throughout the timerange of simulations), or an aggregation function between predicted and measured temperatures."
   ]
  },
  {
   "cell_type": "code",
   "execution_count": null,
   "id": "50a70d7b",
   "metadata": {},
   "outputs": [],
   "source": [
    "from corrai.metrics import cv_rmse\n",
    "\n",
    "sa_study.analyze(\n",
    "    indicator=\"Ti\",\n",
    "    reference_df=inputs[\"T_int\"].to_frame(),\n",
    "    agg_method=cv_rmse,\n",
    ")"
   ]
  },
  {
   "cell_type": "markdown",
   "id": "1cd5f4b9",
   "metadata": {},
   "source": [
    "We can now have a look at the sensitivity analysis results.\n",
    "They are stored in <code>sensitivity_results</code>. It holds the output formatted\n",
    "by <code>SALib</code>.\n",
    "\n",
    "According to the method used, we can sum the indices of partial or total order. You can do it manually or using method <code>calculate_sensitivity_summary</code>."
   ]
  },
  {
   "cell_type": "code",
   "execution_count": null,
   "id": "867fca03",
   "metadata": {},
   "outputs": [],
   "source": [
    "sa_study.calculate_sensitivity_summary()"
   ]
  },
  {
   "cell_type": "markdown",
   "id": "2d6cdc9a",
   "metadata": {},
   "source": [
    "The sum of all the indices is very close to 1. Also, the mean confidence interval\n",
    "seems to be very low. Results of the sensitivity analysis appear to be robust.\n",
    "We can also plot the results. For Morris analysis, the elementary effect can be observed using <code>plot_morris_scatter</code> "
   ]
  },
  {
   "cell_type": "code",
   "execution_count": null,
   "id": "a7e927aa",
   "metadata": {},
   "outputs": [],
   "source": [
    "from corrai.sensitivity import plot_morris_scatter \n",
    "plot_morris_scatter(salib_res=sa_study.sensitivity_results, title='Elementary effects', unit='J', autosize=True) "
   ]
  },
  {
   "cell_type": "markdown",
   "id": "eda62e0d",
   "metadata": {},
   "source": [
    "For Sobol analysis, you can direcltly use  <code>plot_sobol_st_bar</code> "
   ]
  },
  {
   "cell_type": "code",
   "execution_count": null,
   "id": "071e0dd3",
   "metadata": {},
   "outputs": [],
   "source": [
    "from corrai.sensitivity import plot_sobol_st_bar\n",
    "plot_sobol_st_bar(sa_study.sample_results)"
   ]
  },
  {
   "cell_type": "markdown",
   "id": "ad2085e4",
   "metadata": {},
   "source": [
    "Otherwise:"
   ]
  },
  {
   "cell_type": "code",
   "execution_count": null,
   "id": "4bacc8ba",
   "metadata": {},
   "outputs": [],
   "source": [
    "import plotly.graph_objects as go\n",
    "\n",
    "# Retrieve results\n",
    "S1 = sa_study.sensitivity_results['S1']\n",
    "S1_conf = sa_study.sensitivity_results['S1_conf']\n",
    "names = sa_study.sensitivity_results['names']\n",
    "\n",
    "fig = go.Figure()\n",
    "\n",
    "fig.add_trace(go.Bar(\n",
    "    x=names,\n",
    "    y=S1,\n",
    "    error_y=dict(\n",
    "        type='data',\n",
    "        array=S1_conf,\n",
    "        visible=True\n",
    "    ),\n",
    "    marker=dict(color='orange')  \n",
    "))\n",
    "\n",
    "fig.update_layout(\n",
    "    title='Sensitivity indices with error bars',\n",
    "    xaxis=dict(title='Parameter'),\n",
    "    yaxis=dict(title='Indices')\n",
    ")\n",
    "\n",
    "# Afficher le graphique\n",
    "fig.show()\n"
   ]
  },
  {
   "cell_type": "markdown",
   "id": "9cef65b4",
   "metadata": {},
   "source": [
    "# Conclusion on sensitivity analysis\n",
    "\n",
    "The sensitivity analysis allows us to rank the influence of uncertain parameter\n",
    "on an indicator. In this case we choose the $CV RMSE$ between model output\n",
    "and measurement.\n",
    "\n",
    "It shows here that the most influential parameters are Ai and Ae, which is comforting for their optimization as the parallel coordinate plot shows a rather limited range for small nmbe and cv_rmse for these parameters.\n",
    "\n",
    "In the following chapter, we will see how to use corrai to identify the\n",
    "optimal values for these parameters in order to fit the measurement."
   ]
  },
  {
   "cell_type": "markdown",
   "id": "6f4662e4",
   "metadata": {},
   "source": [
    "# Optimization\n",
    "Now we can find optimal values for these parameters, minimizing the cv_rmse between the measured indoor temperature and the output of the function we just defined. \n",
    "For this, we created in multi_optimize two classes, MyProblem and MyMixedProblem, to define problems for pymoo use. \n",
    "They take as arguments: \n",
    "- parameters (as they were defined with enumerators earlier in id_params). \n",
    "- list of object functions, as long as they have a \"function\" method (they can be useful for Modelica models transcripted into python, for instance)\n",
    "- list of functions to minimize\n",
    "- variable function names\n",
    "- constraint names \n",
    "\n",
    "In Pymoo, each objective function is supposed to be minimized, and each constraint needs to be provided in the form of ≤0. For maximization, use inverse functions.\n",
    "\n",
    "Let's define an aggregation function to minimize for our model, using as argument a parameter dictionary. "
   ]
  },
  {
   "cell_type": "code",
   "execution_count": null,
   "id": "0f04706e",
   "metadata": {},
   "outputs": [],
   "source": [
    "def RC_function(x_dict):\n",
    "    model = SimpleRC()\n",
    "    simulated_data = model.simulate(x_dict, simulation_options)\n",
    "    y_pred = simulated_data[\"Ti\"]\n",
    "    y_true = simulation_options[\"dataframe\"][\"T_int\"]\n",
    "    return pd.Series(cv_rmse(y_pred, y_true), dtype=\"float64\", index=[\"Ti\"])"
   ]
  },
  {
   "cell_type": "markdown",
   "id": "4998077e",
   "metadata": {},
   "source": [
    "Now, instanciate the pymoo problem. For problems using Real parameters, use <code>MyProblem</code>. For problems with mixes variables (Parameter.TYPE can be either Real, Integer, Descrete, Choice), use <code>MyMixedProblem</code>."
   ]
  },
  {
   "cell_type": "code",
   "execution_count": null,
   "id": "ff9c4d22",
   "metadata": {},
   "outputs": [],
   "source": [
    "from corrai.multi_optimize import MyProblem \n",
    "\n",
    "problem = MyProblem(\n",
    "                parameters=id_param,\n",
    "                obj_func_list=[],\n",
    "                func_list=[RC_function],\n",
    "                function_names=[\"Ti\"],\n",
    "                constraint_names=[],\n",
    "            )"
   ]
  },
  {
   "cell_type": "code",
   "execution_count": null,
   "id": "bac18852",
   "metadata": {},
   "outputs": [],
   "source": [
    "from pymoo.algorithms.soo.nonconvex.ga import GA\n",
    "from pymoo.problems import get_problem\n",
    "from pymoo.optimize import minimize\n",
    "\n",
    "algorithm = GA(\n",
    "    pop_size=100,\n",
    "    eliminate_duplicates=True)\n",
    "\n",
    "res = minimize(problem,\n",
    "               algorithm,\n",
    "               seed=1,\n",
    "               verbose=False)\n",
    "\n",
    "print(\"Best solution found: \\nX = %s\\nF = %s\" % (res.X, res.F))"
   ]
  },
  {
   "cell_type": "markdown",
   "id": "38a02b93",
   "metadata": {},
   "source": [
    "The estimated parameters seem consistent with our expectations. We can compare the profile of measured indoor temperature with the output that the model predicts given the identified optimal parameters. "
   ]
  },
  {
   "cell_type": "code",
   "execution_count": null,
   "id": "7048e1fe",
   "metadata": {},
   "outputs": [],
   "source": [
    "parameter_dict = {param: res.X[i] for i, param in enumerate([\"Ri\", \"Ro\", \"Ci\", \"Ce\", \"Ai\", \"Ae\"])}"
   ]
  },
  {
   "cell_type": "code",
   "execution_count": null,
   "id": "d3fc33a1",
   "metadata": {},
   "outputs": [],
   "source": [
    "result_optim = simple_rc.simulate(\n",
    "    parameter_dict=parameter_dict, \n",
    "    simulation_options=simulation_options\n",
    ")"
   ]
  },
  {
   "cell_type": "code",
   "execution_count": null,
   "id": "48e4a5e2",
   "metadata": {},
   "outputs": [],
   "source": [
    "import plotly.graph_objects as go\n",
    "\n",
    "fig = go.Figure()\n",
    "fig.add_trace(go.Scatter(\n",
    "    x=result_optim.index,\n",
    "    y=result_optim[\"Ti\"],\n",
    "    fill=None,\n",
    "    mode='lines',\n",
    "    line_color='brown',\n",
    "    name=\"Optim_results\"\n",
    "))\n",
    "\n",
    "fig.add_trace(go.Scatter(\n",
    "    x=result.index,\n",
    "    y=df[\"T_int\"],\n",
    "    fill='tonexty', \n",
    "    mode='lines',\n",
    "    line_color='orange',\n",
    "    name=\"Reference_measure\"\n",
    "))\n",
    "\n",
    "fig.update_layout(\n",
    "    title='Optimization vs. Reality ',\n",
    "    xaxis_title='Date',\n",
    "    yaxis_title='Temperature [°C]')\n",
    "\n",
    "fig.show()"
   ]
  },
  {
   "cell_type": "markdown",
   "id": "9a90d036",
   "metadata": {},
   "source": [
    "## Conclusion on the optimization\n",
    "We have executed an algorithm and obtained a solution set.\n",
    "\n",
    "As a remininder, you can use MyProblem for more than one objective, and with constraints as well. Choose wisely the suited algorithm (https://pymoo.org/algorithms/list.html#nb-algorithms-list) as well as their customization (poopulation size, generation, termination, etc.). \n",
    "\n",
    "Also, use convergence analysis by keeping track of the optimization progress, and storing information while running the algorithms using the argument <code>save_history"
   ]
  },
  {
   "cell_type": "code",
   "execution_count": null,
   "id": "83795ca1",
   "metadata": {},
   "outputs": [],
   "source": [
    "res = minimize(problem,\n",
    "               algorithm,\n",
    "               seed=1,\n",
    "               verbose=False,\n",
    "               save_history=True)\n",
    "\n",
    "hist = res.history\n",
    "print(len(hist))"
   ]
  },
  {
   "cell_type": "code",
   "execution_count": null,
   "id": "e1416721",
   "metadata": {},
   "outputs": [],
   "source": [
    "from pymoo.util.running_metric import RunningMetricAnimation\n",
    "\n",
    "running = RunningMetricAnimation(delta_gen=5,\n",
    "                        n_plots=3,\n",
    "                        key_press=False,\n",
    "                        do_show=True)\n",
    "\n",
    "for algorithm in res.history[:15]:\n",
    "    running.update(algorithm)"
   ]
  },
  {
   "cell_type": "code",
   "execution_count": null,
   "id": "ff4b2786",
   "metadata": {},
   "outputs": [],
   "source": []
  }
 ],
 "metadata": {
  "kernelspec": {
   "display_name": "Python 3 (ipykernel)",
   "language": "python",
   "name": "python3"
  },
  "language_info": {
   "codemirror_mode": {
    "name": "ipython",
    "version": 3
   },
   "file_extension": ".py",
   "mimetype": "text/x-python",
   "name": "python",
   "nbconvert_exporter": "python",
   "pygments_lexer": "ipython3",
   "version": "3.10.13"
  }
 },
 "nbformat": 4,
 "nbformat_minor": 5
}
